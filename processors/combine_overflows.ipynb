{
 "metadata": {
  "language_info": {
   "codemirror_mode": {
    "name": "ipython",
    "version": 3
   },
   "file_extension": ".py",
   "mimetype": "text/x-python",
   "name": "python",
   "nbconvert_exporter": "python",
   "pygments_lexer": "ipython3",
   "version": "3.10.8-final"
  },
  "orig_nbformat": 2,
  "kernelspec": {
   "name": "python3",
   "display_name": "Python 3 (ipykernel)",
   "language": "python"
  }
 },
 "nbformat": 4,
 "nbformat_minor": 2,
 "cells": [
  {
   "cell_type": "code",
   "execution_count": 464,
   "metadata": {},
   "outputs": [],
   "source": [
    "import pandas as pd\n",
    "from utils import extract_val_from_volume"
   ]
  },
  {
   "cell_type": "code",
   "execution_count": 465,
   "metadata": {},
   "outputs": [],
   "source": [
    "csv_file_1 = '../data/2019-bypass-overflow.csv'\n",
    "csv_file_2 = '../data/2020-bypass-overflow.csv'\n",
    "csv_file_3 = '../data/2021-bypass-overflow.csv'\n",
    "csv_file_4 = '../data/2022_overflow_data.csv'\n",
    "csv_locations = '../data/locations.csv'\n",
    "table_name = 'overflows_staging'\n",
    "\n",
    "DEFAULT_COLUMNS = {\n",
    "\t'location',\n",
    "\t'start_date',\n",
    "\t'start_time',\n",
    "\t'stop_date',\n",
    "\t'stop_time',\n",
    "\t'duration',\n",
    "\t'volume',\n",
    "\t'disinfection',\n",
    "\t'reason_code'\n",
    "}\n",
    "\n",
    "df1 = pd.read_csv(csv_file_1)\n",
    "df2 = pd.read_csv(csv_file_2)\n",
    "df3 = pd.read_csv(csv_file_3)\n",
    "df4 = pd.read_csv(csv_file_4)\n",
    "locations = pd.read_csv(csv_locations)"
   ]
  },
  {
   "cell_type": "code",
   "execution_count": 466,
   "metadata": {},
   "outputs": [],
   "source": [
    "df_three = pd.concat([df1, df2, df3])\n",
    "df_three = df_three.rename(columns={'end_date': 'stop_date', 'end_time': 'stop_time'})\n",
    "df_three = df_three[DEFAULT_COLUMNS]"
   ]
  },
  {
   "cell_type": "code",
   "execution_count": 467,
   "metadata": {},
   "outputs": [],
   "source": [
    "df4['start_date'] = pd.to_datetime(df4['initiation']).dt.date\n",
    "df4['start_time'] = pd.to_datetime(df4['initiation']).dt.time\n",
    "df4['stop_date'] = pd.to_datetime(df4['completion']).dt.date\n",
    "df4['stop_time'] = pd.to_datetime(df4['completion']).dt.time\n",
    "\n",
    "df4.rename(columns={'cso_outfall': 'location'}, inplace=True)\n",
    "df4['disinfection'] = ''\n",
    "df4['reason_code'] = ''\n",
    "df4['volume'] = df4['volume'].apply(extract_val_from_volume)\n",
    "\n",
    "df4 = pd.merge(df4, locations, on=['location'])\n",
    "df4 = df4.drop(['location'], axis=1)\n",
    "\n",
    "df4.rename(columns={'id': 'location'}, inplace=True)\n",
    "df4.replace({'duration': ' hrs'}, {'duration': ''}, regex=True, inplace=True)\n",
    "\n",
    "df4 = df4[DEFAULT_COLUMNS]"
   ]
  },
  {
   "cell_type": "code",
   "execution_count": 468,
   "metadata": {},
   "outputs": [],
   "source": [
    "# COMBINE ALL HISTORICAL TABLES\n",
    "\n",
    "result = pd.concat([df_three, df4])"
   ]
  },
  {
   "cell_type": "code",
   "execution_count": 469,
   "metadata": {},
   "outputs": [],
   "source": [
    "result.to_csv('../data/historical_overflows.csv', index=False)"
   ]
  },
  {
   "cell_type": "code",
   "execution_count": null,
   "metadata": {},
   "outputs": [],
   "source": []
  }
 ]
}