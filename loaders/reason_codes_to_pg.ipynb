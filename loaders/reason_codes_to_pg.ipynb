{
 "metadata": {
  "language_info": {
   "codemirror_mode": {
    "name": "ipython",
    "version": 3
   },
   "file_extension": ".py",
   "mimetype": "text/x-python",
   "name": "python",
   "nbconvert_exporter": "python",
   "pygments_lexer": "ipython3",
   "version": "3.10.8-final"
  },
  "orig_nbformat": 2,
  "kernelspec": {
   "name": "python3",
   "display_name": "Python 3.10.8 64-bit ('py': conda)",
   "metadata": {
    "interpreter": {
     "hash": "7856a25c784c5eb001f52aeb902a67fecc80e8b32874d8f1aefa899bbf55ebe3"
    }
   }
  }
 },
 "nbformat": 4,
 "nbformat_minor": 2,
 "cells": [
  {
   "cell_type": "code",
   "execution_count": 7,
   "metadata": {},
   "outputs": [],
   "source": [
    "import pandas as pd\n",
    "from utils import docker_pg_engine"
   ]
  },
  {
   "cell_type": "code",
   "execution_count": 8,
   "metadata": {},
   "outputs": [],
   "source": [
    "engine = docker_pg_engine()\n",
    "reason_codes_csv = '../data/reason_codes.csv'\n",
    "table_name = 'reason_codes'\n",
    "\n",
    "df = pd.read_csv(reason_codes_csv)"
   ]
  },
  {
   "cell_type": "code",
   "execution_count": 9,
   "metadata": {},
   "outputs": [],
   "source": [
    "try:\n",
    "    df.to_sql(name=table_name, con=engine, if_exists='replace', index=False)\n",
    "except:\n",
    "    print(\"An error occured!\")\n",
    "finally:\n",
    "    engine.dispose()"
   ]
  }
 ]
}