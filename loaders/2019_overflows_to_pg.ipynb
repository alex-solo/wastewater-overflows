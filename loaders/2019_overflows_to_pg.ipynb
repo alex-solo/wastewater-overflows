{
 "metadata": {
  "language_info": {
   "codemirror_mode": {
    "name": "ipython",
    "version": 3
   },
   "file_extension": ".py",
   "mimetype": "text/x-python",
   "name": "python",
   "nbconvert_exporter": "python",
   "pygments_lexer": "ipython3",
   "version": "3.10.8-final"
  },
  "orig_nbformat": 2,
  "kernelspec": {
   "name": "python3",
   "display_name": "Python 3.10.8 64-bit ('py': conda)",
   "metadata": {
    "interpreter": {
     "hash": "7856a25c784c5eb001f52aeb902a67fecc80e8b32874d8f1aefa899bbf55ebe3"
    }
   }
  }
 },
 "nbformat": 4,
 "nbformat_minor": 2,
 "cells": [
  {
   "cell_type": "code",
   "execution_count": 46,
   "metadata": {},
   "outputs": [],
   "source": [
    "import pandas as pd\n",
    "from utils import docker_pg_engine\n",
    "from sqlalchemy.types import String, Date, Time, Numeric"
   ]
  },
  {
   "cell_type": "code",
   "execution_count": 47,
   "metadata": {},
   "outputs": [],
   "source": [
    "engine = docker_pg_engine()\n",
    "csv_file = '../data/2019-bypass-overflow.csv'\n",
    "table_name = 'overflows_staging'\n",
    "\n",
    "DEFAULT_COLUMNS = {\n",
    "\t'location',\n",
    "\t'start_date',\n",
    "\t'start_time',\n",
    "\t'stop_date',\n",
    "\t'stop_time',\n",
    "\t'duration',\n",
    "\t'volume',\n",
    "\t'disinfection',\n",
    "\t'reason_code'\n",
    "}\n",
    "\n",
    "df = pd.read_csv(csv_file)"
   ]
  },
  {
   "cell_type": "code",
   "execution_count": 48,
   "metadata": {},
   "outputs": [],
   "source": [
    "df = df.rename(columns={'end_date': 'stop_date', 'end_time': 'stop_time'})\n",
    "df_to_upload = df[DEFAULT_COLUMNS]"
   ]
  },
  {
   "cell_type": "code",
   "execution_count": 49,
   "metadata": {},
   "outputs": [],
   "source": [
    "try:\n",
    "    df_to_upload.to_sql(name=table_name, con=engine, if_exists='replace', index=False)\n",
    "except:\n",
    "    print(\"An error occured!\")\n",
    "finally:\n",
    "    engine.dispose()"
   ]
  }
 ]
}