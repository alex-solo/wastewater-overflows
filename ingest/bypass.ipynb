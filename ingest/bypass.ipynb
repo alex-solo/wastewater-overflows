{
 "cells": [
  {
   "cell_type": "code",
   "execution_count": 31,
   "id": "03b6633d",
   "metadata": {},
   "outputs": [],
   "source": [
    "import requests\n",
    "from bs4 import BeautifulSoup\n",
    "import pandas as pd"
   ]
  },
  {
   "cell_type": "code",
   "execution_count": 3,
   "id": "a4f48418",
   "metadata": {},
   "outputs": [],
   "source": [
    "bypass_URL = 'https://www.hamilton.ca/home-neighbourhood/water-wastewater-stormwater/wastewater-collection-treatment/monitoring'"
   ]
  },
  {
   "cell_type": "code",
   "execution_count": 6,
   "id": "36532d59",
   "metadata": {},
   "outputs": [],
   "source": [
    "response = requests.get(bypass_URL)"
   ]
  },
  {
   "cell_type": "code",
   "execution_count": 7,
   "id": "f3c54fdd",
   "metadata": {},
   "outputs": [
    {
     "data": {
      "text/plain": [
       "200"
      ]
     },
     "execution_count": 7,
     "metadata": {},
     "output_type": "execute_result"
    }
   ],
   "source": [
    "response.status_code"
   ]
  },
  {
   "cell_type": "code",
   "execution_count": 9,
   "id": "63e0eccd",
   "metadata": {},
   "outputs": [],
   "source": [
    "doc = BeautifulSoup(response.text, 'html.parser')"
   ]
  },
  {
   "cell_type": "code",
   "execution_count": 10,
   "id": "a649726d",
   "metadata": {},
   "outputs": [
    {
     "data": {
      "text/plain": [
       "<title>Monitoring Wastewater Overflows and Bypasses | City of Hamilton</title>"
      ]
     },
     "execution_count": 10,
     "metadata": {},
     "output_type": "execute_result"
    }
   ],
   "source": [
    "doc.title"
   ]
  },
  {
   "cell_type": "code",
   "execution_count": 15,
   "id": "3c69289b",
   "metadata": {},
   "outputs": [],
   "source": [
    "bypass_table = doc.find_all('table')[0]"
   ]
  },
  {
   "cell_type": "code",
   "execution_count": 27,
   "id": "36a26b63",
   "metadata": {},
   "outputs": [],
   "source": [
    "table_columns = []\n",
    "for i in bypass_table.find_all('th'):\n",
    "    column_name = i.text.lower()\n",
    "    table_columns.append(column_name)"
   ]
  },
  {
   "cell_type": "code",
   "execution_count": 28,
   "id": "63004637",
   "metadata": {},
   "outputs": [
    {
     "data": {
      "text/plain": [
       "['initiation',\n",
       " 'completion',\n",
       " 'wastewater treatment plant',\n",
       " 'type of bypass',\n",
       " 'duration',\n",
       " 'volume']"
      ]
     },
     "execution_count": 28,
     "metadata": {},
     "output_type": "execute_result"
    }
   ],
   "source": [
    "table_columns"
   ]
  },
  {
   "cell_type": "code",
   "execution_count": 29,
   "id": "902835d1",
   "metadata": {},
   "outputs": [],
   "source": [
    "table_data = pd.DataFrame(columns = table_columns)"
   ]
  },
  {
   "cell_type": "code",
   "execution_count": 30,
   "id": "4b4b6f72",
   "metadata": {},
   "outputs": [
    {
     "data": {
      "text/html": [
       "<div>\n",
       "<style scoped>\n",
       "    .dataframe tbody tr th:only-of-type {\n",
       "        vertical-align: middle;\n",
       "    }\n",
       "\n",
       "    .dataframe tbody tr th {\n",
       "        vertical-align: top;\n",
       "    }\n",
       "\n",
       "    .dataframe thead th {\n",
       "        text-align: right;\n",
       "    }\n",
       "</style>\n",
       "<table border=\"1\" class=\"dataframe\">\n",
       "  <thead>\n",
       "    <tr style=\"text-align: right;\">\n",
       "      <th></th>\n",
       "      <th>initiation</th>\n",
       "      <th>completion</th>\n",
       "      <th>wastewater treatment plant</th>\n",
       "      <th>type of bypass</th>\n",
       "      <th>duration</th>\n",
       "      <th>volume</th>\n",
       "    </tr>\n",
       "  </thead>\n",
       "  <tbody>\n",
       "  </tbody>\n",
       "</table>\n",
       "</div>"
      ],
      "text/plain": [
       "Empty DataFrame\n",
       "Columns: [initiation, completion, wastewater treatment plant, type of bypass, duration, volume]\n",
       "Index: []"
      ]
     },
     "execution_count": 30,
     "metadata": {},
     "output_type": "execute_result"
    }
   ],
   "source": [
    "table_data"
   ]
  },
  {
   "cell_type": "code",
   "execution_count": null,
   "id": "ec136ee0",
   "metadata": {},
   "outputs": [],
   "source": []
  }
 ],
 "metadata": {
  "kernelspec": {
   "display_name": "Python 3 (ipykernel)",
   "language": "python",
   "name": "python3"
  },
  "language_info": {
   "codemirror_mode": {
    "name": "ipython",
    "version": 3
   },
   "file_extension": ".py",
   "mimetype": "text/x-python",
   "name": "python",
   "nbconvert_exporter": "python",
   "pygments_lexer": "ipython3",
   "version": "3.10.8"
  }
 },
 "nbformat": 4,
 "nbformat_minor": 5
}
