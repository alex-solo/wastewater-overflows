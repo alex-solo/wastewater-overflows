{
 "cells": [
  {
   "cell_type": "code",
   "execution_count": 33,
   "id": "03b6633d",
   "metadata": {},
   "outputs": [],
   "source": [
    "import requests\n",
    "from bs4 import BeautifulSoup\n",
    "import pandas as pd\n",
    "from utils import snake_case"
   ]
  },
  {
   "cell_type": "code",
   "execution_count": 34,
   "id": "a4f48418",
   "metadata": {},
   "outputs": [],
   "source": [
    "bypass_URL = 'https://www.hamilton.ca/home-neighbourhood/water-wastewater-stormwater/wastewater-collection-treatment/monitoring'"
   ]
  },
  {
   "cell_type": "code",
   "execution_count": 35,
   "id": "36532d59",
   "metadata": {},
   "outputs": [],
   "source": [
    "response = requests.get(bypass_URL)"
   ]
  },
  {
   "cell_type": "code",
   "execution_count": 36,
   "id": "63e0eccd",
   "metadata": {},
   "outputs": [],
   "source": [
    "doc = BeautifulSoup(response.text, 'html.parser')"
   ]
  },
  {
   "cell_type": "code",
   "execution_count": 37,
   "id": "3c69289b",
   "metadata": {},
   "outputs": [],
   "source": [
    "bypass_table = doc.find_all('table')[0]"
   ]
  },
  {
   "cell_type": "code",
   "execution_count": 38,
   "id": "36a26b63",
   "metadata": {},
   "outputs": [],
   "source": [
    "table_columns = []\n",
    "for i in bypass_table.find_all('th'):\n",
    "    column_name = snake_case(i.text.lower())\n",
    "    table_columns.append(column_name)"
   ]
  },
  {
   "cell_type": "code",
   "execution_count": 39,
   "id": "902835d1",
   "metadata": {},
   "outputs": [],
   "source": [
    "table_data = pd.DataFrame(columns = table_columns)"
   ]
  },
  {
   "cell_type": "code",
   "execution_count": 40,
   "id": "4b4b6f72",
   "metadata": {},
   "outputs": [],
   "source": [
    "for j in bypass_table.find_all('tr')[1:]:\n",
    " row_data = j.find_all('td')\n",
    " row = [i.text for i in row_data]\n",
    " length = len(table_data)\n",
    " table_data.loc[length] = row"
   ]
  },
  {
   "cell_type": "code",
   "execution_count": 41,
   "id": "ec136ee0",
   "metadata": {},
   "outputs": [],
   "source": [
    "table_data.to_csv('../data/bypass_data.csv', index=False)"
   ]
  },
  {
   "cell_type": "code",
   "execution_count": 42,
   "metadata": {},
   "outputs": [],
   "source": [
    "table_data_read = pd.read_csv('bypass_data.csv')"
   ]
  },
  {
   "cell_type": "code",
   "execution_count": 43,
   "metadata": {},
   "outputs": [
    {
     "output_type": "execute_result",
     "data": {
      "text/plain": [
       "          initiation       completion wastewater_treatment_plant  \\\n",
       "0   12/15/2022 13:23  12/16/2022 9:18              Woodward WWTP   \n",
       "1    9/12/2022 11:30  9/12/2022 13:39              Woodward WWTP   \n",
       "2    7/20/2022 23:05   7/20/2022 2:49              Woodward WWTP   \n",
       "3     7/18/2022 7:21  7/18/2022 10:05              Woodward WWTP   \n",
       "4      6/7/2022 9:29   6/7/2022 17:03              Woodward WWTP   \n",
       "5     5/3/2022 19:30    5/5/2022 0:48              Woodward WWTP   \n",
       "6    3/23/2022 23:35   3/24/2022 1:16              Woodward WWTP   \n",
       "7    3/23/2022 21:10  3/24/2022 17:08              Woodward WWTP   \n",
       "8     3/6/2022 14:16   3/6/2022 21:20              Woodward WWTP   \n",
       "9    2/22/2022 15:36   2/24/2022 0:21              Woodward WWTP   \n",
       "10    2/17/2022 5:08   2/19/2022 1:51              Woodward WWTP   \n",
       "\n",
       "      type_of_bypass   duration                  volume  \n",
       "0   Secondary Bypass  19.92 hrs  41.960 milllion liters  \n",
       "1   Secondary Bypass   2.16 hrs   21.442 million liters  \n",
       "2   Secondary Bypass   3.73 hrs   25.087 million litres  \n",
       "3   Secondary Bypass   2.73 hrs   28.062 million litres  \n",
       "4   Secondary Bypass   7.56 hrs   79.128 million litres  \n",
       "5   Secondary Bypass  29.31 hrs  289.341 million litres  \n",
       "6   Headworks Bypass   1.69 hrs   16.080 million litres  \n",
       "7   Secondary Bypass  19.97 hrs  248.256 million litres  \n",
       "8   Secondary Bypass   7.06 hrs   55.983 million litres  \n",
       "9   Secondary Bypass  32.73 hrs  327.240 million litres  \n",
       "10  Secondary Bypass  44.71 hrs  541.728 million litres  "
      ],
      "text/html": "<div>\n<style scoped>\n    .dataframe tbody tr th:only-of-type {\n        vertical-align: middle;\n    }\n\n    .dataframe tbody tr th {\n        vertical-align: top;\n    }\n\n    .dataframe thead th {\n        text-align: right;\n    }\n</style>\n<table border=\"1\" class=\"dataframe\">\n  <thead>\n    <tr style=\"text-align: right;\">\n      <th></th>\n      <th>initiation</th>\n      <th>completion</th>\n      <th>wastewater_treatment_plant</th>\n      <th>type_of_bypass</th>\n      <th>duration</th>\n      <th>volume</th>\n    </tr>\n  </thead>\n  <tbody>\n    <tr>\n      <th>0</th>\n      <td>12/15/2022 13:23</td>\n      <td>12/16/2022 9:18</td>\n      <td>Woodward WWTP</td>\n      <td>Secondary Bypass</td>\n      <td>19.92 hrs</td>\n      <td>41.960 milllion liters</td>\n    </tr>\n    <tr>\n      <th>1</th>\n      <td>9/12/2022 11:30</td>\n      <td>9/12/2022 13:39</td>\n      <td>Woodward WWTP</td>\n      <td>Secondary Bypass</td>\n      <td>2.16 hrs</td>\n      <td>21.442 million liters</td>\n    </tr>\n    <tr>\n      <th>2</th>\n      <td>7/20/2022 23:05</td>\n      <td>7/20/2022 2:49</td>\n      <td>Woodward WWTP</td>\n      <td>Secondary Bypass</td>\n      <td>3.73 hrs</td>\n      <td>25.087 million litres</td>\n    </tr>\n    <tr>\n      <th>3</th>\n      <td>7/18/2022 7:21</td>\n      <td>7/18/2022 10:05</td>\n      <td>Woodward WWTP</td>\n      <td>Secondary Bypass</td>\n      <td>2.73 hrs</td>\n      <td>28.062 million litres</td>\n    </tr>\n    <tr>\n      <th>4</th>\n      <td>6/7/2022 9:29</td>\n      <td>6/7/2022 17:03</td>\n      <td>Woodward WWTP</td>\n      <td>Secondary Bypass</td>\n      <td>7.56 hrs</td>\n      <td>79.128 million litres</td>\n    </tr>\n    <tr>\n      <th>5</th>\n      <td>5/3/2022 19:30</td>\n      <td>5/5/2022 0:48</td>\n      <td>Woodward WWTP</td>\n      <td>Secondary Bypass</td>\n      <td>29.31 hrs</td>\n      <td>289.341 million litres</td>\n    </tr>\n    <tr>\n      <th>6</th>\n      <td>3/23/2022 23:35</td>\n      <td>3/24/2022 1:16</td>\n      <td>Woodward WWTP</td>\n      <td>Headworks Bypass</td>\n      <td>1.69 hrs</td>\n      <td>16.080 million litres</td>\n    </tr>\n    <tr>\n      <th>7</th>\n      <td>3/23/2022 21:10</td>\n      <td>3/24/2022 17:08</td>\n      <td>Woodward WWTP</td>\n      <td>Secondary Bypass</td>\n      <td>19.97 hrs</td>\n      <td>248.256 million litres</td>\n    </tr>\n    <tr>\n      <th>8</th>\n      <td>3/6/2022 14:16</td>\n      <td>3/6/2022 21:20</td>\n      <td>Woodward WWTP</td>\n      <td>Secondary Bypass</td>\n      <td>7.06 hrs</td>\n      <td>55.983 million litres</td>\n    </tr>\n    <tr>\n      <th>9</th>\n      <td>2/22/2022 15:36</td>\n      <td>2/24/2022 0:21</td>\n      <td>Woodward WWTP</td>\n      <td>Secondary Bypass</td>\n      <td>32.73 hrs</td>\n      <td>327.240 million litres</td>\n    </tr>\n    <tr>\n      <th>10</th>\n      <td>2/17/2022 5:08</td>\n      <td>2/19/2022 1:51</td>\n      <td>Woodward WWTP</td>\n      <td>Secondary Bypass</td>\n      <td>44.71 hrs</td>\n      <td>541.728 million litres</td>\n    </tr>\n  </tbody>\n</table>\n</div>"
     },
     "metadata": {},
     "execution_count": 43
    }
   ],
   "source": [
    "table_data_read"
   ]
  },
  {
   "cell_type": "code",
   "execution_count": null,
   "metadata": {},
   "outputs": [],
   "source": []
  }
 ],
 "metadata": {
  "kernelspec": {
   "display_name": "Python 3 (ipykernel)",
   "language": "python",
   "name": "python3"
  },
  "language_info": {
   "codemirror_mode": {
    "name": "ipython",
    "version": 3
   },
   "file_extension": ".py",
   "mimetype": "text/x-python",
   "name": "python",
   "nbconvert_exporter": "python",
   "pygments_lexer": "ipython3",
   "version": "3.10.8-final"
  }
 },
 "nbformat": 4,
 "nbformat_minor": 5
}