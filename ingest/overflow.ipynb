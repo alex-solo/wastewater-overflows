{
 "metadata": {
  "language_info": {
   "codemirror_mode": {
    "name": "ipython",
    "version": 3
   },
   "file_extension": ".py",
   "mimetype": "text/x-python",
   "name": "python",
   "nbconvert_exporter": "python",
   "pygments_lexer": "ipython3",
   "version": "3.8.8-final"
  },
  "orig_nbformat": 2,
  "kernelspec": {
   "name": "python3",
   "display_name": "Python 3.8.8 64-bit ('base': conda)",
   "metadata": {
    "interpreter": {
     "hash": "70190bd7b5f8139f23831cf9f53c50ff6c809f597c0527f057542699fe874853"
    }
   }
  }
 },
 "nbformat": 4,
 "nbformat_minor": 2,
 "cells": [
  {
   "cell_type": "code",
   "execution_count": 11,
   "metadata": {},
   "outputs": [],
   "source": [
    "import requests\n",
    "from bs4 import BeautifulSoup\n",
    "import pandas as pd\n",
    "from utils import snake_case"
   ]
  },
  {
   "cell_type": "code",
   "execution_count": 12,
   "metadata": {},
   "outputs": [],
   "source": [
    "overflow_URL = 'https://www.hamilton.ca/home-neighbourhood/water-wastewater-stormwater/wastewater-collection-treatment/monitoring'"
   ]
  },
  {
   "cell_type": "code",
   "execution_count": 13,
   "metadata": {},
   "outputs": [],
   "source": [
    "response = requests.get(overflow_URL)"
   ]
  },
  {
   "cell_type": "code",
   "execution_count": 14,
   "metadata": {},
   "outputs": [],
   "source": [
    "doc = BeautifulSoup(response.text, 'html.parser')"
   ]
  },
  {
   "cell_type": "code",
   "execution_count": 22,
   "metadata": {},
   "outputs": [],
   "source": [
    "overflow_table = doc.find_all('table')[1]"
   ]
  },
  {
   "cell_type": "code",
   "execution_count": 24,
   "metadata": {},
   "outputs": [],
   "source": [
    "table_columns = []\n",
    "for i in overflow_table.find_all('th'):\n",
    "    column_name = snake_case(i.text.lower())\n",
    "    table_columns.append(column_name)"
   ]
  },
  {
   "cell_type": "code",
   "execution_count": 26,
   "metadata": {},
   "outputs": [],
   "source": [
    "table_data = pd.DataFrame(columns = table_columns)"
   ]
  },
  {
   "cell_type": "code",
   "execution_count": 27,
   "metadata": {},
   "outputs": [],
   "source": [
    "for j in overflow_table.find_all('tr')[1:]:\n",
    " row_data = j.find_all('td')\n",
    " row = [i.text for i in row_data]\n",
    " length = len(table_data)\n",
    " table_data.loc[length] = row"
   ]
  },
  {
   "cell_type": "code",
   "execution_count": 30,
   "metadata": {},
   "outputs": [],
   "source": [
    "table_data.to_csv('overflow_data.csv', index=False)"
   ]
  },
  {
   "cell_type": "code",
   "execution_count": 32,
   "metadata": {},
   "outputs": [],
   "source": [
    "table_data_read = pd.read_csv('overflow_data.csv')"
   ]
  },
  {
   "cell_type": "code",
   "execution_count": 33,
   "metadata": {},
   "outputs": [
    {
     "output_type": "execute_result",
     "data": {
      "text/plain": [
       "          initiation        completion                       cso_outfall  \\\n",
       "0   12/15/2022 13:23  12/15/2022 20:42             Wentworth CSO Outfall   \n",
       "1     12/3/2022 9:14   12/3/2022 11:10             Wentworth CSO Outfall   \n",
       "2    11/30/2022 4:07  11/30/2022 11:18             Wentworth CSO Outfall   \n",
       "3   11/11/2022 12:30  11/11/2022 15:38             Wentworth CSO Outfall   \n",
       "4     11/6/2022 0:40    11/6/2022 1:14             Wentworth CSO Outfall   \n",
       "..               ...               ...                               ...   \n",
       "76    2/17/2022 4:06   2/17/2022 16:04  Pleasant/Edenbridge Pump Station   \n",
       "77    2/17/2022 3:29   2/17/2022 19:02             Wentworth CSO Outfall   \n",
       "78   2/11/2022 15:49   2/11/2022 20:06             Wentworth CSO Outfall   \n",
       "79    2/2/2022 19:12    2/2/2022 20:21             Wentworth CSO Outfall   \n",
       "80    2/2/2022 15:34    2/2/2022 19:49            Wellington CSO Outfall   \n",
       "\n",
       "     duration                                     volume  \n",
       "0    8.85 hrs  No flow metering present at this location  \n",
       "1    1.60 hrs  No flow metering present at this location  \n",
       "2    3.63 hrs  No flow metering present at this location  \n",
       "3    1.63 hrs  No flow metering present at this location  \n",
       "4    0.56 hrs  No flow metering present at this location  \n",
       "..        ...                                        ...  \n",
       "76   0.28 hrs                      70.47 thousand litres  \n",
       "77  11.97 hrs  No flow metering present at this location  \n",
       "78   2.71 hrs  No flow metering present at this location  \n",
       "79   1.16 hrs  No flow metering present at this location  \n",
       "80   3.42 hrs  No flow metering present at this location  \n",
       "\n",
       "[81 rows x 5 columns]"
      ],
      "text/html": "<div>\n<style scoped>\n    .dataframe tbody tr th:only-of-type {\n        vertical-align: middle;\n    }\n\n    .dataframe tbody tr th {\n        vertical-align: top;\n    }\n\n    .dataframe thead th {\n        text-align: right;\n    }\n</style>\n<table border=\"1\" class=\"dataframe\">\n  <thead>\n    <tr style=\"text-align: right;\">\n      <th></th>\n      <th>initiation</th>\n      <th>completion</th>\n      <th>cso_outfall</th>\n      <th>duration</th>\n      <th>volume</th>\n    </tr>\n  </thead>\n  <tbody>\n    <tr>\n      <th>0</th>\n      <td>12/15/2022 13:23</td>\n      <td>12/15/2022 20:42</td>\n      <td>Wentworth CSO Outfall</td>\n      <td>8.85 hrs</td>\n      <td>No flow metering present at this location</td>\n    </tr>\n    <tr>\n      <th>1</th>\n      <td>12/3/2022 9:14</td>\n      <td>12/3/2022 11:10</td>\n      <td>Wentworth CSO Outfall</td>\n      <td>1.60 hrs</td>\n      <td>No flow metering present at this location</td>\n    </tr>\n    <tr>\n      <th>2</th>\n      <td>11/30/2022 4:07</td>\n      <td>11/30/2022 11:18</td>\n      <td>Wentworth CSO Outfall</td>\n      <td>3.63 hrs</td>\n      <td>No flow metering present at this location</td>\n    </tr>\n    <tr>\n      <th>3</th>\n      <td>11/11/2022 12:30</td>\n      <td>11/11/2022 15:38</td>\n      <td>Wentworth CSO Outfall</td>\n      <td>1.63 hrs</td>\n      <td>No flow metering present at this location</td>\n    </tr>\n    <tr>\n      <th>4</th>\n      <td>11/6/2022 0:40</td>\n      <td>11/6/2022 1:14</td>\n      <td>Wentworth CSO Outfall</td>\n      <td>0.56 hrs</td>\n      <td>No flow metering present at this location</td>\n    </tr>\n    <tr>\n      <th>...</th>\n      <td>...</td>\n      <td>...</td>\n      <td>...</td>\n      <td>...</td>\n      <td>...</td>\n    </tr>\n    <tr>\n      <th>76</th>\n      <td>2/17/2022 4:06</td>\n      <td>2/17/2022 16:04</td>\n      <td>Pleasant/Edenbridge Pump Station</td>\n      <td>0.28 hrs</td>\n      <td>70.47 thousand litres</td>\n    </tr>\n    <tr>\n      <th>77</th>\n      <td>2/17/2022 3:29</td>\n      <td>2/17/2022 19:02</td>\n      <td>Wentworth CSO Outfall</td>\n      <td>11.97 hrs</td>\n      <td>No flow metering present at this location</td>\n    </tr>\n    <tr>\n      <th>78</th>\n      <td>2/11/2022 15:49</td>\n      <td>2/11/2022 20:06</td>\n      <td>Wentworth CSO Outfall</td>\n      <td>2.71 hrs</td>\n      <td>No flow metering present at this location</td>\n    </tr>\n    <tr>\n      <th>79</th>\n      <td>2/2/2022 19:12</td>\n      <td>2/2/2022 20:21</td>\n      <td>Wentworth CSO Outfall</td>\n      <td>1.16 hrs</td>\n      <td>No flow metering present at this location</td>\n    </tr>\n    <tr>\n      <th>80</th>\n      <td>2/2/2022 15:34</td>\n      <td>2/2/2022 19:49</td>\n      <td>Wellington CSO Outfall</td>\n      <td>3.42 hrs</td>\n      <td>No flow metering present at this location</td>\n    </tr>\n  </tbody>\n</table>\n<p>81 rows × 5 columns</p>\n</div>"
     },
     "metadata": {},
     "execution_count": 33
    }
   ],
   "source": [
    "table_data_read"
   ]
  },
  {
   "cell_type": "code",
   "execution_count": null,
   "metadata": {},
   "outputs": [],
   "source": []
  }
 ]
}