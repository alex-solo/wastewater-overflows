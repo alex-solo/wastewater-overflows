{
 "metadata": {
  "language_info": {
   "codemirror_mode": {
    "name": "ipython",
    "version": 3
   },
   "file_extension": ".py",
   "mimetype": "text/x-python",
   "name": "python",
   "nbconvert_exporter": "python",
   "pygments_lexer": "ipython3",
   "version": "3.10.8-final"
  },
  "orig_nbformat": 2,
  "kernelspec": {
   "name": "python3",
   "display_name": "Python 3 (ipykernel)",
   "language": "python"
  }
 },
 "nbformat": 4,
 "nbformat_minor": 2,
 "cells": [
  {
   "cell_type": "code",
   "execution_count": 441,
   "metadata": {},
   "outputs": [],
   "source": [
    "import tabula\n",
    "import pandas as pd"
   ]
  },
  {
   "cell_type": "code",
   "execution_count": 442,
   "metadata": {},
   "outputs": [],
   "source": [
    "left = 95.53\n",
    "top = 82.86\n",
    "width = 656.64\n",
    "height = 475.07\n",
    "\n",
    "y1 = top\n",
    "x1 = left\n",
    "y2 = top + height\n",
    "x2 = left + width"
   ]
  },
  {
   "cell_type": "code",
   "execution_count": 443,
   "metadata": {},
   "outputs": [],
   "source": [
    "df_tabula = tabula.read_pdf(\"../data/wastewatercollection-2020-bypass-overflow-log.pdf\", pages='all', area=[y1, x1, y2, x2])"
   ]
  },
  {
   "cell_type": "code",
   "execution_count": 444,
   "metadata": {},
   "outputs": [],
   "source": [
    "df1 = pd.DataFrame(df_tabula[0])\n",
    "df2 = pd.DataFrame(df_tabula[1])\n",
    "df3 = pd.DataFrame(df_tabula[2])\n",
    "df4 = pd.DataFrame(df_tabula[3])"
   ]
  },
  {
   "cell_type": "code",
   "execution_count": 445,
   "metadata": {},
   "outputs": [],
   "source": [
    "columns = {\n",
    "    'Event #': 'event_id', \n",
    "    'Date\\ryyyy-mm-dd': 'start_date', \n",
    "    'Time': 'start_time', \n",
    "    'Unnamed: 1': 'location', \n",
    "    'Date\\ryyyy-mm-dd.1': 'end_date', \n",
    "    'Time.1': 'end_time', \n",
    "    'Hours': 'duration', \n",
    "    'ML': 'volume', \n",
    "    'Yes / No': 'disinfection',\n",
    "    'Code': 'reason_code',\n",
    "    'TBOD\\rmg/L': 'TBOD(mg/L)',\n",
    "    'cBOD\\rmg/L': 'cBOD(mg/L)',\n",
    "    'TSS\\rmg/L': 'TSS(mg/L)',\n",
    "    'TP\\rmg/L': 'TP(mg/L)',\n",
    "    'E.coli\\rCFU/100ml': 'EColi(CFU/100ml)',\n",
    "    'pH': 'final_effluent_pH',\n",
    "    'Total Cl\\rmg/L': 'final_effluent_total_ci(mg/L)'\n",
    "}\n",
    "\n",
    "df1 = df1.rename(columns=columns)\n",
    "df2 = df2.rename(columns=columns)\n",
    "df3 = df3.rename(columns=columns)\n",
    "df4 = df4.rename(columns=columns)"
   ]
  },
  {
   "cell_type": "code",
   "execution_count": 446,
   "metadata": {},
   "outputs": [],
   "source": [
    "# TABLE 1\n",
    "\n",
    "df1 = df1.drop('Unnamed: 0', axis=1)\n",
    "df2 = df2.drop('Unnamed: 0', axis=1)\n",
    "df3 = df3.drop('Unnamed: 0', axis=1)\n",
    "df4 = df4.drop('Unnamed: 0', axis=1)"
   ]
  },
  {
   "cell_type": "code",
   "execution_count": 447,
   "metadata": {},
   "outputs": [],
   "source": [
    "df1.at[3, 'end_time'] = '17:25'\n",
    "df1.at[3, 'duration'] = '46.923'\n",
    "df1.at[3, 'volume'] = '412.148'\n",
    "df1 = df1.drop(4)"
   ]
  },
  {
   "cell_type": "code",
   "execution_count": 448,
   "metadata": {},
   "outputs": [],
   "source": [
    "df1.at[9, 'end_date'] = '2020-01-12'\n",
    "df1.at[9, 'end_time'] = '07:38'\n",
    "df1.at[9, 'duration'] = '10.53'\n",
    "df1.at[9, 'volume'] = '15.33'\n",
    "df1 = df1.drop(10)"
   ]
  },
  {
   "cell_type": "code",
   "execution_count": 449,
   "metadata": {},
   "outputs": [],
   "source": [
    "df1.at[25, 'end_time'] = '17:54'\n",
    "df1.at[25, 'duration'] = '4.26'\n",
    "df1 = df1.drop(26)\n",
    "df1 = df1.drop(27)"
   ]
  },
  {
   "cell_type": "code",
   "execution_count": 450,
   "metadata": {},
   "outputs": [],
   "source": [
    "df1.at[31, 'end_time'] = '15:54'\n",
    "df1.at[31, 'duration'] = '5.57'\n",
    "df1 = df1.drop(32)"
   ]
  },
  {
   "cell_type": "code",
   "execution_count": 451,
   "metadata": {},
   "outputs": [],
   "source": [
    "df1.at[33, 'end_time'] = '11:05'\n",
    "df1.at[33, 'duration'] = '5.26'\n",
    "df1 = df1.drop(34)\n",
    "df1 = df1.drop(35)"
   ]
  },
  {
   "cell_type": "code",
   "execution_count": 452,
   "metadata": {},
   "outputs": [],
   "source": [
    "df1.at[39, 'end_time'] = '15:41'\n",
    "df1.at[39, 'duration'] = '4.75'\n",
    "df1 = df1.drop(40)"
   ]
  },
  {
   "cell_type": "code",
   "execution_count": 453,
   "metadata": {},
   "outputs": [],
   "source": [
    "df1.at[43, 'end_time'] = '10:11'\n",
    "df1.at[43, 'duration'] = '5.59'\n",
    "df1 = df1.drop(44)"
   ]
  },
  {
   "cell_type": "code",
   "execution_count": 454,
   "metadata": {},
   "outputs": [],
   "source": [
    "df1_last_row = df1.iloc[[36]].shift(periods=1, axis=\"columns\")\n",
    "df1.iloc[[36]] = df1_last_row\n",
    "df1.at[45, 'event_id'] = 37"
   ]
  },
  {
   "cell_type": "code",
   "execution_count": 455,
   "metadata": {},
   "outputs": [],
   "source": [
    "# TABLE 2\n",
    "\n",
    "df2.at[0, 'end_time'] = '07:55'\n",
    "df2.at[0, 'duration'] = '5.48'\n",
    "df2 = df2.drop(1)\n"
   ]
  },
  {
   "cell_type": "code",
   "execution_count": 456,
   "metadata": {},
   "outputs": [],
   "source": [
    "df2.at[2, 'end_time'] = '09:15'\n",
    "df2.at[2, 'duration'] = '5.25'\n",
    "df2 = df2.drop(3)"
   ]
  },
  {
   "cell_type": "code",
   "execution_count": 457,
   "metadata": {},
   "outputs": [],
   "source": [
    "df2.at[6, 'end_time'] = '19:48'\n",
    "df2.at[6, 'duration'] = '3.17'\n",
    "df2 = df2.drop(7)\n",
    "df2 = df2.drop(8)\n",
    "df2 = df2.drop(9)"
   ]
  },
  {
   "cell_type": "code",
   "execution_count": 458,
   "metadata": {},
   "outputs": [],
   "source": [
    "df2.at[10, 'end_time'] = '18:28'\n",
    "df2.at[10, 'duration'] = '1.2'\n",
    "df2 = df2.drop(11)"
   ]
  },
  {
   "cell_type": "code",
   "execution_count": 459,
   "metadata": {},
   "outputs": [],
   "source": [
    "df2.at[13, 'end_date'] = '2020-05-18'\n",
    "df2.at[13, 'end_time'] = '21.41'\n",
    "df2.at[13, 'duration'] = '15.16'\n",
    "df2 = df2.drop(14)\n",
    "df2 = df2.drop(15)\n",
    "df2 = df2.drop(16)\n",
    "df2 = df2.drop(17)\n",
    "df2 = df2.drop(18)\n",
    "df2 = df2.drop(19)"
   ]
  },
  {
   "cell_type": "code",
   "execution_count": 460,
   "metadata": {},
   "outputs": [],
   "source": [
    "df2.at[20, 'end_date'] = '2020-05-19'\n",
    "df2.at[20, 'end_time'] = '00:16'\n",
    "df2.at[20, 'duration'] = '11.95'\n",
    "df2 = df2.drop(21)"
   ]
  },
  {
   "cell_type": "code",
   "execution_count": 461,
   "metadata": {},
   "outputs": [],
   "source": [
    "df2.at[22, 'end_time'] = '16:17'\n",
    "df2.at[22, 'duration'] = '1.97'\n",
    "df2 = df2.drop(23)"
   ]
  },
  {
   "cell_type": "code",
   "execution_count": 462,
   "metadata": {},
   "outputs": [],
   "source": [
    "df2.at[24, 'end_time'] = '16:55'\n",
    "df2.at[24, 'duration'] = '1.94'\n",
    "df2 = df2.drop(25)"
   ]
  },
  {
   "cell_type": "code",
   "execution_count": 463,
   "metadata": {},
   "outputs": [],
   "source": [
    "df2.at[27, 'end_date'] = '2020-06-11'\n",
    "df2.at[27, 'end_time'] = '01:06'\n",
    "df2.at[27, 'duration'] = '4.03'\n",
    "df2 = df2.drop(28)\n",
    "df2 = df2.drop(29)"
   ]
  },
  {
   "cell_type": "code",
   "execution_count": 464,
   "metadata": {},
   "outputs": [],
   "source": [
    "df2.at[32, 'end_time'] = '23:54'\n",
    "df2.at[32, 'duration'] = '19:48'\n",
    "df2 = df2.drop(33)"
   ]
  },
  {
   "cell_type": "code",
   "execution_count": 465,
   "metadata": {},
   "outputs": [],
   "source": [
    "df2.at[37, 'end_date'] = '2020-07-11'\n",
    "df2.at[37, 'end_time'] = '00:06'\n",
    "df2.at[37, 'duration'] = '2.38'\n",
    "df2 = df2.drop(38)"
   ]
  },
  {
   "cell_type": "code",
   "execution_count": 466,
   "metadata": {},
   "outputs": [],
   "source": [
    "df2.at[39, 'end_date'] = '2020-07-11'\n",
    "df2.at[39, 'end_time'] = '01:17'\n",
    "df2.at[39, 'duration'] = '4.33'\n",
    "df2 = df2.drop(40)"
   ]
  },
  {
   "cell_type": "code",
   "execution_count": 467,
   "metadata": {},
   "outputs": [],
   "source": [
    "df2_last_row = df2.iloc[[22]].shift(periods=1, axis=\"columns\")\n",
    "df2.iloc[[22]] = df2_last_row\n",
    "df2.at[42, 'event_id'] = 61"
   ]
  },
  {
   "cell_type": "code",
   "execution_count": 468,
   "metadata": {},
   "outputs": [],
   "source": [
    "df2_missing_row = pd.DataFrame(data={\n",
    "    'event_id': [62],\n",
    "    'start_date': ['2020-07-19'],\n",
    "    'start_time': ['12:49'],\n",
    "    'location': ['HCG03'],\n",
    "    'end_date': ['2020-07-19'],\n",
    "    'end_time': ['13:17'],\n",
    "    'duration': [0.47],\n",
    "    'volume': ['n/a'],\n",
    "    'disinfection': ['No'],\n",
    "    'reason_code': ['1,7'],\n",
    "    'TBOD(mg/L)': ['n/a'],\n",
    "    'cBOD(mg/L)': ['n/a'],\n",
    "    'TSS(mg/L)': ['n/a'],\n",
    "    'TP(mg/L)': ['n/a'],\n",
    "    'EColi(CFU/100ml)': ['n/a'],\n",
    "    'final_effluent_pH': ['n/a'],\n",
    "    'final_effluent_total_ci(mg/L)': ['n/a']\n",
    "})"
   ]
  },
  {
   "cell_type": "code",
   "execution_count": 469,
   "metadata": {},
   "outputs": [],
   "source": [
    "df2 = pd.concat([df2, df2_missing_row])"
   ]
  },
  {
   "cell_type": "code",
   "execution_count": 470,
   "metadata": {},
   "outputs": [],
   "source": [
    "# TABLE 3\n",
    "\n",
    "df3.at[1, 'end_time'] = '09:45'\n",
    "df3.at[1, 'duration'] = '2.76'\n",
    "df3 = df3.drop(2)\n",
    "df3 = df3.drop(3)\n",
    "df3 = df3.drop(4)\n",
    "df3 = df3.drop(5)"
   ]
  },
  {
   "cell_type": "code",
   "execution_count": 471,
   "metadata": {},
   "outputs": [],
   "source": [
    "df3.at[6, 'end_time'] = '09:57'\n",
    "df3.at[6, 'duration'] = '1.35'\n",
    "df3 = df3.drop(7)"
   ]
  },
  {
   "cell_type": "code",
   "execution_count": 472,
   "metadata": {},
   "outputs": [],
   "source": [
    "df3.at[9, 'end_time'] = '22:52'\n",
    "df3.at[9, 'duration'] = '2.62'\n",
    "df3 = df3.drop(10)"
   ]
  },
  {
   "cell_type": "code",
   "execution_count": 473,
   "metadata": {},
   "outputs": [],
   "source": [
    "df3.at[18, 'end_time'] = '22:02'\n",
    "df3.at[18, 'duration'] = '1.30'\n",
    "df3 = df3.drop(19)"
   ]
  },
  {
   "cell_type": "code",
   "execution_count": 474,
   "metadata": {},
   "outputs": [],
   "source": [
    "df3.at[21, 'end_time'] = '22:42'\n",
    "df3.at[21, 'duration'] = '6.26'\n",
    "df3 = df3.drop(22)"
   ]
  },
  {
   "cell_type": "code",
   "execution_count": 475,
   "metadata": {},
   "outputs": [],
   "source": [
    "df3.at[28, 'end_time'] = '10:04'\n",
    "df3.at[28, 'duration'] = '1.25'\n",
    "df3 = df3.drop(29)"
   ]
  },
  {
   "cell_type": "code",
   "execution_count": 476,
   "metadata": {},
   "outputs": [],
   "source": [
    "df3.at[31, 'end_date'] = '2020-09-29'\n",
    "df3.at[31, 'end_time'] = '00:58'\n",
    "df3.at[31, 'duration'] = '2.51'\n",
    "df3 = df3.drop(32)\n",
    "df3 = df3.drop(33)\n",
    "df3 = df3.drop(34)\n"
   ]
  },
  {
   "cell_type": "code",
   "execution_count": 477,
   "metadata": {},
   "outputs": [],
   "source": [
    "df3.at[35, 'end_date'] = '2020-09-29'\n",
    "df3.at[35, 'end_time'] = '00:56'\n",
    "df3.at[35, 'duration'] = '1.07'\n",
    "df3 = df3.drop(36)"
   ]
  },
  {
   "cell_type": "code",
   "execution_count": 478,
   "metadata": {},
   "outputs": [],
   "source": [
    "df3.at[37, 'end_date'] = '2020-09-30'\n",
    "df3.at[37, 'end_time'] = '18:21'\n",
    "df3.at[37, 'duration'] = '1.27'\n",
    "df3 = df3.drop(38)"
   ]
  },
  {
   "cell_type": "code",
   "execution_count": 479,
   "metadata": {},
   "outputs": [],
   "source": [
    "df3_last_row = df3.iloc[[28]].shift(periods=1, axis=\"columns\")\n",
    "df3.iloc[[28]] = df3_last_row\n",
    "df3.at[42, 'event_id'] = 91"
   ]
  },
  {
   "cell_type": "code",
   "execution_count": 480,
   "metadata": {},
   "outputs": [],
   "source": [
    "df3_missing_row = pd.DataFrame(data={\n",
    "    'event_id': [92],\n",
    "    'start_date': ['2020-10-04'],\n",
    "    'start_time': ['16:31'],\n",
    "    'location': ['HCG03'],\n",
    "    'end_date': ['2020-10-04'],\n",
    "    'end_time': ['17:24'],\n",
    "    'duration': [0.88],\n",
    "    'volume': ['n/a'],\n",
    "    'disinfection': ['No'],\n",
    "    'reason_code': ['1,7'],\n",
    "    'TBOD(mg/L)': ['n/a'],\n",
    "    'cBOD(mg/L)': ['n/a'],\n",
    "    'TSS(mg/L)': ['n/a'],\n",
    "    'TP(mg/L)': ['n/a'],\n",
    "    'EColi(CFU/100ml)': ['n/a'],\n",
    "    'final_effluent_pH': ['n/a'],\n",
    "    'final_effluent_total_ci(mg/L)': ['n/a']\n",
    "})"
   ]
  },
  {
   "cell_type": "code",
   "execution_count": 481,
   "metadata": {},
   "outputs": [],
   "source": [
    "df3 = pd.concat([df3, df3_missing_row])"
   ]
  },
  {
   "cell_type": "code",
   "execution_count": 482,
   "metadata": {},
   "outputs": [],
   "source": [
    "# TABLE 4\n",
    "\n",
    "df4.at[3, 'end_date'] = '2020-10-17'\n",
    "df4.at[3, 'end_time'] = '09:20'\n",
    "df4.at[3, 'duration'] = '24.93'\n",
    "df4 = df4.drop(4)"
   ]
  },
  {
   "cell_type": "code",
   "execution_count": 483,
   "metadata": {},
   "outputs": [],
   "source": [
    "df4.at[5, 'end_time'] = '22:44'\n",
    "df4.at[5, 'duration'] = '4.25'\n",
    "df4.at[5, 'reason_code'] = 'n/a'\n",
    "df4 = df4.drop(6)"
   ]
  },
  {
   "cell_type": "code",
   "execution_count": 484,
   "metadata": {},
   "outputs": [],
   "source": [
    "df4.at[7, 'end_time'] = '04:13'\n",
    "df4.at[7, 'duration'] = '5.35'\n",
    "df4 = df4.drop(8)"
   ]
  },
  {
   "cell_type": "code",
   "execution_count": 485,
   "metadata": {},
   "outputs": [],
   "source": [
    "df4.at[12, 'end_date'] = '2020-10-28'\n",
    "df4.at[12, 'end_time'] = '06:44'\n",
    "df4.at[12, 'duration'] = '95.04'\n",
    "df4 = df4.drop(13)\n",
    "df4 = df4.drop(14)"
   ]
  },
  {
   "cell_type": "code",
   "execution_count": 486,
   "metadata": {},
   "outputs": [],
   "source": [
    "df4.at[16, 'end_time'] = '15:22'\n",
    "df4.at[16, 'duration'] = '1.89'\n",
    "df4 = df4.drop(17)"
   ]
  },
  {
   "cell_type": "code",
   "execution_count": 487,
   "metadata": {},
   "outputs": [],
   "source": [
    "df4.at[24, 'end_time'] = '15:21'\n",
    "df4.at[24, 'duration'] = '1.33'\n",
    "df4 = df4.drop(25)\n",
    "df4 = df4.drop(26)"
   ]
  },
  {
   "cell_type": "code",
   "execution_count": 488,
   "metadata": {},
   "outputs": [],
   "source": [
    "df4.at[27, 'end_time'] = '06:58'\n",
    "df4.at[27, 'duration'] = '4.94'\n",
    "df4 = df4.drop(28)"
   ]
  },
  {
   "cell_type": "code",
   "execution_count": 489,
   "metadata": {},
   "outputs": [],
   "source": [
    "df4.at[30, 'end_time'] = '19:47'\n",
    "df4.at[30, 'duration'] = '4.23'\n",
    "df4 = df4.drop(31)\n",
    "df4 = df4.drop(32)\n",
    "df4 = df4.drop(33)"
   ]
  },
  {
   "cell_type": "code",
   "execution_count": 490,
   "metadata": {},
   "outputs": [],
   "source": [
    "# COMBINE THE 4 TABLES\n",
    "\n",
    "result = pd.concat([df1, df2, df3, df4])\n",
    "result = result.astype({'event_id':'int'})\n",
    "result = result.sort_values(by=['event_id'])"
   ]
  },
  {
   "cell_type": "code",
   "execution_count": 491,
   "metadata": {},
   "outputs": [
    {
     "output_type": "execute_result",
     "data": {
      "text/plain": [
       "    event_id  start_date start_time location    end_date end_time duration  \\\n",
       "0          1  2020-01-11      00:27    HCG03  2020-01-12    20:47    37.81   \n",
       "1          2  2020-01-11      11:21        S  2020-01-13    04:15    40.90   \n",
       "2          3  2020-01-11      15:01    HCS04  2020-01-13    23:37    56.60   \n",
       "3          4  2020-01-11      15:21    HCS01  2020-01-13    17:25   46.923   \n",
       "5          5  2020-01-11      14:01    DC011  2020-01-12    05:53     1.07   \n",
       "..       ...         ...        ...      ...         ...      ...      ...   \n",
       "24       111  2020-12-12      13:48    HCG14  2020-12-12    15:21     1.33   \n",
       "29       112  2020-12-28      04:39        S  2020-12-28    11:41     7.03   \n",
       "27       113  2020-12-28      01:19    HCG03  2020-12-28    06:58     4.94   \n",
       "34       114  2020-12-30      18:43        S  2020-12-30    22:34     3.85   \n",
       "30       115  2020-12-30      13:10    HCG03  2020-12-30    19:47     4.23   \n",
       "\n",
       "     volume disinfection reason_code TBOD(mg/L) cBOD(mg/L) TSS(mg/L) TP(mg/L)  \\\n",
       "0       n/a           No         1,7        n/a        n/a       n/a      n/a   \n",
       "1   637.590           No         1,7         35        n/a      75.0     1.00   \n",
       "2   127.121           No         1,7        n/a         21       141    0.574   \n",
       "3   412.148           No         1,7        n/a        n/a       n/a      n/a   \n",
       "5     0.072           No         1,7        n/a        n/a       n/a      n/a   \n",
       "..      ...          ...         ...        ...        ...       ...      ...   \n",
       "24      n/a           No         1,7        n/a        n/a       n/a      n/a   \n",
       "29   44.188           No       1,2,7         32        n/a        70     1.33   \n",
       "27      n/a           No       1,2,7        n/a        n/a       n/a      n/a   \n",
       "34   27.947           No       1,2,7         70        n/a        93     1.79   \n",
       "30      n/a           No       1,2,7        n/a        n/a       n/a      n/a   \n",
       "\n",
       "   EColi(CFU/100ml) final_effluent_pH final_effluent_total_ci(mg/L)  \n",
       "0               n/a               n/a                           n/a  \n",
       "1           996,667              7.12                           n/a  \n",
       "2           770,000               n/a                           n/a  \n",
       "3               n/a               n/a                           n/a  \n",
       "5               n/a               n/a                           n/a  \n",
       "..              ...               ...                           ...  \n",
       "24              n/a               n/a                           n/a  \n",
       "29          930,000              7.10                          0.00  \n",
       "27              n/a               n/a                           n/a  \n",
       "34          930,000              7.18                          0.00  \n",
       "30              n/a               n/a                           n/a  \n",
       "\n",
       "[114 rows x 17 columns]"
      ],
      "text/html": "<div>\n<style scoped>\n    .dataframe tbody tr th:only-of-type {\n        vertical-align: middle;\n    }\n\n    .dataframe tbody tr th {\n        vertical-align: top;\n    }\n\n    .dataframe thead th {\n        text-align: right;\n    }\n</style>\n<table border=\"1\" class=\"dataframe\">\n  <thead>\n    <tr style=\"text-align: right;\">\n      <th></th>\n      <th>event_id</th>\n      <th>start_date</th>\n      <th>start_time</th>\n      <th>location</th>\n      <th>end_date</th>\n      <th>end_time</th>\n      <th>duration</th>\n      <th>volume</th>\n      <th>disinfection</th>\n      <th>reason_code</th>\n      <th>TBOD(mg/L)</th>\n      <th>cBOD(mg/L)</th>\n      <th>TSS(mg/L)</th>\n      <th>TP(mg/L)</th>\n      <th>EColi(CFU/100ml)</th>\n      <th>final_effluent_pH</th>\n      <th>final_effluent_total_ci(mg/L)</th>\n    </tr>\n  </thead>\n  <tbody>\n    <tr>\n      <th>0</th>\n      <td>1</td>\n      <td>2020-01-11</td>\n      <td>00:27</td>\n      <td>HCG03</td>\n      <td>2020-01-12</td>\n      <td>20:47</td>\n      <td>37.81</td>\n      <td>n/a</td>\n      <td>No</td>\n      <td>1,7</td>\n      <td>n/a</td>\n      <td>n/a</td>\n      <td>n/a</td>\n      <td>n/a</td>\n      <td>n/a</td>\n      <td>n/a</td>\n      <td>n/a</td>\n    </tr>\n    <tr>\n      <th>1</th>\n      <td>2</td>\n      <td>2020-01-11</td>\n      <td>11:21</td>\n      <td>S</td>\n      <td>2020-01-13</td>\n      <td>04:15</td>\n      <td>40.90</td>\n      <td>637.590</td>\n      <td>No</td>\n      <td>1,7</td>\n      <td>35</td>\n      <td>n/a</td>\n      <td>75.0</td>\n      <td>1.00</td>\n      <td>996,667</td>\n      <td>7.12</td>\n      <td>n/a</td>\n    </tr>\n    <tr>\n      <th>2</th>\n      <td>3</td>\n      <td>2020-01-11</td>\n      <td>15:01</td>\n      <td>HCS04</td>\n      <td>2020-01-13</td>\n      <td>23:37</td>\n      <td>56.60</td>\n      <td>127.121</td>\n      <td>No</td>\n      <td>1,7</td>\n      <td>n/a</td>\n      <td>21</td>\n      <td>141</td>\n      <td>0.574</td>\n      <td>770,000</td>\n      <td>n/a</td>\n      <td>n/a</td>\n    </tr>\n    <tr>\n      <th>3</th>\n      <td>4</td>\n      <td>2020-01-11</td>\n      <td>15:21</td>\n      <td>HCS01</td>\n      <td>2020-01-13</td>\n      <td>17:25</td>\n      <td>46.923</td>\n      <td>412.148</td>\n      <td>No</td>\n      <td>1,7</td>\n      <td>n/a</td>\n      <td>n/a</td>\n      <td>n/a</td>\n      <td>n/a</td>\n      <td>n/a</td>\n      <td>n/a</td>\n      <td>n/a</td>\n    </tr>\n    <tr>\n      <th>5</th>\n      <td>5</td>\n      <td>2020-01-11</td>\n      <td>14:01</td>\n      <td>DC011</td>\n      <td>2020-01-12</td>\n      <td>05:53</td>\n      <td>1.07</td>\n      <td>0.072</td>\n      <td>No</td>\n      <td>1,7</td>\n      <td>n/a</td>\n      <td>n/a</td>\n      <td>n/a</td>\n      <td>n/a</td>\n      <td>n/a</td>\n      <td>n/a</td>\n      <td>n/a</td>\n    </tr>\n    <tr>\n      <th>...</th>\n      <td>...</td>\n      <td>...</td>\n      <td>...</td>\n      <td>...</td>\n      <td>...</td>\n      <td>...</td>\n      <td>...</td>\n      <td>...</td>\n      <td>...</td>\n      <td>...</td>\n      <td>...</td>\n      <td>...</td>\n      <td>...</td>\n      <td>...</td>\n      <td>...</td>\n      <td>...</td>\n      <td>...</td>\n    </tr>\n    <tr>\n      <th>24</th>\n      <td>111</td>\n      <td>2020-12-12</td>\n      <td>13:48</td>\n      <td>HCG14</td>\n      <td>2020-12-12</td>\n      <td>15:21</td>\n      <td>1.33</td>\n      <td>n/a</td>\n      <td>No</td>\n      <td>1,7</td>\n      <td>n/a</td>\n      <td>n/a</td>\n      <td>n/a</td>\n      <td>n/a</td>\n      <td>n/a</td>\n      <td>n/a</td>\n      <td>n/a</td>\n    </tr>\n    <tr>\n      <th>29</th>\n      <td>112</td>\n      <td>2020-12-28</td>\n      <td>04:39</td>\n      <td>S</td>\n      <td>2020-12-28</td>\n      <td>11:41</td>\n      <td>7.03</td>\n      <td>44.188</td>\n      <td>No</td>\n      <td>1,2,7</td>\n      <td>32</td>\n      <td>n/a</td>\n      <td>70</td>\n      <td>1.33</td>\n      <td>930,000</td>\n      <td>7.10</td>\n      <td>0.00</td>\n    </tr>\n    <tr>\n      <th>27</th>\n      <td>113</td>\n      <td>2020-12-28</td>\n      <td>01:19</td>\n      <td>HCG03</td>\n      <td>2020-12-28</td>\n      <td>06:58</td>\n      <td>4.94</td>\n      <td>n/a</td>\n      <td>No</td>\n      <td>1,2,7</td>\n      <td>n/a</td>\n      <td>n/a</td>\n      <td>n/a</td>\n      <td>n/a</td>\n      <td>n/a</td>\n      <td>n/a</td>\n      <td>n/a</td>\n    </tr>\n    <tr>\n      <th>34</th>\n      <td>114</td>\n      <td>2020-12-30</td>\n      <td>18:43</td>\n      <td>S</td>\n      <td>2020-12-30</td>\n      <td>22:34</td>\n      <td>3.85</td>\n      <td>27.947</td>\n      <td>No</td>\n      <td>1,2,7</td>\n      <td>70</td>\n      <td>n/a</td>\n      <td>93</td>\n      <td>1.79</td>\n      <td>930,000</td>\n      <td>7.18</td>\n      <td>0.00</td>\n    </tr>\n    <tr>\n      <th>30</th>\n      <td>115</td>\n      <td>2020-12-30</td>\n      <td>13:10</td>\n      <td>HCG03</td>\n      <td>2020-12-30</td>\n      <td>19:47</td>\n      <td>4.23</td>\n      <td>n/a</td>\n      <td>No</td>\n      <td>1,2,7</td>\n      <td>n/a</td>\n      <td>n/a</td>\n      <td>n/a</td>\n      <td>n/a</td>\n      <td>n/a</td>\n      <td>n/a</td>\n      <td>n/a</td>\n    </tr>\n  </tbody>\n</table>\n<p>114 rows × 17 columns</p>\n</div>"
     },
     "metadata": {},
     "execution_count": 491
    }
   ],
   "source": [
    "result"
   ]
  },
  {
   "cell_type": "code",
   "execution_count": null,
   "metadata": {},
   "outputs": [],
   "source": []
  }
 ]
}