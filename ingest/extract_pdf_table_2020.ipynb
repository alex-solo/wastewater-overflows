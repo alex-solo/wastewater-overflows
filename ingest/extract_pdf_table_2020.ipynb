{
 "metadata": {
  "language_info": {
   "codemirror_mode": {
    "name": "ipython",
    "version": 3
   },
   "file_extension": ".py",
   "mimetype": "text/x-python",
   "name": "python",
   "nbconvert_exporter": "python",
   "pygments_lexer": "ipython3",
   "version": "3.10.8-final"
  },
  "orig_nbformat": 2,
  "kernelspec": {
   "name": "python3",
   "display_name": "Python 3 (ipykernel)",
   "language": "python"
  }
 },
 "nbformat": 4,
 "nbformat_minor": 2,
 "cells": [
  {
   "cell_type": "code",
   "execution_count": 284,
   "metadata": {},
   "outputs": [],
   "source": [
    "import tabula\n",
    "import pandas as pd"
   ]
  },
  {
   "cell_type": "code",
   "execution_count": 285,
   "metadata": {},
   "outputs": [],
   "source": [
    "left = 95.53\n",
    "top = 82.86\n",
    "width = 656.64\n",
    "height = 475.07\n",
    "\n",
    "y1 = top\n",
    "x1 = left\n",
    "y2 = top + height\n",
    "x2 = left + width"
   ]
  },
  {
   "cell_type": "code",
   "execution_count": 286,
   "metadata": {},
   "outputs": [],
   "source": [
    "df_tabula = tabula.read_pdf(\"../data/wastewatercollection-2020-bypass-overflow-log.pdf\", pages='all', area=[y1, x1, y2, x2])"
   ]
  },
  {
   "cell_type": "code",
   "execution_count": 287,
   "metadata": {},
   "outputs": [],
   "source": [
    "df1 = pd.DataFrame(df_tabula[0])\n",
    "df2 = pd.DataFrame(df_tabula[1])\n",
    "df3 = pd.DataFrame(df_tabula[2])\n",
    "df4 = pd.DataFrame(df_tabula[3])"
   ]
  },
  {
   "cell_type": "code",
   "execution_count": 288,
   "metadata": {},
   "outputs": [],
   "source": [
    "columns = {\n",
    "    'Event #': 'event_id', \n",
    "    'Date\\ryyyy-mm-dd': 'start_date', \n",
    "    'Time': 'start_time', \n",
    "    'Unnamed: 1': 'location', \n",
    "    'Date\\ryyyy-mm-dd.1': 'end_date', \n",
    "    'Time.1': 'end_time', \n",
    "    'Hours': 'duration', \n",
    "    'ML': 'volume', \n",
    "    'Yes / No': 'disinfection',\n",
    "    'Code': 'reason_code',\n",
    "    'TBOD\\rmg/L': 'TBOD(mg/L)',\n",
    "    'cBOD\\rmg/L': 'cBOD(mg/L)',\n",
    "    'TSS\\rmg/L': 'TSS(mg/L)',\n",
    "    'TP\\rmg/L': 'TP(mg/L)',\n",
    "    'E.coli\\rCFU/100ml': 'EColi(CFU/100ml)',\n",
    "    'pH': 'final_effluent_pH',\n",
    "    'Total Cl\\rmg/L': 'final_effluent_total_ci(mg/L)'\n",
    "}\n",
    "\n",
    "df1 = df1.rename(columns=columns)\n",
    "df2 = df2.rename(columns=columns)\n",
    "df3 = df3.rename(columns=columns)\n",
    "df4 = df4.rename(columns=columns)"
   ]
  },
  {
   "cell_type": "code",
   "execution_count": 289,
   "metadata": {},
   "outputs": [],
   "source": [
    "# TABLE 1\n",
    "\n",
    "df1 = df1.drop('Unnamed: 0', axis=1)\n",
    "df2 = df2.drop('Unnamed: 0', axis=1)\n",
    "df3 = df3.drop('Unnamed: 0', axis=1)\n",
    "df4 = df4.drop('Unnamed: 0', axis=1)"
   ]
  },
  {
   "cell_type": "code",
   "execution_count": 290,
   "metadata": {},
   "outputs": [],
   "source": [
    "df1.at[3, 'end_time'] = '17:25'\n",
    "df1.at[3, 'duration'] = '46.923'\n",
    "df1.at[3, 'volume'] = '412.148'\n",
    "df1 = df1.drop(4)"
   ]
  },
  {
   "cell_type": "code",
   "execution_count": 291,
   "metadata": {},
   "outputs": [],
   "source": [
    "df1.at[9, 'end_date'] = '2020-01-12'\n",
    "df1.at[9, 'end_time'] = '07:38'\n",
    "df1.at[9, 'duration'] = '10.53'\n",
    "df1.at[9, 'volume'] = '15.33'\n",
    "df1 = df1.drop(10)"
   ]
  },
  {
   "cell_type": "code",
   "execution_count": 292,
   "metadata": {},
   "outputs": [],
   "source": [
    "df1.at[25, 'end_time'] = '17:54'\n",
    "df1.at[25, 'duration'] = '4.26'\n",
    "df1 = df1.drop(26)\n",
    "df1 = df1.drop(27)"
   ]
  },
  {
   "cell_type": "code",
   "execution_count": 293,
   "metadata": {},
   "outputs": [],
   "source": [
    "df1.at[31, 'end_time'] = '15:54'\n",
    "df1.at[31, 'duration'] = '5.57'\n",
    "df1 = df1.drop(32)"
   ]
  },
  {
   "cell_type": "code",
   "execution_count": 294,
   "metadata": {},
   "outputs": [],
   "source": [
    "df1.at[33, 'end_time'] = '11:05'\n",
    "df1.at[33, 'duration'] = '5.26'\n",
    "df1 = df1.drop(34)\n",
    "df1 = df1.drop(35)"
   ]
  },
  {
   "cell_type": "code",
   "execution_count": 295,
   "metadata": {},
   "outputs": [],
   "source": [
    "df1.at[39, 'end_time'] = '15:41'\n",
    "df1.at[39, 'duration'] = '4.75'\n",
    "df1 = df1.drop(40)"
   ]
  },
  {
   "cell_type": "code",
   "execution_count": 296,
   "metadata": {},
   "outputs": [],
   "source": [
    "df1.at[43, 'end_time'] = '10:11'\n",
    "df1.at[43, 'duration'] = '5.59'\n",
    "df1 = df1.drop(44)"
   ]
  },
  {
   "cell_type": "code",
   "execution_count": 297,
   "metadata": {},
   "outputs": [],
   "source": [
    "df1_last_row = df1.iloc[[36]].shift(periods=1, axis=\"columns\")\n",
    "df1.iloc[[36]] = df1_last_row\n",
    "df1.at[45, 'event_id'] = 37"
   ]
  },
  {
   "cell_type": "code",
   "execution_count": 298,
   "metadata": {},
   "outputs": [],
   "source": [
    "# TABLE 2\n",
    "\n",
    "df2.at[0, 'end_time'] = '07:55'\n",
    "df2.at[0, 'duration'] = '5.48'\n",
    "df2 = df2.drop(1)\n"
   ]
  },
  {
   "cell_type": "code",
   "execution_count": 299,
   "metadata": {},
   "outputs": [],
   "source": [
    "df2.at[2, 'end_time'] = '09:15'\n",
    "df2.at[2, 'duration'] = '5.25'\n",
    "df2 = df2.drop(3)"
   ]
  },
  {
   "cell_type": "code",
   "execution_count": 300,
   "metadata": {},
   "outputs": [],
   "source": [
    "df2.at[6, 'end_time'] = '19:48'\n",
    "df2.at[6, 'duration'] = '3.17'\n",
    "df2 = df2.drop(7)\n",
    "df2 = df2.drop(8)\n",
    "df2 = df2.drop(9)"
   ]
  },
  {
   "cell_type": "code",
   "execution_count": 301,
   "metadata": {},
   "outputs": [],
   "source": [
    "df2.at[10, 'end_time'] = '18:28'\n",
    "df2.at[10, 'duration'] = '1.2'\n",
    "df2 = df2.drop(11)"
   ]
  },
  {
   "cell_type": "code",
   "execution_count": 302,
   "metadata": {},
   "outputs": [],
   "source": [
    "df2.at[13, 'end_date'] = '2020-05-18'\n",
    "df2.at[13, 'end_time'] = '21.41'\n",
    "df2.at[13, 'duration'] = '15.16'\n",
    "df2 = df2.drop(14)\n",
    "df2 = df2.drop(15)\n",
    "df2 = df2.drop(16)\n",
    "df2 = df2.drop(17)\n",
    "df2 = df2.drop(18)\n",
    "df2 = df2.drop(19)"
   ]
  },
  {
   "cell_type": "code",
   "execution_count": 303,
   "metadata": {},
   "outputs": [],
   "source": [
    "df2.at[20, 'end_date'] = '2020-05-19'\n",
    "df2.at[20, 'end_time'] = '00:16'\n",
    "df2.at[20, 'duration'] = '11.95'\n",
    "df2 = df2.drop(21)"
   ]
  },
  {
   "cell_type": "code",
   "execution_count": 304,
   "metadata": {},
   "outputs": [],
   "source": [
    "df2.at[22, 'end_time'] = '16:17'\n",
    "df2.at[22, 'duration'] = '1.97'\n",
    "df2 = df2.drop(23)"
   ]
  },
  {
   "cell_type": "code",
   "execution_count": 305,
   "metadata": {},
   "outputs": [],
   "source": [
    "df2.at[24, 'end_time'] = '16:55'\n",
    "df2.at[24, 'duration'] = '1.94'\n",
    "df2 = df2.drop(25)"
   ]
  },
  {
   "cell_type": "code",
   "execution_count": 306,
   "metadata": {},
   "outputs": [],
   "source": [
    "df2.at[27, 'end_date'] = '2020-06-11'\n",
    "df2.at[27, 'end_time'] = '01:06'\n",
    "df2.at[27, 'duration'] = '4.03'\n",
    "df2 = df2.drop(28)\n",
    "df2 = df2.drop(29)"
   ]
  },
  {
   "cell_type": "code",
   "execution_count": 307,
   "metadata": {},
   "outputs": [],
   "source": [
    "df2.at[32, 'end_time'] = '23:54'\n",
    "df2.at[32, 'duration'] = '19:48'\n",
    "df2 = df2.drop(33)"
   ]
  },
  {
   "cell_type": "code",
   "execution_count": 308,
   "metadata": {},
   "outputs": [],
   "source": [
    "df2.at[37, 'end_date'] = '2020-07-11'\n",
    "df2.at[37, 'end_time'] = '00:06'\n",
    "df2.at[37, 'duration'] = '2.38'\n",
    "df2 = df2.drop(38)"
   ]
  },
  {
   "cell_type": "code",
   "execution_count": 309,
   "metadata": {},
   "outputs": [],
   "source": [
    "df2.at[39, 'end_date'] = '2020-07-11'\n",
    "df2.at[39, 'end_time'] = '01:17'\n",
    "df2.at[39, 'duration'] = '4.33'\n",
    "df2 = df2.drop(40)"
   ]
  },
  {
   "cell_type": "code",
   "execution_count": 310,
   "metadata": {},
   "outputs": [],
   "source": [
    "df2_last_row = df2.iloc[[22]].shift(periods=1, axis=\"columns\")\n",
    "df2.iloc[[22]] = df2_last_row\n",
    "df2.at[42, 'event_id'] = 61"
   ]
  },
  {
   "cell_type": "code",
   "execution_count": 311,
   "metadata": {},
   "outputs": [],
   "source": [
    "df2_missing_row = pd.DataFrame(data={\n",
    "    'event_id': [62],\n",
    "    'start_date': ['2020-07-19'],\n",
    "    'start_time': ['12:49'],\n",
    "    'location': ['HCG03'],\n",
    "    'end_date': ['2020-07-19'],\n",
    "    'end_time': ['13:17'],\n",
    "    'duration': [0.47],\n",
    "    'volume': ['n/a'],\n",
    "    'disinfection': ['No'],\n",
    "    'reason_code': ['1,7'],\n",
    "    'TBOD(mg/L)': ['n/a'],\n",
    "    'cBOD(mg/L)': ['n/a'],\n",
    "    'TSS(mg/L)': ['n/a'],\n",
    "    'TP(mg/L)': ['n/a'],\n",
    "    'EColi(CFU/100ml)': ['n/a'],\n",
    "    'final_effluent_pH': ['n/a'],\n",
    "    'final_effluent_total_ci(mg/L)': ['n/a']\n",
    "})"
   ]
  },
  {
   "cell_type": "code",
   "execution_count": 312,
   "metadata": {},
   "outputs": [],
   "source": [
    "df2 = pd.concat([df2, df2_missing_row])"
   ]
  },
  {
   "cell_type": "code",
   "execution_count": 313,
   "metadata": {},
   "outputs": [],
   "source": [
    "# TABLE 3\n",
    "\n",
    "df3.at[1, 'end_time'] = '09:45'\n",
    "df3.at[1, 'duration'] = '2.76'\n",
    "df3 = df3.drop(2)\n",
    "df3 = df3.drop(3)\n",
    "df3 = df3.drop(4)\n",
    "df3 = df3.drop(5)"
   ]
  },
  {
   "cell_type": "code",
   "execution_count": 314,
   "metadata": {},
   "outputs": [],
   "source": [
    "df3.at[6, 'end_time'] = '09:57'\n",
    "df3.at[6, 'duration'] = '1.35'\n",
    "df3 = df3.drop(7)"
   ]
  },
  {
   "cell_type": "code",
   "execution_count": 315,
   "metadata": {},
   "outputs": [],
   "source": [
    "df3.at[9, 'end_time'] = '22:52'\n",
    "df3.at[9, 'duration'] = '2.62'\n",
    "df3 = df3.drop(10)"
   ]
  },
  {
   "cell_type": "code",
   "execution_count": 316,
   "metadata": {},
   "outputs": [],
   "source": [
    "df3.at[18, 'end_time'] = '22:02'\n",
    "df3.at[18, 'duration'] = '1.30'\n",
    "df3 = df3.drop(19)"
   ]
  },
  {
   "cell_type": "code",
   "execution_count": 317,
   "metadata": {},
   "outputs": [],
   "source": [
    "df3.at[21, 'end_time'] = '22:42'\n",
    "df3.at[21, 'duration'] = '6.26'\n",
    "df3 = df3.drop(22)"
   ]
  },
  {
   "cell_type": "code",
   "execution_count": 318,
   "metadata": {},
   "outputs": [],
   "source": [
    "df3.at[28, 'end_time'] = '10:04'\n",
    "df3.at[28, 'duration'] = '1.25'\n",
    "df3 = df3.drop(29)"
   ]
  },
  {
   "cell_type": "code",
   "execution_count": 319,
   "metadata": {},
   "outputs": [],
   "source": [
    "df3.at[31, 'end_date'] = '2020-09-29'\n",
    "df3.at[31, 'end_time'] = '00:58'\n",
    "df3.at[31, 'duration'] = '2.51'\n",
    "df3 = df3.drop(32)\n",
    "df3 = df3.drop(33)\n",
    "df3 = df3.drop(34)\n"
   ]
  },
  {
   "cell_type": "code",
   "execution_count": 320,
   "metadata": {},
   "outputs": [],
   "source": [
    "df3.at[35, 'end_date'] = '2020-09-29'\n",
    "df3.at[35, 'end_time'] = '00:56'\n",
    "df3.at[35, 'duration'] = '1.07'\n",
    "df3 = df3.drop(36)"
   ]
  },
  {
   "cell_type": "code",
   "execution_count": 321,
   "metadata": {},
   "outputs": [],
   "source": [
    "df3.at[37, 'end_date'] = '2020-09-30'\n",
    "df3.at[37, 'end_time'] = '18:21'\n",
    "df3.at[37, 'duration'] = '1.27'\n",
    "df3 = df3.drop(38)"
   ]
  },
  {
   "cell_type": "code",
   "execution_count": 322,
   "metadata": {},
   "outputs": [
    {
     "output_type": "execute_result",
     "data": {
      "text/plain": [
       "   event_id  start_date start_time location    end_date end_time duration  \\\n",
       "0        63  2020-07-19      13:09    HCG14  2020-07-19    13:38     0.48   \n",
       "1        64  2020-08-02      00:35    HCG03  2020-08-02    09:45     2.76   \n",
       "6        65  2020-08-02      07:04    HCG14  2020-08-02    09:57     1.35   \n",
       "8        66  2020-08-03      16:47    HCG03  2020-08-03    17:45     0.97   \n",
       "9        67  2020-08-03      16:53    HCG14  2020-08-03    22:52     2.62   \n",
       "11       68  2020-08-04      18:58    HCG03  2020-08-04    20:22     1.40   \n",
       "12       69  2020-08-04      19:15    HCG14  2020-08-05    02:04     6.82   \n",
       "13       70  2020-08-04      19:16    HC015  2020-08-04    19:45     0.07   \n",
       "14       71  2020-08-04      19:30    HC001  2020-08-04    20:00     0.50   \n",
       "15       72  2020-08-04      19:54        S  2020-08-05    02:40     6.77   \n",
       "16       73  2020-08-04      20:03    HCS08  2020-08-04    21:56     1.88   \n",
       "17       74  2020-08-04      20:49    HCS04  2020-08-05    08:57    12.13   \n",
       "18       75  2020-08-17      15:05    HCG03  2020-08-17    22:02     1.30   \n",
       "20       76  2020-08-17      15:16    HC001  2020-08-17    15:40     0.40   \n",
       "21       77  2020-08-17      15:14    HCG14  2020-08-17    22:42     6.26   \n",
       "23       78  2020-08-17      15:56        S  2020-08-18    01:09     9.22   \n",
       "24       79  2020-08-25      01:08    HCG03  2020-08-25    01:52     0.73   \n",
       "25       80  2020-08-25      01:16    HCG14  2020-08-25    02:08     0.87   \n",
       "26       81  2020-09-07      04:22    HCG03  2020-09-07    05:49     1.45   \n",
       "27       82  2020-09-07      04:31    HCG14  2020-09-07    05:36     1.08   \n",
       "28       83  2020-09-13      03:46    HCG03  2020-09-13    10:04     1.25   \n",
       "30       84  2020-09-13      09:32    HCG14  2020-09-13    10:07     0.58   \n",
       "31       85  2020-09-28      20:07    HCG03  2020-09-29    00:58     2.51   \n",
       "35       86  2020-09-28      23:18    HCG14  2020-09-29    00:56     1.07   \n",
       "37       87  2020-09-30      15:56    HCG03  2020-09-30    18:21     1.27   \n",
       "39       88  2020-09-30      16:43    HCG14  2020-09-30    16:59     0.27   \n",
       "40       89  2020-10-01      17:50    HCG03  2020-10-01    19:08     1.30   \n",
       "41       90  2020-10-01      18:03    HCG14  2020-10-01    19:00     0.95   \n",
       "42       91  2020-10-02      14:40    HCG03  2020-10-02    15:00     0.33   \n",
       "\n",
       "    volume disinfection reason_code TBOD(mg/L) cBOD(mg/L) TSS(mg/L) TP(mg/L)  \\\n",
       "0      n/a           No         1,7        n/a        n/a       n/a      n/a   \n",
       "1      n/a           No         1,7        n/a        n/a       n/a      n/a   \n",
       "6      n/a           No         1,7        n/a        n/a       n/a      n/a   \n",
       "8      n/a           No         1,7        n/a        n/a       n/a      n/a   \n",
       "9      n/a           No         1,7        n/a        n/a       n/a      n/a   \n",
       "11     n/a           No         1,7        n/a        n/a       n/a      n/a   \n",
       "12     n/a           No         1,7        n/a        n/a       n/a      n/a   \n",
       "13     n/a           No         1,7        n/a        n/a       n/a      n/a   \n",
       "14   1.080           No         1,7        n/a        n/a       n/a      n/a   \n",
       "15  54.665          Yes         1,7         54        n/a      62.0     1.72   \n",
       "16   9.848           No         1,7        n/a          6       203    0.418   \n",
       "17  10.998           No         1,7        n/a         11      66.9    0.507   \n",
       "18     n/a           No         1,7        n/a        n/a       n/a      n/a   \n",
       "20   0.997           No         1,7        n/a        n/a       n/a      n/a   \n",
       "21     n/a           No         1,7        n/a        n/a       n/a      n/a   \n",
       "23  65.268          Yes         1,7         64        n/a      61.5     1.87   \n",
       "24     n/a           No         1,7        n/a        n/a       n/a      n/a   \n",
       "25     n/a           No         1,7        n/a        n/a       n/a      n/a   \n",
       "26     n/a           No         1,7        n/a        n/a       n/a      n/a   \n",
       "27     n/a           No         1,7        n/a        n/a       n/a      n/a   \n",
       "28     n/a           No         1,7        n/a        n/a       n/a      n/a   \n",
       "30     n/a           No         1,7        n/a        n/a       n/a      n/a   \n",
       "31     n/a           No         1,7        n/a        n/a       n/a      n/a   \n",
       "35     n/a           No         1,7        n/a        n/a       n/a      n/a   \n",
       "37     n/a           No         1,7        n/a        n/a       n/a      n/a   \n",
       "39     n/a           No         1,7        n/a        n/a       n/a      n/a   \n",
       "40     n/a           No         1,7        n/a        n/a       n/a      n/a   \n",
       "41     n/a           No         1,7        n/a        n/a       n/a      n/a   \n",
       "42     n/a           No         1,7        n/a        n/a       n/a      n/a   \n",
       "\n",
       "   EColi(CFU/100ml) final_effluent_pH final_effluent_total_ci(mg/L)  \n",
       "0               n/a               n/a                           n/a  \n",
       "1               n/a               n/a                           n/a  \n",
       "6               n/a               n/a                           n/a  \n",
       "8               n/a               n/a                           n/a  \n",
       "9               n/a               n/a                           n/a  \n",
       "11              n/a               n/a                           n/a  \n",
       "12              n/a               n/a                           n/a  \n",
       "13              n/a               n/a                           n/a  \n",
       "14              n/a               n/a                           n/a  \n",
       "15        2,600,000              7.08                          0.02  \n",
       "16          100,000               n/a                           n/a  \n",
       "17          470,000               n/a                           n/a  \n",
       "18              n/a               n/a                           n/a  \n",
       "20              n/a               n/a                           n/a  \n",
       "21              n/a               n/a                           n/a  \n",
       "23        6,745,000              7.17                          0.00  \n",
       "24              n/a               n/a                           n/a  \n",
       "25              n/a               n/a                           n/a  \n",
       "26              n/a               n/a                           n/a  \n",
       "27              n/a               n/a                           n/a  \n",
       "28              n/a               n/a                           n/a  \n",
       "30              n/a               n/a                           n/a  \n",
       "31              n/a               n/a                           n/a  \n",
       "35              n/a               n/a                           n/a  \n",
       "37              n/a               n/a                           n/a  \n",
       "39              n/a               n/a                           n/a  \n",
       "40              n/a               n/a                           n/a  \n",
       "41              n/a               n/a                           n/a  \n",
       "42              n/a               n/a                           n/a  "
      ],
      "text/html": "<div>\n<style scoped>\n    .dataframe tbody tr th:only-of-type {\n        vertical-align: middle;\n    }\n\n    .dataframe tbody tr th {\n        vertical-align: top;\n    }\n\n    .dataframe thead th {\n        text-align: right;\n    }\n</style>\n<table border=\"1\" class=\"dataframe\">\n  <thead>\n    <tr style=\"text-align: right;\">\n      <th></th>\n      <th>event_id</th>\n      <th>start_date</th>\n      <th>start_time</th>\n      <th>location</th>\n      <th>end_date</th>\n      <th>end_time</th>\n      <th>duration</th>\n      <th>volume</th>\n      <th>disinfection</th>\n      <th>reason_code</th>\n      <th>TBOD(mg/L)</th>\n      <th>cBOD(mg/L)</th>\n      <th>TSS(mg/L)</th>\n      <th>TP(mg/L)</th>\n      <th>EColi(CFU/100ml)</th>\n      <th>final_effluent_pH</th>\n      <th>final_effluent_total_ci(mg/L)</th>\n    </tr>\n  </thead>\n  <tbody>\n    <tr>\n      <th>0</th>\n      <td>63</td>\n      <td>2020-07-19</td>\n      <td>13:09</td>\n      <td>HCG14</td>\n      <td>2020-07-19</td>\n      <td>13:38</td>\n      <td>0.48</td>\n      <td>n/a</td>\n      <td>No</td>\n      <td>1,7</td>\n      <td>n/a</td>\n      <td>n/a</td>\n      <td>n/a</td>\n      <td>n/a</td>\n      <td>n/a</td>\n      <td>n/a</td>\n      <td>n/a</td>\n    </tr>\n    <tr>\n      <th>1</th>\n      <td>64</td>\n      <td>2020-08-02</td>\n      <td>00:35</td>\n      <td>HCG03</td>\n      <td>2020-08-02</td>\n      <td>09:45</td>\n      <td>2.76</td>\n      <td>n/a</td>\n      <td>No</td>\n      <td>1,7</td>\n      <td>n/a</td>\n      <td>n/a</td>\n      <td>n/a</td>\n      <td>n/a</td>\n      <td>n/a</td>\n      <td>n/a</td>\n      <td>n/a</td>\n    </tr>\n    <tr>\n      <th>6</th>\n      <td>65</td>\n      <td>2020-08-02</td>\n      <td>07:04</td>\n      <td>HCG14</td>\n      <td>2020-08-02</td>\n      <td>09:57</td>\n      <td>1.35</td>\n      <td>n/a</td>\n      <td>No</td>\n      <td>1,7</td>\n      <td>n/a</td>\n      <td>n/a</td>\n      <td>n/a</td>\n      <td>n/a</td>\n      <td>n/a</td>\n      <td>n/a</td>\n      <td>n/a</td>\n    </tr>\n    <tr>\n      <th>8</th>\n      <td>66</td>\n      <td>2020-08-03</td>\n      <td>16:47</td>\n      <td>HCG03</td>\n      <td>2020-08-03</td>\n      <td>17:45</td>\n      <td>0.97</td>\n      <td>n/a</td>\n      <td>No</td>\n      <td>1,7</td>\n      <td>n/a</td>\n      <td>n/a</td>\n      <td>n/a</td>\n      <td>n/a</td>\n      <td>n/a</td>\n      <td>n/a</td>\n      <td>n/a</td>\n    </tr>\n    <tr>\n      <th>9</th>\n      <td>67</td>\n      <td>2020-08-03</td>\n      <td>16:53</td>\n      <td>HCG14</td>\n      <td>2020-08-03</td>\n      <td>22:52</td>\n      <td>2.62</td>\n      <td>n/a</td>\n      <td>No</td>\n      <td>1,7</td>\n      <td>n/a</td>\n      <td>n/a</td>\n      <td>n/a</td>\n      <td>n/a</td>\n      <td>n/a</td>\n      <td>n/a</td>\n      <td>n/a</td>\n    </tr>\n    <tr>\n      <th>11</th>\n      <td>68</td>\n      <td>2020-08-04</td>\n      <td>18:58</td>\n      <td>HCG03</td>\n      <td>2020-08-04</td>\n      <td>20:22</td>\n      <td>1.40</td>\n      <td>n/a</td>\n      <td>No</td>\n      <td>1,7</td>\n      <td>n/a</td>\n      <td>n/a</td>\n      <td>n/a</td>\n      <td>n/a</td>\n      <td>n/a</td>\n      <td>n/a</td>\n      <td>n/a</td>\n    </tr>\n    <tr>\n      <th>12</th>\n      <td>69</td>\n      <td>2020-08-04</td>\n      <td>19:15</td>\n      <td>HCG14</td>\n      <td>2020-08-05</td>\n      <td>02:04</td>\n      <td>6.82</td>\n      <td>n/a</td>\n      <td>No</td>\n      <td>1,7</td>\n      <td>n/a</td>\n      <td>n/a</td>\n      <td>n/a</td>\n      <td>n/a</td>\n      <td>n/a</td>\n      <td>n/a</td>\n      <td>n/a</td>\n    </tr>\n    <tr>\n      <th>13</th>\n      <td>70</td>\n      <td>2020-08-04</td>\n      <td>19:16</td>\n      <td>HC015</td>\n      <td>2020-08-04</td>\n      <td>19:45</td>\n      <td>0.07</td>\n      <td>n/a</td>\n      <td>No</td>\n      <td>1,7</td>\n      <td>n/a</td>\n      <td>n/a</td>\n      <td>n/a</td>\n      <td>n/a</td>\n      <td>n/a</td>\n      <td>n/a</td>\n      <td>n/a</td>\n    </tr>\n    <tr>\n      <th>14</th>\n      <td>71</td>\n      <td>2020-08-04</td>\n      <td>19:30</td>\n      <td>HC001</td>\n      <td>2020-08-04</td>\n      <td>20:00</td>\n      <td>0.50</td>\n      <td>1.080</td>\n      <td>No</td>\n      <td>1,7</td>\n      <td>n/a</td>\n      <td>n/a</td>\n      <td>n/a</td>\n      <td>n/a</td>\n      <td>n/a</td>\n      <td>n/a</td>\n      <td>n/a</td>\n    </tr>\n    <tr>\n      <th>15</th>\n      <td>72</td>\n      <td>2020-08-04</td>\n      <td>19:54</td>\n      <td>S</td>\n      <td>2020-08-05</td>\n      <td>02:40</td>\n      <td>6.77</td>\n      <td>54.665</td>\n      <td>Yes</td>\n      <td>1,7</td>\n      <td>54</td>\n      <td>n/a</td>\n      <td>62.0</td>\n      <td>1.72</td>\n      <td>2,600,000</td>\n      <td>7.08</td>\n      <td>0.02</td>\n    </tr>\n    <tr>\n      <th>16</th>\n      <td>73</td>\n      <td>2020-08-04</td>\n      <td>20:03</td>\n      <td>HCS08</td>\n      <td>2020-08-04</td>\n      <td>21:56</td>\n      <td>1.88</td>\n      <td>9.848</td>\n      <td>No</td>\n      <td>1,7</td>\n      <td>n/a</td>\n      <td>6</td>\n      <td>203</td>\n      <td>0.418</td>\n      <td>100,000</td>\n      <td>n/a</td>\n      <td>n/a</td>\n    </tr>\n    <tr>\n      <th>17</th>\n      <td>74</td>\n      <td>2020-08-04</td>\n      <td>20:49</td>\n      <td>HCS04</td>\n      <td>2020-08-05</td>\n      <td>08:57</td>\n      <td>12.13</td>\n      <td>10.998</td>\n      <td>No</td>\n      <td>1,7</td>\n      <td>n/a</td>\n      <td>11</td>\n      <td>66.9</td>\n      <td>0.507</td>\n      <td>470,000</td>\n      <td>n/a</td>\n      <td>n/a</td>\n    </tr>\n    <tr>\n      <th>18</th>\n      <td>75</td>\n      <td>2020-08-17</td>\n      <td>15:05</td>\n      <td>HCG03</td>\n      <td>2020-08-17</td>\n      <td>22:02</td>\n      <td>1.30</td>\n      <td>n/a</td>\n      <td>No</td>\n      <td>1,7</td>\n      <td>n/a</td>\n      <td>n/a</td>\n      <td>n/a</td>\n      <td>n/a</td>\n      <td>n/a</td>\n      <td>n/a</td>\n      <td>n/a</td>\n    </tr>\n    <tr>\n      <th>20</th>\n      <td>76</td>\n      <td>2020-08-17</td>\n      <td>15:16</td>\n      <td>HC001</td>\n      <td>2020-08-17</td>\n      <td>15:40</td>\n      <td>0.40</td>\n      <td>0.997</td>\n      <td>No</td>\n      <td>1,7</td>\n      <td>n/a</td>\n      <td>n/a</td>\n      <td>n/a</td>\n      <td>n/a</td>\n      <td>n/a</td>\n      <td>n/a</td>\n      <td>n/a</td>\n    </tr>\n    <tr>\n      <th>21</th>\n      <td>77</td>\n      <td>2020-08-17</td>\n      <td>15:14</td>\n      <td>HCG14</td>\n      <td>2020-08-17</td>\n      <td>22:42</td>\n      <td>6.26</td>\n      <td>n/a</td>\n      <td>No</td>\n      <td>1,7</td>\n      <td>n/a</td>\n      <td>n/a</td>\n      <td>n/a</td>\n      <td>n/a</td>\n      <td>n/a</td>\n      <td>n/a</td>\n      <td>n/a</td>\n    </tr>\n    <tr>\n      <th>23</th>\n      <td>78</td>\n      <td>2020-08-17</td>\n      <td>15:56</td>\n      <td>S</td>\n      <td>2020-08-18</td>\n      <td>01:09</td>\n      <td>9.22</td>\n      <td>65.268</td>\n      <td>Yes</td>\n      <td>1,7</td>\n      <td>64</td>\n      <td>n/a</td>\n      <td>61.5</td>\n      <td>1.87</td>\n      <td>6,745,000</td>\n      <td>7.17</td>\n      <td>0.00</td>\n    </tr>\n    <tr>\n      <th>24</th>\n      <td>79</td>\n      <td>2020-08-25</td>\n      <td>01:08</td>\n      <td>HCG03</td>\n      <td>2020-08-25</td>\n      <td>01:52</td>\n      <td>0.73</td>\n      <td>n/a</td>\n      <td>No</td>\n      <td>1,7</td>\n      <td>n/a</td>\n      <td>n/a</td>\n      <td>n/a</td>\n      <td>n/a</td>\n      <td>n/a</td>\n      <td>n/a</td>\n      <td>n/a</td>\n    </tr>\n    <tr>\n      <th>25</th>\n      <td>80</td>\n      <td>2020-08-25</td>\n      <td>01:16</td>\n      <td>HCG14</td>\n      <td>2020-08-25</td>\n      <td>02:08</td>\n      <td>0.87</td>\n      <td>n/a</td>\n      <td>No</td>\n      <td>1,7</td>\n      <td>n/a</td>\n      <td>n/a</td>\n      <td>n/a</td>\n      <td>n/a</td>\n      <td>n/a</td>\n      <td>n/a</td>\n      <td>n/a</td>\n    </tr>\n    <tr>\n      <th>26</th>\n      <td>81</td>\n      <td>2020-09-07</td>\n      <td>04:22</td>\n      <td>HCG03</td>\n      <td>2020-09-07</td>\n      <td>05:49</td>\n      <td>1.45</td>\n      <td>n/a</td>\n      <td>No</td>\n      <td>1,7</td>\n      <td>n/a</td>\n      <td>n/a</td>\n      <td>n/a</td>\n      <td>n/a</td>\n      <td>n/a</td>\n      <td>n/a</td>\n      <td>n/a</td>\n    </tr>\n    <tr>\n      <th>27</th>\n      <td>82</td>\n      <td>2020-09-07</td>\n      <td>04:31</td>\n      <td>HCG14</td>\n      <td>2020-09-07</td>\n      <td>05:36</td>\n      <td>1.08</td>\n      <td>n/a</td>\n      <td>No</td>\n      <td>1,7</td>\n      <td>n/a</td>\n      <td>n/a</td>\n      <td>n/a</td>\n      <td>n/a</td>\n      <td>n/a</td>\n      <td>n/a</td>\n      <td>n/a</td>\n    </tr>\n    <tr>\n      <th>28</th>\n      <td>83</td>\n      <td>2020-09-13</td>\n      <td>03:46</td>\n      <td>HCG03</td>\n      <td>2020-09-13</td>\n      <td>10:04</td>\n      <td>1.25</td>\n      <td>n/a</td>\n      <td>No</td>\n      <td>1,7</td>\n      <td>n/a</td>\n      <td>n/a</td>\n      <td>n/a</td>\n      <td>n/a</td>\n      <td>n/a</td>\n      <td>n/a</td>\n      <td>n/a</td>\n    </tr>\n    <tr>\n      <th>30</th>\n      <td>84</td>\n      <td>2020-09-13</td>\n      <td>09:32</td>\n      <td>HCG14</td>\n      <td>2020-09-13</td>\n      <td>10:07</td>\n      <td>0.58</td>\n      <td>n/a</td>\n      <td>No</td>\n      <td>1,7</td>\n      <td>n/a</td>\n      <td>n/a</td>\n      <td>n/a</td>\n      <td>n/a</td>\n      <td>n/a</td>\n      <td>n/a</td>\n      <td>n/a</td>\n    </tr>\n    <tr>\n      <th>31</th>\n      <td>85</td>\n      <td>2020-09-28</td>\n      <td>20:07</td>\n      <td>HCG03</td>\n      <td>2020-09-29</td>\n      <td>00:58</td>\n      <td>2.51</td>\n      <td>n/a</td>\n      <td>No</td>\n      <td>1,7</td>\n      <td>n/a</td>\n      <td>n/a</td>\n      <td>n/a</td>\n      <td>n/a</td>\n      <td>n/a</td>\n      <td>n/a</td>\n      <td>n/a</td>\n    </tr>\n    <tr>\n      <th>35</th>\n      <td>86</td>\n      <td>2020-09-28</td>\n      <td>23:18</td>\n      <td>HCG14</td>\n      <td>2020-09-29</td>\n      <td>00:56</td>\n      <td>1.07</td>\n      <td>n/a</td>\n      <td>No</td>\n      <td>1,7</td>\n      <td>n/a</td>\n      <td>n/a</td>\n      <td>n/a</td>\n      <td>n/a</td>\n      <td>n/a</td>\n      <td>n/a</td>\n      <td>n/a</td>\n    </tr>\n    <tr>\n      <th>37</th>\n      <td>87</td>\n      <td>2020-09-30</td>\n      <td>15:56</td>\n      <td>HCG03</td>\n      <td>2020-09-30</td>\n      <td>18:21</td>\n      <td>1.27</td>\n      <td>n/a</td>\n      <td>No</td>\n      <td>1,7</td>\n      <td>n/a</td>\n      <td>n/a</td>\n      <td>n/a</td>\n      <td>n/a</td>\n      <td>n/a</td>\n      <td>n/a</td>\n      <td>n/a</td>\n    </tr>\n    <tr>\n      <th>39</th>\n      <td>88</td>\n      <td>2020-09-30</td>\n      <td>16:43</td>\n      <td>HCG14</td>\n      <td>2020-09-30</td>\n      <td>16:59</td>\n      <td>0.27</td>\n      <td>n/a</td>\n      <td>No</td>\n      <td>1,7</td>\n      <td>n/a</td>\n      <td>n/a</td>\n      <td>n/a</td>\n      <td>n/a</td>\n      <td>n/a</td>\n      <td>n/a</td>\n      <td>n/a</td>\n    </tr>\n    <tr>\n      <th>40</th>\n      <td>89</td>\n      <td>2020-10-01</td>\n      <td>17:50</td>\n      <td>HCG03</td>\n      <td>2020-10-01</td>\n      <td>19:08</td>\n      <td>1.30</td>\n      <td>n/a</td>\n      <td>No</td>\n      <td>1,7</td>\n      <td>n/a</td>\n      <td>n/a</td>\n      <td>n/a</td>\n      <td>n/a</td>\n      <td>n/a</td>\n      <td>n/a</td>\n      <td>n/a</td>\n    </tr>\n    <tr>\n      <th>41</th>\n      <td>90</td>\n      <td>2020-10-01</td>\n      <td>18:03</td>\n      <td>HCG14</td>\n      <td>2020-10-01</td>\n      <td>19:00</td>\n      <td>0.95</td>\n      <td>n/a</td>\n      <td>No</td>\n      <td>1,7</td>\n      <td>n/a</td>\n      <td>n/a</td>\n      <td>n/a</td>\n      <td>n/a</td>\n      <td>n/a</td>\n      <td>n/a</td>\n      <td>n/a</td>\n    </tr>\n    <tr>\n      <th>42</th>\n      <td>91</td>\n      <td>2020-10-02</td>\n      <td>14:40</td>\n      <td>HCG03</td>\n      <td>2020-10-02</td>\n      <td>15:00</td>\n      <td>0.33</td>\n      <td>n/a</td>\n      <td>No</td>\n      <td>1,7</td>\n      <td>n/a</td>\n      <td>n/a</td>\n      <td>n/a</td>\n      <td>n/a</td>\n      <td>n/a</td>\n      <td>n/a</td>\n      <td>n/a</td>\n    </tr>\n  </tbody>\n</table>\n</div>"
     },
     "metadata": {},
     "execution_count": 322
    }
   ],
   "source": [
    "df3_last_row = df3.iloc[[28]].shift(periods=1, axis=\"columns\")\n",
    "df3.iloc[[28]] = df3_last_row\n",
    "df3.at[42, 'event_id'] = 91"
   ]
  },
  {
   "cell_type": "code",
   "execution_count": 323,
   "metadata": {},
   "outputs": [],
   "source": [
    "df3_missing_row = pd.DataFrame(data={\n",
    "    'event_id': [92],\n",
    "    'start_date': ['2020-10-04'],\n",
    "    'start_time': ['16:31'],\n",
    "    'location': ['HCG03'],\n",
    "    'end_date': ['2020-10-04'],\n",
    "    'end_time': ['17:24'],\n",
    "    'duration': [0.88],\n",
    "    'volume': ['n/a'],\n",
    "    'disinfection': ['No'],\n",
    "    'reason_code': ['1,7'],\n",
    "    'TBOD(mg/L)': ['n/a'],\n",
    "    'cBOD(mg/L)': ['n/a'],\n",
    "    'TSS(mg/L)': ['n/a'],\n",
    "    'TP(mg/L)': ['n/a'],\n",
    "    'EColi(CFU/100ml)': ['n/a'],\n",
    "    'final_effluent_pH': ['n/a'],\n",
    "    'final_effluent_total_ci(mg/L)': ['n/a']\n",
    "})"
   ]
  },
  {
   "cell_type": "code",
   "execution_count": 324,
   "metadata": {},
   "outputs": [],
   "source": [
    "df3 = pd.concat([df3, df3_missing_row])"
   ]
  },
  {
   "cell_type": "code",
   "execution_count": 326,
   "metadata": {},
   "outputs": [
    {
     "output_type": "execute_result",
     "data": {
      "text/plain": [
       "    event_id  start_date start_time    location    end_date end_time  \\\n",
       "0       93.0  2020-10-07      08:25       HCG03  2020-10-07    09:15   \n",
       "1       94.0  2020-10-13      02:51       HCG03  2020-10-13    03:36   \n",
       "2       95.0  2020-10-15      14:48       HCG03  2020-10-15    23:10   \n",
       "3       96.0  2020-10-15      22:36       HCG14  2020-10-16    11:15   \n",
       "4        NaN  2020-10-16      21:03  2020-10-17       09:20    12.28   \n",
       "5       97.0  2020-10-16      13:41       HCG03  2020-10-16    13:46   \n",
       "6        NaN  2020-10-16      18:34  2020-10-16       22:44     4.17   \n",
       "7       98.0  2020-10-19      21:55       HCG03  2020-10-20    00:10   \n",
       "8        NaN  2020-10-20      01:07  2020-10-20       04:13     3.10   \n",
       "9       99.0  2020-10-21      05:14       HCG03  2020-10-21    05:57   \n",
       "10     100.0  2020-10-22      06:15       HCG03  2020-10-22    06:56   \n",
       "11     101.0  2020-10-23      20:07       HCG03  2020-10-23    21:49   \n",
       "12     102.0  2020-10-23      20:08       HCG14  2020-10-26    15:14   \n",
       "13       NaN  2020-10-26      20:36  2020-10-27       10:26    13.83   \n",
       "14       NaN  2020-10-27      16:37  2020-10-28       06:44    14.11   \n",
       "15     103.0  2020-11-01      09:13       HCG03  2020-11-01    09:39   \n",
       "16     104.0  2020-11-15      09:07       HCG03  2020-11-15    10:26   \n",
       "17       NaN  2020-11-15      14:48  2020-11-15       15:22     0.57   \n",
       "18     105.0  2020-11-22      12:54       HCG03  2020-11-22    18:47   \n",
       "19     106.0  2020-11-26      02:32       HCG03  2020-11-26    02:58   \n",
       "20     107.0  2020-11-30      08:43       HCG03  2020-11-30    14:57   \n",
       "21     108.0  2020-11-30      11:32       HCG14  2020-11-30    12:19   \n",
       "22     109.0  2020-11-30      11:50           S  2020-12-01    03:08   \n",
       "23     110.0  2020-12-12      13:16       HCG03  2020-12-12    15:33   \n",
       "24     111.0  2020-12-12      13:48       HCG14  2020-12-12    14:12   \n",
       "25       NaN  2020-12-12      14:24  2020-12-12       14:27     0.05   \n",
       "26       NaN  2020-12-12      14:28  2020-12-12       15:21     0.88   \n",
       "27     113.0  2020-12-28      01:19       HCG03  2020-12-28    05:08   \n",
       "28       NaN  2020-12-28      05:50  2020-12-28       06:58     1.12   \n",
       "29     112.0  2020-12-28      04:39           S  2020-12-28    11:41   \n",
       "30     115.0  2020-12-30      13:10       HCG03  2020-12-30    13:38   \n",
       "31       NaN  2020-12-30      14:27  2020-12-30       15:30     1.05   \n",
       "32       NaN  2020-12-30      16:39  2020-12-30       18:23     1.75   \n",
       "33       NaN  2020-12-30      18:48  2020-12-30       19:47     0.98   \n",
       "34     114.0  2020-12-30      18:43           S  2020-12-30    22:34   \n",
       "\n",
       "    duration   volume disinfection reason_code TBOD(mg/L) cBOD(mg/L)  \\\n",
       "0       0.83      n/a           No         1,7        n/a        n/a   \n",
       "1       0.75      n/a           No         1,7        n/a        n/a   \n",
       "2       2.50      n/a           No         1,7        n/a        n/a   \n",
       "3      12.65      n/a           No         1,7        n/a        n/a   \n",
       "4        NaN      NaN          NaN         NaN        NaN        NaN   \n",
       "5       0.08      n/a           No         NaN        n/a        n/a   \n",
       "6        NaN      NaN          NaN         NaN        NaN        NaN   \n",
       "7       2.25      n/a           No         1,7        n/a        n/a   \n",
       "8        NaN      NaN          NaN         NaN        NaN        NaN   \n",
       "9       0.72      n/a           No         1,7        n/a        n/a   \n",
       "10      0.68      n/a           No         1,7        n/a        n/a   \n",
       "11      1.70      n/a           No         1,7        n/a        n/a   \n",
       "12     67.10      n/a           No         1,7        n/a        n/a   \n",
       "13       NaN      NaN          NaN         NaN        NaN        NaN   \n",
       "14       NaN      NaN          NaN         NaN        NaN        NaN   \n",
       "15      0.43      n/a           No         1,7        n/a        n/a   \n",
       "16      1.32      n/a           No         1,7        n/a        n/a   \n",
       "17       NaN      NaN          NaN         NaN        NaN        NaN   \n",
       "18      5.88      n/a           No         1,7        n/a        n/a   \n",
       "19      0.43      n/a           No         1,7        n/a        n/a   \n",
       "20      6.23      n/a           No         1,7        n/a        n/a   \n",
       "21      0.78      n/a           No         1,7        n/a        n/a   \n",
       "22     15.30  125.225           No         1,7         82        n/a   \n",
       "23      2.28      n/a           No         1,7        n/a        n/a   \n",
       "24      0.40      n/a           No         1,7        n/a        n/a   \n",
       "25       NaN      NaN          NaN         NaN        NaN        NaN   \n",
       "26       NaN      NaN          NaN         NaN        NaN        NaN   \n",
       "27      3.82      n/a           No       1,2,7        n/a        n/a   \n",
       "28       NaN      NaN          NaN         NaN        NaN        NaN   \n",
       "29      7.03   44.188           No       1,2,7         32        n/a   \n",
       "30      0.45      n/a           No       1,2,7        n/a        n/a   \n",
       "31       NaN      NaN          NaN         NaN        NaN        NaN   \n",
       "32       NaN      NaN          NaN         NaN        NaN        NaN   \n",
       "33       NaN      NaN          NaN         NaN        NaN        NaN   \n",
       "34      3.85   27.947           No       1,2,7         70        n/a   \n",
       "\n",
       "   TSS(mg/L) TP(mg/L) EColi(CFU/100ml) final_effluent_pH  \\\n",
       "0        n/a      n/a              n/a               n/a   \n",
       "1        n/a      n/a              n/a               n/a   \n",
       "2        n/a      n/a              n/a               n/a   \n",
       "3        n/a      n/a              n/a               n/a   \n",
       "4        NaN      NaN              NaN               NaN   \n",
       "5        n/a      n/a              n/a               n/a   \n",
       "6        NaN      NaN              NaN               NaN   \n",
       "7        n/a      n/a              n/a               n/a   \n",
       "8        NaN      NaN              NaN               NaN   \n",
       "9        n/a      n/a              n/a               n/a   \n",
       "10       n/a      n/a              n/a               n/a   \n",
       "11       n/a      n/a              n/a               n/a   \n",
       "12       n/a      n/a              n/a               n/a   \n",
       "13       NaN      NaN              NaN               NaN   \n",
       "14       NaN      NaN              NaN               NaN   \n",
       "15       n/a      n/a              n/a               n/a   \n",
       "16       n/a      n/a              n/a               n/a   \n",
       "17       NaN      NaN              NaN               NaN   \n",
       "18       n/a      n/a              n/a               n/a   \n",
       "19       n/a      n/a              n/a               n/a   \n",
       "20       n/a      n/a              n/a               n/a   \n",
       "21       n/a      n/a              n/a               n/a   \n",
       "22       130     2.55        1,450,000              6.99   \n",
       "23       n/a      n/a              n/a               n/a   \n",
       "24       n/a      n/a              n/a               n/a   \n",
       "25       NaN      NaN              NaN               NaN   \n",
       "26       NaN      NaN              NaN               NaN   \n",
       "27       n/a      n/a              n/a               n/a   \n",
       "28       NaN      NaN              NaN               NaN   \n",
       "29        70     1.33          930,000              7.10   \n",
       "30       n/a      n/a              n/a               n/a   \n",
       "31       NaN      NaN              NaN               NaN   \n",
       "32       NaN      NaN              NaN               NaN   \n",
       "33       NaN      NaN              NaN               NaN   \n",
       "34        93     1.79          930,000              7.18   \n",
       "\n",
       "   final_effluent_total_ci(mg/L)  \n",
       "0                            n/a  \n",
       "1                            n/a  \n",
       "2                            n/a  \n",
       "3                            n/a  \n",
       "4                            NaN  \n",
       "5                            n/a  \n",
       "6                            NaN  \n",
       "7                            n/a  \n",
       "8                            NaN  \n",
       "9                            n/a  \n",
       "10                           n/a  \n",
       "11                           n/a  \n",
       "12                           n/a  \n",
       "13                           NaN  \n",
       "14                           NaN  \n",
       "15                           n/a  \n",
       "16                           n/a  \n",
       "17                           NaN  \n",
       "18                           n/a  \n",
       "19                           n/a  \n",
       "20                           n/a  \n",
       "21                           n/a  \n",
       "22                          0.00  \n",
       "23                           n/a  \n",
       "24                           n/a  \n",
       "25                           NaN  \n",
       "26                           NaN  \n",
       "27                           n/a  \n",
       "28                           NaN  \n",
       "29                          0.00  \n",
       "30                           n/a  \n",
       "31                           NaN  \n",
       "32                           NaN  \n",
       "33                           NaN  \n",
       "34                          0.00  "
      ],
      "text/html": "<div>\n<style scoped>\n    .dataframe tbody tr th:only-of-type {\n        vertical-align: middle;\n    }\n\n    .dataframe tbody tr th {\n        vertical-align: top;\n    }\n\n    .dataframe thead th {\n        text-align: right;\n    }\n</style>\n<table border=\"1\" class=\"dataframe\">\n  <thead>\n    <tr style=\"text-align: right;\">\n      <th></th>\n      <th>event_id</th>\n      <th>start_date</th>\n      <th>start_time</th>\n      <th>location</th>\n      <th>end_date</th>\n      <th>end_time</th>\n      <th>duration</th>\n      <th>volume</th>\n      <th>disinfection</th>\n      <th>reason_code</th>\n      <th>TBOD(mg/L)</th>\n      <th>cBOD(mg/L)</th>\n      <th>TSS(mg/L)</th>\n      <th>TP(mg/L)</th>\n      <th>EColi(CFU/100ml)</th>\n      <th>final_effluent_pH</th>\n      <th>final_effluent_total_ci(mg/L)</th>\n    </tr>\n  </thead>\n  <tbody>\n    <tr>\n      <th>0</th>\n      <td>93.0</td>\n      <td>2020-10-07</td>\n      <td>08:25</td>\n      <td>HCG03</td>\n      <td>2020-10-07</td>\n      <td>09:15</td>\n      <td>0.83</td>\n      <td>n/a</td>\n      <td>No</td>\n      <td>1,7</td>\n      <td>n/a</td>\n      <td>n/a</td>\n      <td>n/a</td>\n      <td>n/a</td>\n      <td>n/a</td>\n      <td>n/a</td>\n      <td>n/a</td>\n    </tr>\n    <tr>\n      <th>1</th>\n      <td>94.0</td>\n      <td>2020-10-13</td>\n      <td>02:51</td>\n      <td>HCG03</td>\n      <td>2020-10-13</td>\n      <td>03:36</td>\n      <td>0.75</td>\n      <td>n/a</td>\n      <td>No</td>\n      <td>1,7</td>\n      <td>n/a</td>\n      <td>n/a</td>\n      <td>n/a</td>\n      <td>n/a</td>\n      <td>n/a</td>\n      <td>n/a</td>\n      <td>n/a</td>\n    </tr>\n    <tr>\n      <th>2</th>\n      <td>95.0</td>\n      <td>2020-10-15</td>\n      <td>14:48</td>\n      <td>HCG03</td>\n      <td>2020-10-15</td>\n      <td>23:10</td>\n      <td>2.50</td>\n      <td>n/a</td>\n      <td>No</td>\n      <td>1,7</td>\n      <td>n/a</td>\n      <td>n/a</td>\n      <td>n/a</td>\n      <td>n/a</td>\n      <td>n/a</td>\n      <td>n/a</td>\n      <td>n/a</td>\n    </tr>\n    <tr>\n      <th>3</th>\n      <td>96.0</td>\n      <td>2020-10-15</td>\n      <td>22:36</td>\n      <td>HCG14</td>\n      <td>2020-10-16</td>\n      <td>11:15</td>\n      <td>12.65</td>\n      <td>n/a</td>\n      <td>No</td>\n      <td>1,7</td>\n      <td>n/a</td>\n      <td>n/a</td>\n      <td>n/a</td>\n      <td>n/a</td>\n      <td>n/a</td>\n      <td>n/a</td>\n      <td>n/a</td>\n    </tr>\n    <tr>\n      <th>4</th>\n      <td>NaN</td>\n      <td>2020-10-16</td>\n      <td>21:03</td>\n      <td>2020-10-17</td>\n      <td>09:20</td>\n      <td>12.28</td>\n      <td>NaN</td>\n      <td>NaN</td>\n      <td>NaN</td>\n      <td>NaN</td>\n      <td>NaN</td>\n      <td>NaN</td>\n      <td>NaN</td>\n      <td>NaN</td>\n      <td>NaN</td>\n      <td>NaN</td>\n      <td>NaN</td>\n    </tr>\n    <tr>\n      <th>5</th>\n      <td>97.0</td>\n      <td>2020-10-16</td>\n      <td>13:41</td>\n      <td>HCG03</td>\n      <td>2020-10-16</td>\n      <td>13:46</td>\n      <td>0.08</td>\n      <td>n/a</td>\n      <td>No</td>\n      <td>NaN</td>\n      <td>n/a</td>\n      <td>n/a</td>\n      <td>n/a</td>\n      <td>n/a</td>\n      <td>n/a</td>\n      <td>n/a</td>\n      <td>n/a</td>\n    </tr>\n    <tr>\n      <th>6</th>\n      <td>NaN</td>\n      <td>2020-10-16</td>\n      <td>18:34</td>\n      <td>2020-10-16</td>\n      <td>22:44</td>\n      <td>4.17</td>\n      <td>NaN</td>\n      <td>NaN</td>\n      <td>NaN</td>\n      <td>NaN</td>\n      <td>NaN</td>\n      <td>NaN</td>\n      <td>NaN</td>\n      <td>NaN</td>\n      <td>NaN</td>\n      <td>NaN</td>\n      <td>NaN</td>\n    </tr>\n    <tr>\n      <th>7</th>\n      <td>98.0</td>\n      <td>2020-10-19</td>\n      <td>21:55</td>\n      <td>HCG03</td>\n      <td>2020-10-20</td>\n      <td>00:10</td>\n      <td>2.25</td>\n      <td>n/a</td>\n      <td>No</td>\n      <td>1,7</td>\n      <td>n/a</td>\n      <td>n/a</td>\n      <td>n/a</td>\n      <td>n/a</td>\n      <td>n/a</td>\n      <td>n/a</td>\n      <td>n/a</td>\n    </tr>\n    <tr>\n      <th>8</th>\n      <td>NaN</td>\n      <td>2020-10-20</td>\n      <td>01:07</td>\n      <td>2020-10-20</td>\n      <td>04:13</td>\n      <td>3.10</td>\n      <td>NaN</td>\n      <td>NaN</td>\n      <td>NaN</td>\n      <td>NaN</td>\n      <td>NaN</td>\n      <td>NaN</td>\n      <td>NaN</td>\n      <td>NaN</td>\n      <td>NaN</td>\n      <td>NaN</td>\n      <td>NaN</td>\n    </tr>\n    <tr>\n      <th>9</th>\n      <td>99.0</td>\n      <td>2020-10-21</td>\n      <td>05:14</td>\n      <td>HCG03</td>\n      <td>2020-10-21</td>\n      <td>05:57</td>\n      <td>0.72</td>\n      <td>n/a</td>\n      <td>No</td>\n      <td>1,7</td>\n      <td>n/a</td>\n      <td>n/a</td>\n      <td>n/a</td>\n      <td>n/a</td>\n      <td>n/a</td>\n      <td>n/a</td>\n      <td>n/a</td>\n    </tr>\n    <tr>\n      <th>10</th>\n      <td>100.0</td>\n      <td>2020-10-22</td>\n      <td>06:15</td>\n      <td>HCG03</td>\n      <td>2020-10-22</td>\n      <td>06:56</td>\n      <td>0.68</td>\n      <td>n/a</td>\n      <td>No</td>\n      <td>1,7</td>\n      <td>n/a</td>\n      <td>n/a</td>\n      <td>n/a</td>\n      <td>n/a</td>\n      <td>n/a</td>\n      <td>n/a</td>\n      <td>n/a</td>\n    </tr>\n    <tr>\n      <th>11</th>\n      <td>101.0</td>\n      <td>2020-10-23</td>\n      <td>20:07</td>\n      <td>HCG03</td>\n      <td>2020-10-23</td>\n      <td>21:49</td>\n      <td>1.70</td>\n      <td>n/a</td>\n      <td>No</td>\n      <td>1,7</td>\n      <td>n/a</td>\n      <td>n/a</td>\n      <td>n/a</td>\n      <td>n/a</td>\n      <td>n/a</td>\n      <td>n/a</td>\n      <td>n/a</td>\n    </tr>\n    <tr>\n      <th>12</th>\n      <td>102.0</td>\n      <td>2020-10-23</td>\n      <td>20:08</td>\n      <td>HCG14</td>\n      <td>2020-10-26</td>\n      <td>15:14</td>\n      <td>67.10</td>\n      <td>n/a</td>\n      <td>No</td>\n      <td>1,7</td>\n      <td>n/a</td>\n      <td>n/a</td>\n      <td>n/a</td>\n      <td>n/a</td>\n      <td>n/a</td>\n      <td>n/a</td>\n      <td>n/a</td>\n    </tr>\n    <tr>\n      <th>13</th>\n      <td>NaN</td>\n      <td>2020-10-26</td>\n      <td>20:36</td>\n      <td>2020-10-27</td>\n      <td>10:26</td>\n      <td>13.83</td>\n      <td>NaN</td>\n      <td>NaN</td>\n      <td>NaN</td>\n      <td>NaN</td>\n      <td>NaN</td>\n      <td>NaN</td>\n      <td>NaN</td>\n      <td>NaN</td>\n      <td>NaN</td>\n      <td>NaN</td>\n      <td>NaN</td>\n    </tr>\n    <tr>\n      <th>14</th>\n      <td>NaN</td>\n      <td>2020-10-27</td>\n      <td>16:37</td>\n      <td>2020-10-28</td>\n      <td>06:44</td>\n      <td>14.11</td>\n      <td>NaN</td>\n      <td>NaN</td>\n      <td>NaN</td>\n      <td>NaN</td>\n      <td>NaN</td>\n      <td>NaN</td>\n      <td>NaN</td>\n      <td>NaN</td>\n      <td>NaN</td>\n      <td>NaN</td>\n      <td>NaN</td>\n    </tr>\n    <tr>\n      <th>15</th>\n      <td>103.0</td>\n      <td>2020-11-01</td>\n      <td>09:13</td>\n      <td>HCG03</td>\n      <td>2020-11-01</td>\n      <td>09:39</td>\n      <td>0.43</td>\n      <td>n/a</td>\n      <td>No</td>\n      <td>1,7</td>\n      <td>n/a</td>\n      <td>n/a</td>\n      <td>n/a</td>\n      <td>n/a</td>\n      <td>n/a</td>\n      <td>n/a</td>\n      <td>n/a</td>\n    </tr>\n    <tr>\n      <th>16</th>\n      <td>104.0</td>\n      <td>2020-11-15</td>\n      <td>09:07</td>\n      <td>HCG03</td>\n      <td>2020-11-15</td>\n      <td>10:26</td>\n      <td>1.32</td>\n      <td>n/a</td>\n      <td>No</td>\n      <td>1,7</td>\n      <td>n/a</td>\n      <td>n/a</td>\n      <td>n/a</td>\n      <td>n/a</td>\n      <td>n/a</td>\n      <td>n/a</td>\n      <td>n/a</td>\n    </tr>\n    <tr>\n      <th>17</th>\n      <td>NaN</td>\n      <td>2020-11-15</td>\n      <td>14:48</td>\n      <td>2020-11-15</td>\n      <td>15:22</td>\n      <td>0.57</td>\n      <td>NaN</td>\n      <td>NaN</td>\n      <td>NaN</td>\n      <td>NaN</td>\n      <td>NaN</td>\n      <td>NaN</td>\n      <td>NaN</td>\n      <td>NaN</td>\n      <td>NaN</td>\n      <td>NaN</td>\n      <td>NaN</td>\n    </tr>\n    <tr>\n      <th>18</th>\n      <td>105.0</td>\n      <td>2020-11-22</td>\n      <td>12:54</td>\n      <td>HCG03</td>\n      <td>2020-11-22</td>\n      <td>18:47</td>\n      <td>5.88</td>\n      <td>n/a</td>\n      <td>No</td>\n      <td>1,7</td>\n      <td>n/a</td>\n      <td>n/a</td>\n      <td>n/a</td>\n      <td>n/a</td>\n      <td>n/a</td>\n      <td>n/a</td>\n      <td>n/a</td>\n    </tr>\n    <tr>\n      <th>19</th>\n      <td>106.0</td>\n      <td>2020-11-26</td>\n      <td>02:32</td>\n      <td>HCG03</td>\n      <td>2020-11-26</td>\n      <td>02:58</td>\n      <td>0.43</td>\n      <td>n/a</td>\n      <td>No</td>\n      <td>1,7</td>\n      <td>n/a</td>\n      <td>n/a</td>\n      <td>n/a</td>\n      <td>n/a</td>\n      <td>n/a</td>\n      <td>n/a</td>\n      <td>n/a</td>\n    </tr>\n    <tr>\n      <th>20</th>\n      <td>107.0</td>\n      <td>2020-11-30</td>\n      <td>08:43</td>\n      <td>HCG03</td>\n      <td>2020-11-30</td>\n      <td>14:57</td>\n      <td>6.23</td>\n      <td>n/a</td>\n      <td>No</td>\n      <td>1,7</td>\n      <td>n/a</td>\n      <td>n/a</td>\n      <td>n/a</td>\n      <td>n/a</td>\n      <td>n/a</td>\n      <td>n/a</td>\n      <td>n/a</td>\n    </tr>\n    <tr>\n      <th>21</th>\n      <td>108.0</td>\n      <td>2020-11-30</td>\n      <td>11:32</td>\n      <td>HCG14</td>\n      <td>2020-11-30</td>\n      <td>12:19</td>\n      <td>0.78</td>\n      <td>n/a</td>\n      <td>No</td>\n      <td>1,7</td>\n      <td>n/a</td>\n      <td>n/a</td>\n      <td>n/a</td>\n      <td>n/a</td>\n      <td>n/a</td>\n      <td>n/a</td>\n      <td>n/a</td>\n    </tr>\n    <tr>\n      <th>22</th>\n      <td>109.0</td>\n      <td>2020-11-30</td>\n      <td>11:50</td>\n      <td>S</td>\n      <td>2020-12-01</td>\n      <td>03:08</td>\n      <td>15.30</td>\n      <td>125.225</td>\n      <td>No</td>\n      <td>1,7</td>\n      <td>82</td>\n      <td>n/a</td>\n      <td>130</td>\n      <td>2.55</td>\n      <td>1,450,000</td>\n      <td>6.99</td>\n      <td>0.00</td>\n    </tr>\n    <tr>\n      <th>23</th>\n      <td>110.0</td>\n      <td>2020-12-12</td>\n      <td>13:16</td>\n      <td>HCG03</td>\n      <td>2020-12-12</td>\n      <td>15:33</td>\n      <td>2.28</td>\n      <td>n/a</td>\n      <td>No</td>\n      <td>1,7</td>\n      <td>n/a</td>\n      <td>n/a</td>\n      <td>n/a</td>\n      <td>n/a</td>\n      <td>n/a</td>\n      <td>n/a</td>\n      <td>n/a</td>\n    </tr>\n    <tr>\n      <th>24</th>\n      <td>111.0</td>\n      <td>2020-12-12</td>\n      <td>13:48</td>\n      <td>HCG14</td>\n      <td>2020-12-12</td>\n      <td>14:12</td>\n      <td>0.40</td>\n      <td>n/a</td>\n      <td>No</td>\n      <td>1,7</td>\n      <td>n/a</td>\n      <td>n/a</td>\n      <td>n/a</td>\n      <td>n/a</td>\n      <td>n/a</td>\n      <td>n/a</td>\n      <td>n/a</td>\n    </tr>\n    <tr>\n      <th>25</th>\n      <td>NaN</td>\n      <td>2020-12-12</td>\n      <td>14:24</td>\n      <td>2020-12-12</td>\n      <td>14:27</td>\n      <td>0.05</td>\n      <td>NaN</td>\n      <td>NaN</td>\n      <td>NaN</td>\n      <td>NaN</td>\n      <td>NaN</td>\n      <td>NaN</td>\n      <td>NaN</td>\n      <td>NaN</td>\n      <td>NaN</td>\n      <td>NaN</td>\n      <td>NaN</td>\n    </tr>\n    <tr>\n      <th>26</th>\n      <td>NaN</td>\n      <td>2020-12-12</td>\n      <td>14:28</td>\n      <td>2020-12-12</td>\n      <td>15:21</td>\n      <td>0.88</td>\n      <td>NaN</td>\n      <td>NaN</td>\n      <td>NaN</td>\n      <td>NaN</td>\n      <td>NaN</td>\n      <td>NaN</td>\n      <td>NaN</td>\n      <td>NaN</td>\n      <td>NaN</td>\n      <td>NaN</td>\n      <td>NaN</td>\n    </tr>\n    <tr>\n      <th>27</th>\n      <td>113.0</td>\n      <td>2020-12-28</td>\n      <td>01:19</td>\n      <td>HCG03</td>\n      <td>2020-12-28</td>\n      <td>05:08</td>\n      <td>3.82</td>\n      <td>n/a</td>\n      <td>No</td>\n      <td>1,2,7</td>\n      <td>n/a</td>\n      <td>n/a</td>\n      <td>n/a</td>\n      <td>n/a</td>\n      <td>n/a</td>\n      <td>n/a</td>\n      <td>n/a</td>\n    </tr>\n    <tr>\n      <th>28</th>\n      <td>NaN</td>\n      <td>2020-12-28</td>\n      <td>05:50</td>\n      <td>2020-12-28</td>\n      <td>06:58</td>\n      <td>1.12</td>\n      <td>NaN</td>\n      <td>NaN</td>\n      <td>NaN</td>\n      <td>NaN</td>\n      <td>NaN</td>\n      <td>NaN</td>\n      <td>NaN</td>\n      <td>NaN</td>\n      <td>NaN</td>\n      <td>NaN</td>\n      <td>NaN</td>\n    </tr>\n    <tr>\n      <th>29</th>\n      <td>112.0</td>\n      <td>2020-12-28</td>\n      <td>04:39</td>\n      <td>S</td>\n      <td>2020-12-28</td>\n      <td>11:41</td>\n      <td>7.03</td>\n      <td>44.188</td>\n      <td>No</td>\n      <td>1,2,7</td>\n      <td>32</td>\n      <td>n/a</td>\n      <td>70</td>\n      <td>1.33</td>\n      <td>930,000</td>\n      <td>7.10</td>\n      <td>0.00</td>\n    </tr>\n    <tr>\n      <th>30</th>\n      <td>115.0</td>\n      <td>2020-12-30</td>\n      <td>13:10</td>\n      <td>HCG03</td>\n      <td>2020-12-30</td>\n      <td>13:38</td>\n      <td>0.45</td>\n      <td>n/a</td>\n      <td>No</td>\n      <td>1,2,7</td>\n      <td>n/a</td>\n      <td>n/a</td>\n      <td>n/a</td>\n      <td>n/a</td>\n      <td>n/a</td>\n      <td>n/a</td>\n      <td>n/a</td>\n    </tr>\n    <tr>\n      <th>31</th>\n      <td>NaN</td>\n      <td>2020-12-30</td>\n      <td>14:27</td>\n      <td>2020-12-30</td>\n      <td>15:30</td>\n      <td>1.05</td>\n      <td>NaN</td>\n      <td>NaN</td>\n      <td>NaN</td>\n      <td>NaN</td>\n      <td>NaN</td>\n      <td>NaN</td>\n      <td>NaN</td>\n      <td>NaN</td>\n      <td>NaN</td>\n      <td>NaN</td>\n      <td>NaN</td>\n    </tr>\n    <tr>\n      <th>32</th>\n      <td>NaN</td>\n      <td>2020-12-30</td>\n      <td>16:39</td>\n      <td>2020-12-30</td>\n      <td>18:23</td>\n      <td>1.75</td>\n      <td>NaN</td>\n      <td>NaN</td>\n      <td>NaN</td>\n      <td>NaN</td>\n      <td>NaN</td>\n      <td>NaN</td>\n      <td>NaN</td>\n      <td>NaN</td>\n      <td>NaN</td>\n      <td>NaN</td>\n      <td>NaN</td>\n    </tr>\n    <tr>\n      <th>33</th>\n      <td>NaN</td>\n      <td>2020-12-30</td>\n      <td>18:48</td>\n      <td>2020-12-30</td>\n      <td>19:47</td>\n      <td>0.98</td>\n      <td>NaN</td>\n      <td>NaN</td>\n      <td>NaN</td>\n      <td>NaN</td>\n      <td>NaN</td>\n      <td>NaN</td>\n      <td>NaN</td>\n      <td>NaN</td>\n      <td>NaN</td>\n      <td>NaN</td>\n      <td>NaN</td>\n    </tr>\n    <tr>\n      <th>34</th>\n      <td>114.0</td>\n      <td>2020-12-30</td>\n      <td>18:43</td>\n      <td>S</td>\n      <td>2020-12-30</td>\n      <td>22:34</td>\n      <td>3.85</td>\n      <td>27.947</td>\n      <td>No</td>\n      <td>1,2,7</td>\n      <td>70</td>\n      <td>n/a</td>\n      <td>93</td>\n      <td>1.79</td>\n      <td>930,000</td>\n      <td>7.18</td>\n      <td>0.00</td>\n    </tr>\n  </tbody>\n</table>\n</div>"
     },
     "metadata": {},
     "execution_count": 326
    }
   ],
   "source": [
    "# TABLE 4\n",
    "\n",
    "df4.at[35, 'end_date'] = '2020-09-29'\n",
    "df4.at[35, 'end_time'] = '00:56'\n",
    "df4.at[35, 'duration'] = '1.07'\n",
    "df4 = df3.drop(36)"
   ]
  },
  {
   "cell_type": "code",
   "execution_count": null,
   "metadata": {},
   "outputs": [],
   "source": []
  }
 ]
}