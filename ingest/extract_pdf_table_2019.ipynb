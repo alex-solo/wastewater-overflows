{
 "cells": [
  {
   "cell_type": "code",
   "execution_count": 302,
   "metadata": {},
   "outputs": [],
   "source": [
    "import tabula\n",
    "import pandas as pd"
   ]
  },
  {
   "cell_type": "code",
   "execution_count": 303,
   "metadata": {},
   "outputs": [],
   "source": [
    "df = tabula.read_pdf(\"../data/wastewatercollection-2019-bypass-overflow-log.pdf\", pages='1')"
   ]
  },
  {
   "cell_type": "code",
   "execution_count": 304,
   "metadata": {},
   "outputs": [],
   "source": [
    "pd_df = pd.DataFrame(df[0])"
   ]
  },
  {
   "cell_type": "code",
   "execution_count": 305,
   "metadata": {},
   "outputs": [],
   "source": [
    "pd_df =pd_df.rename(columns={\n",
    "    'Event #': 'event_id', \n",
    "    'Start\\rDateTime\\ryyyy-mm-dd': 'start_date', \n",
    "    'Location\\r(see\\rbelow)': 'start_time', \n",
    "    'Stop\\rDateTime\\ryyyy-mm-dd': 'location', \n",
    "    'DurationVolume\\rDisinfectionReason\\rHoursMLYes / NoCode': 'end_date', \n",
    "    'Sample Results': 'end_time', \n",
    "    'Unnamed: 0': 'duration', \n",
    "    'Unnamed: 1': 'volume', \n",
    "    'Unnamed: 2': 'disinfection',\n",
    "    'Unnamed: 3': 'reason_code',\n",
    "    'Unnamed: 4': 'TBOD(mg/L)',\n",
    "    'Unnamed: 5': 'cBOD(mg/L)',\n",
    "    'Unnamed: 6': 'TSS(mg/L)',\n",
    "    'Unnamed: 7': 'TP(mg/L)',\n",
    "    'Unnamed: 8': 'EColi(CFU/100ml)',\n",
    "    'Unnamed: 9': 'final_effluent_pH',\n",
    "    'Unnamed: 10': 'final_effluent_total_ci(mg/L)'\n",
    "})"
   ]
  },
  {
   "cell_type": "code",
   "execution_count": 306,
   "metadata": {},
   "outputs": [],
   "source": [
    "pd_df = pd_df.drop(0)\n",
    "pd_df = pd_df.drop(12)\n",
    "pd_df.at[11, 'end_date'] = '2019-04-21'\n",
    "pd_df.at[11, 'end_time'] = '02:30'\n",
    "pd_df.at[11, 'duration'] = '21.11'\n",
    "pd_df.at[11, 'final_effluent_pH'] = '7.50'"
   ]
  },
  {
   "cell_type": "code",
   "execution_count": 307,
   "metadata": {},
   "outputs": [
    {
     "output_type": "execute_result",
     "data": {
      "text/plain": [
       "    event_id  start_date start_time location    end_date end_time duration  \\\n",
       "1        1.0  2019-01-23      17:26        S  2019-01-24    05:26    12.00   \n",
       "2        2.0  2019-02-06      16:20        S  2019-02-06    20:32     4.20   \n",
       "3        3.0  2019-02-12      23:43        S  2019-02-13    02:34     2.86   \n",
       "4        4.0  2019-02-24      14:03        S  2019-02-24    21:10     7.12   \n",
       "5        5.0  2019-03-10      11:12        S  2019-03-10    23:28    12.26   \n",
       "6        6.0  2019-03-30      14:00        S  2019-04-01    00:33    34.55   \n",
       "7        7.0  2019-03-31      01:10    HCS01  2019-03-31    05:50     4.67   \n",
       "8        8.0  2019-04-08      00:55        S  2019-04-08    04:06     3.18   \n",
       "9        9.0  2019-04-14      21:17        S  2019-04-15    10:46    13.48   \n",
       "10      10.0  2019-04-15      08:20    HCS01  2019-04-15    14:40     6.33   \n",
       "11      11.0  2019-04-19      22:13        S  2019-04-21    02:30    21.11   \n",
       "13      12.0  2019-04-20      11:30    HCS01  2019-04-21    12:10    24.67   \n",
       "14      13.0  2019-04-20      13:20    HCS05  2019-04-21    05:10    15.83   \n",
       "15      14.0  2019-04-20      18:10    HCS04  2019-04-21    02:20     8.17   \n",
       "16      15.0  2019-04-26      07:14        S  2019-04-26    12:31     5.30   \n",
       "17      16.0  2019-05-01      06:28        S  2019-05-01    10:39     4.18   \n",
       "18      17.0  2019-05-03      03:05        S  2019-05-03    20:25    17.33   \n",
       "19      18.0  2019-05-03      05:10    HCS01  2019-05-04    00:50    19.00   \n",
       "20      19.0  2019-05-10      07:20        S  2019-05-10    12:18     4.97   \n",
       "21      20.0  2019-05-13      08:10    HCS05  2019-05-13    19:10    11.00   \n",
       "22      21.0  2019-05-14      04:00    HCS01  2019-05-15    01:00    21.00   \n",
       "23      22.0  2019-05-14      06:40    HCS05  2019-05-14    23:40    17.00   \n",
       "24      23.0  2019-05-25      09:21        S  2019-05-27    00:47    39.45   \n",
       "25      24.0  2019-05-25      18:40    HCS01  2019-05-27    02:10    31.50   \n",
       "26      25.0  2019-05-28      06:40    HCS01  2019-05-29    00:30    17.83   \n",
       "27      26.0  2019-05-28      08:05        S  2019-05-28    23:58    15.89   \n",
       "28      27.0  2019-06-05      14:39        S  2019-06-06    03:04    12.43   \n",
       "29      28.0  2019-06-10      18:02        S  2019-06-11    01:04     7.03   \n",
       "30      29.0  2019-06-13      11:02        S  2019-06-14    06:02    19.01   \n",
       "31      30.0  2019-06-20      21:47        S  2019-06-21    16:23    18.58   \n",
       "32      31.0  2019-06-25      00:46        S  2019-06-25    15:10    14.39   \n",
       "33      32.0  2019-07-06      13:59        S  2019-07-07    23:53    33.90   \n",
       "34      33.0  2019-07-06      15:30    HCS08  2019-07-08    01:10    33.67   \n",
       "35      34.0  2019-07-06      19:20    HCS04  2019-07-08    00:00    28.67   \n",
       "36      35.0  2019-07-06      19:30    HCS09  2019-07-06    21:00     1.50   \n",
       "37      36.0  2019-07-06      20:00    HCS01  2019-07-08    01:00    29.00   \n",
       "38      37.0  2019-07-17      11:19        S  2019-07-17    17:15     5.93   \n",
       "39      38.0  2019-07-20      22:52        S  2019-07-21    02:30     3.63   \n",
       "40      39.0  2019-07-30      07:38        S  2019-07-30    11:20     3.70   \n",
       "41      40.0  2019-08-08      16:00        S  2019-08-08    18:35     2.60   \n",
       "42      41.0  2019-08-18      06:37        S  2019-08-18    10:12     3.58   \n",
       "43      42.0  2019-09-11      21:11        S  2019-09-11    23:59     2.79   \n",
       "\n",
       "     volume disinfection reason_code TBOD(mg/L) cBOD(mg/L) TSS(mg/L) TP(mg/L)  \\\n",
       "1   112.068           No       1,2,7       72.0        n/a       116     2.01   \n",
       "2    24.089           No       1,2,7       68.0        n/a      95.5     1.54   \n",
       "3    28.050           No       1,2,7       62.0        n/a      73.2     1.54   \n",
       "4    21.111           No       1,2,7       39.0        n/a      89.0     1.62   \n",
       "5   100.792           No       1,2,7       54.0        n/a      67.0     1.54   \n",
       "6   375.967           No       1,2,7       33.0        n/a      73.4     1.56   \n",
       "7     1.981           No       1,2,7        n/a        n/a       n/a      n/a   \n",
       "8    17.428           No         1,7       59.0        n/a      87.0     1.97   \n",
       "9   107.730           No         1,7       42.0        n/a      76.1     1.27   \n",
       "10   19.591           No         1,7        n/a        n/a       n/a      n/a   \n",
       "11  190.770           No         1,7       51.0        n/a      64.3    1.160   \n",
       "13  151.847           No         1,7        n/a        n/a       n/a      n/a   \n",
       "14   25.241           No         1,7        n/a         16      23.1    0.969   \n",
       "15    8.033           No         1,7        n/a       n/a*      n/a*     n/a*   \n",
       "16   32.390           No         1,7       41.0        n/a      74.0     1.16   \n",
       "17   19.610           No         1,7       25.0        n/a      17.0    0.716   \n",
       "18  127.990           No         1,7       40.0        n/a      49.5    0.890   \n",
       "19   97.821           No         1,7        n/a        n/a       n/a      n/a   \n",
       "20   27.850           No         1,7       27.0        n/a      39.0    0.841   \n",
       "21   49.171           No         1,7        n/a         11       4.0    0.051   \n",
       "22   48.702           No         1,7        n/a        n/a       n/a      n/a   \n",
       "23   69.676           No         1,7        n/a         11       9.7    0.363   \n",
       "24  215.300          Yes         1,7        n/a         32      75.7     1.46   \n",
       "25   85.306           No         1,7        n/a        n/a       n/a      n/a   \n",
       "26   29.641           No         1,7        n/a        n/a       n/a      n/a   \n",
       "27   64.970          Yes         1,7        n/a         30      43.5     1.08   \n",
       "28   91.070          Yes         1,7        n/a         13      28.3    0.792   \n",
       "29   65.850          Yes         1,7       34.0        n/a      34.3    0.864   \n",
       "30  116.970          Yes         1,7       24.0        n/a      17.8    0.702   \n",
       "31  107.220          Yes         1,7       32.5        n/a      34.4    0.920   \n",
       "32   90.380          Yes         1,7       42.0        n/a      51.0     1.26   \n",
       "33  231.110          Yes         1,7       34.0        n/a      46.2    0.779   \n",
       "34   76.851           No         1,7        n/a          6       212    0.418   \n",
       "35   35.671           No         1,7        n/a         15      23.0    0.504   \n",
       "36   10.562           No         1,7        n/a         11      77.7    0.495   \n",
       "37   98.351           No         1,7        n/a        n/a       n/a      n/a   \n",
       "38   28.600          Yes         1,7       49.0        n/a      63.0     1.79   \n",
       "39   26.260          Yes         1,7       39.0        n/a      64.8     1.26   \n",
       "40   28.320          Yes         1,7       40.0        n/a      48.0     1.50   \n",
       "41   25.710          Yes         1,7       99.0        n/a      69.0     2.62   \n",
       "42   13.630          Yes         1,7       23.0        n/a      30.0     0.66   \n",
       "43   28.700          Yes         1,7       65.0        n/a      51.5     1.68   \n",
       "\n",
       "   EColi(CFU/100ml) final_effluent_pH final_effluent_total_ci(mg/L)  \n",
       "1               n/a              7.49                           n/a  \n",
       "2               n/a              7.02                           n/a  \n",
       "3               n/a              7.27                           n/a  \n",
       "4               n/a              7.19                           n/a  \n",
       "5               n/a              6.97                           n/a  \n",
       "6               n/a              7.09                           n/a  \n",
       "7               n/a               n/a                           n/a  \n",
       "8               n/a              7.21                           n/a  \n",
       "9               n/a              7.09                           n/a  \n",
       "10              n/a               n/a                           n/a  \n",
       "11              n/a              7.50                           n/a  \n",
       "13              n/a               n/a                           n/a  \n",
       "14        1,070,000               n/a                           n/a  \n",
       "15             n/a*               n/a                           n/a  \n",
       "16              n/a              7.14                           n/a  \n",
       "17              n/a              7.15                           n/a  \n",
       "18              n/a              7.14                           n/a  \n",
       "19              n/a               n/a                           n/a  \n",
       "20              n/a              7.10                           n/a  \n",
       "21              550               n/a                           n/a  \n",
       "22              n/a               n/a                           n/a  \n",
       "23          430,000               n/a                           n/a  \n",
       "24              n/a              7.20                          0.01  \n",
       "25              n/a               n/a                           n/a  \n",
       "26              n/a               n/a                           n/a  \n",
       "27              n/a              7.39                          0.01  \n",
       "28              n/a              7.01                          0.00  \n",
       "29              n/a              7.02                          0.00  \n",
       "30           41,263              7.03                          0.01  \n",
       "31          471,500              6.85                          0.00  \n",
       "32        1,050,000              6.93                          0.00  \n",
       "33        1,762,000              6.96                          0.02  \n",
       "34           64,000               n/a                           n/a  \n",
       "35          450,000               n/a                           n/a  \n",
       "36          850,000               n/a                           n/a  \n",
       "37              n/a               n/a                           n/a  \n",
       "38        3,400,000              7.11                          0.01  \n",
       "39        2,400,000              7.07                          0.00  \n",
       "40        2,000,000              6.83                          0.00  \n",
       "41        7,300,000              6.84                          0.00  \n",
       "42        2,800,000              6.78                          0.00  \n",
       "43        6,100,000              6.77                          0.00  "
      ],
      "text/html": "<div>\n<style scoped>\n    .dataframe tbody tr th:only-of-type {\n        vertical-align: middle;\n    }\n\n    .dataframe tbody tr th {\n        vertical-align: top;\n    }\n\n    .dataframe thead th {\n        text-align: right;\n    }\n</style>\n<table border=\"1\" class=\"dataframe\">\n  <thead>\n    <tr style=\"text-align: right;\">\n      <th></th>\n      <th>event_id</th>\n      <th>start_date</th>\n      <th>start_time</th>\n      <th>location</th>\n      <th>end_date</th>\n      <th>end_time</th>\n      <th>duration</th>\n      <th>volume</th>\n      <th>disinfection</th>\n      <th>reason_code</th>\n      <th>TBOD(mg/L)</th>\n      <th>cBOD(mg/L)</th>\n      <th>TSS(mg/L)</th>\n      <th>TP(mg/L)</th>\n      <th>EColi(CFU/100ml)</th>\n      <th>final_effluent_pH</th>\n      <th>final_effluent_total_ci(mg/L)</th>\n    </tr>\n  </thead>\n  <tbody>\n    <tr>\n      <th>1</th>\n      <td>1.0</td>\n      <td>2019-01-23</td>\n      <td>17:26</td>\n      <td>S</td>\n      <td>2019-01-24</td>\n      <td>05:26</td>\n      <td>12.00</td>\n      <td>112.068</td>\n      <td>No</td>\n      <td>1,2,7</td>\n      <td>72.0</td>\n      <td>n/a</td>\n      <td>116</td>\n      <td>2.01</td>\n      <td>n/a</td>\n      <td>7.49</td>\n      <td>n/a</td>\n    </tr>\n    <tr>\n      <th>2</th>\n      <td>2.0</td>\n      <td>2019-02-06</td>\n      <td>16:20</td>\n      <td>S</td>\n      <td>2019-02-06</td>\n      <td>20:32</td>\n      <td>4.20</td>\n      <td>24.089</td>\n      <td>No</td>\n      <td>1,2,7</td>\n      <td>68.0</td>\n      <td>n/a</td>\n      <td>95.5</td>\n      <td>1.54</td>\n      <td>n/a</td>\n      <td>7.02</td>\n      <td>n/a</td>\n    </tr>\n    <tr>\n      <th>3</th>\n      <td>3.0</td>\n      <td>2019-02-12</td>\n      <td>23:43</td>\n      <td>S</td>\n      <td>2019-02-13</td>\n      <td>02:34</td>\n      <td>2.86</td>\n      <td>28.050</td>\n      <td>No</td>\n      <td>1,2,7</td>\n      <td>62.0</td>\n      <td>n/a</td>\n      <td>73.2</td>\n      <td>1.54</td>\n      <td>n/a</td>\n      <td>7.27</td>\n      <td>n/a</td>\n    </tr>\n    <tr>\n      <th>4</th>\n      <td>4.0</td>\n      <td>2019-02-24</td>\n      <td>14:03</td>\n      <td>S</td>\n      <td>2019-02-24</td>\n      <td>21:10</td>\n      <td>7.12</td>\n      <td>21.111</td>\n      <td>No</td>\n      <td>1,2,7</td>\n      <td>39.0</td>\n      <td>n/a</td>\n      <td>89.0</td>\n      <td>1.62</td>\n      <td>n/a</td>\n      <td>7.19</td>\n      <td>n/a</td>\n    </tr>\n    <tr>\n      <th>5</th>\n      <td>5.0</td>\n      <td>2019-03-10</td>\n      <td>11:12</td>\n      <td>S</td>\n      <td>2019-03-10</td>\n      <td>23:28</td>\n      <td>12.26</td>\n      <td>100.792</td>\n      <td>No</td>\n      <td>1,2,7</td>\n      <td>54.0</td>\n      <td>n/a</td>\n      <td>67.0</td>\n      <td>1.54</td>\n      <td>n/a</td>\n      <td>6.97</td>\n      <td>n/a</td>\n    </tr>\n    <tr>\n      <th>6</th>\n      <td>6.0</td>\n      <td>2019-03-30</td>\n      <td>14:00</td>\n      <td>S</td>\n      <td>2019-04-01</td>\n      <td>00:33</td>\n      <td>34.55</td>\n      <td>375.967</td>\n      <td>No</td>\n      <td>1,2,7</td>\n      <td>33.0</td>\n      <td>n/a</td>\n      <td>73.4</td>\n      <td>1.56</td>\n      <td>n/a</td>\n      <td>7.09</td>\n      <td>n/a</td>\n    </tr>\n    <tr>\n      <th>7</th>\n      <td>7.0</td>\n      <td>2019-03-31</td>\n      <td>01:10</td>\n      <td>HCS01</td>\n      <td>2019-03-31</td>\n      <td>05:50</td>\n      <td>4.67</td>\n      <td>1.981</td>\n      <td>No</td>\n      <td>1,2,7</td>\n      <td>n/a</td>\n      <td>n/a</td>\n      <td>n/a</td>\n      <td>n/a</td>\n      <td>n/a</td>\n      <td>n/a</td>\n      <td>n/a</td>\n    </tr>\n    <tr>\n      <th>8</th>\n      <td>8.0</td>\n      <td>2019-04-08</td>\n      <td>00:55</td>\n      <td>S</td>\n      <td>2019-04-08</td>\n      <td>04:06</td>\n      <td>3.18</td>\n      <td>17.428</td>\n      <td>No</td>\n      <td>1,7</td>\n      <td>59.0</td>\n      <td>n/a</td>\n      <td>87.0</td>\n      <td>1.97</td>\n      <td>n/a</td>\n      <td>7.21</td>\n      <td>n/a</td>\n    </tr>\n    <tr>\n      <th>9</th>\n      <td>9.0</td>\n      <td>2019-04-14</td>\n      <td>21:17</td>\n      <td>S</td>\n      <td>2019-04-15</td>\n      <td>10:46</td>\n      <td>13.48</td>\n      <td>107.730</td>\n      <td>No</td>\n      <td>1,7</td>\n      <td>42.0</td>\n      <td>n/a</td>\n      <td>76.1</td>\n      <td>1.27</td>\n      <td>n/a</td>\n      <td>7.09</td>\n      <td>n/a</td>\n    </tr>\n    <tr>\n      <th>10</th>\n      <td>10.0</td>\n      <td>2019-04-15</td>\n      <td>08:20</td>\n      <td>HCS01</td>\n      <td>2019-04-15</td>\n      <td>14:40</td>\n      <td>6.33</td>\n      <td>19.591</td>\n      <td>No</td>\n      <td>1,7</td>\n      <td>n/a</td>\n      <td>n/a</td>\n      <td>n/a</td>\n      <td>n/a</td>\n      <td>n/a</td>\n      <td>n/a</td>\n      <td>n/a</td>\n    </tr>\n    <tr>\n      <th>11</th>\n      <td>11.0</td>\n      <td>2019-04-19</td>\n      <td>22:13</td>\n      <td>S</td>\n      <td>2019-04-21</td>\n      <td>02:30</td>\n      <td>21.11</td>\n      <td>190.770</td>\n      <td>No</td>\n      <td>1,7</td>\n      <td>51.0</td>\n      <td>n/a</td>\n      <td>64.3</td>\n      <td>1.160</td>\n      <td>n/a</td>\n      <td>7.50</td>\n      <td>n/a</td>\n    </tr>\n    <tr>\n      <th>13</th>\n      <td>12.0</td>\n      <td>2019-04-20</td>\n      <td>11:30</td>\n      <td>HCS01</td>\n      <td>2019-04-21</td>\n      <td>12:10</td>\n      <td>24.67</td>\n      <td>151.847</td>\n      <td>No</td>\n      <td>1,7</td>\n      <td>n/a</td>\n      <td>n/a</td>\n      <td>n/a</td>\n      <td>n/a</td>\n      <td>n/a</td>\n      <td>n/a</td>\n      <td>n/a</td>\n    </tr>\n    <tr>\n      <th>14</th>\n      <td>13.0</td>\n      <td>2019-04-20</td>\n      <td>13:20</td>\n      <td>HCS05</td>\n      <td>2019-04-21</td>\n      <td>05:10</td>\n      <td>15.83</td>\n      <td>25.241</td>\n      <td>No</td>\n      <td>1,7</td>\n      <td>n/a</td>\n      <td>16</td>\n      <td>23.1</td>\n      <td>0.969</td>\n      <td>1,070,000</td>\n      <td>n/a</td>\n      <td>n/a</td>\n    </tr>\n    <tr>\n      <th>15</th>\n      <td>14.0</td>\n      <td>2019-04-20</td>\n      <td>18:10</td>\n      <td>HCS04</td>\n      <td>2019-04-21</td>\n      <td>02:20</td>\n      <td>8.17</td>\n      <td>8.033</td>\n      <td>No</td>\n      <td>1,7</td>\n      <td>n/a</td>\n      <td>n/a*</td>\n      <td>n/a*</td>\n      <td>n/a*</td>\n      <td>n/a*</td>\n      <td>n/a</td>\n      <td>n/a</td>\n    </tr>\n    <tr>\n      <th>16</th>\n      <td>15.0</td>\n      <td>2019-04-26</td>\n      <td>07:14</td>\n      <td>S</td>\n      <td>2019-04-26</td>\n      <td>12:31</td>\n      <td>5.30</td>\n      <td>32.390</td>\n      <td>No</td>\n      <td>1,7</td>\n      <td>41.0</td>\n      <td>n/a</td>\n      <td>74.0</td>\n      <td>1.16</td>\n      <td>n/a</td>\n      <td>7.14</td>\n      <td>n/a</td>\n    </tr>\n    <tr>\n      <th>17</th>\n      <td>16.0</td>\n      <td>2019-05-01</td>\n      <td>06:28</td>\n      <td>S</td>\n      <td>2019-05-01</td>\n      <td>10:39</td>\n      <td>4.18</td>\n      <td>19.610</td>\n      <td>No</td>\n      <td>1,7</td>\n      <td>25.0</td>\n      <td>n/a</td>\n      <td>17.0</td>\n      <td>0.716</td>\n      <td>n/a</td>\n      <td>7.15</td>\n      <td>n/a</td>\n    </tr>\n    <tr>\n      <th>18</th>\n      <td>17.0</td>\n      <td>2019-05-03</td>\n      <td>03:05</td>\n      <td>S</td>\n      <td>2019-05-03</td>\n      <td>20:25</td>\n      <td>17.33</td>\n      <td>127.990</td>\n      <td>No</td>\n      <td>1,7</td>\n      <td>40.0</td>\n      <td>n/a</td>\n      <td>49.5</td>\n      <td>0.890</td>\n      <td>n/a</td>\n      <td>7.14</td>\n      <td>n/a</td>\n    </tr>\n    <tr>\n      <th>19</th>\n      <td>18.0</td>\n      <td>2019-05-03</td>\n      <td>05:10</td>\n      <td>HCS01</td>\n      <td>2019-05-04</td>\n      <td>00:50</td>\n      <td>19.00</td>\n      <td>97.821</td>\n      <td>No</td>\n      <td>1,7</td>\n      <td>n/a</td>\n      <td>n/a</td>\n      <td>n/a</td>\n      <td>n/a</td>\n      <td>n/a</td>\n      <td>n/a</td>\n      <td>n/a</td>\n    </tr>\n    <tr>\n      <th>20</th>\n      <td>19.0</td>\n      <td>2019-05-10</td>\n      <td>07:20</td>\n      <td>S</td>\n      <td>2019-05-10</td>\n      <td>12:18</td>\n      <td>4.97</td>\n      <td>27.850</td>\n      <td>No</td>\n      <td>1,7</td>\n      <td>27.0</td>\n      <td>n/a</td>\n      <td>39.0</td>\n      <td>0.841</td>\n      <td>n/a</td>\n      <td>7.10</td>\n      <td>n/a</td>\n    </tr>\n    <tr>\n      <th>21</th>\n      <td>20.0</td>\n      <td>2019-05-13</td>\n      <td>08:10</td>\n      <td>HCS05</td>\n      <td>2019-05-13</td>\n      <td>19:10</td>\n      <td>11.00</td>\n      <td>49.171</td>\n      <td>No</td>\n      <td>1,7</td>\n      <td>n/a</td>\n      <td>11</td>\n      <td>4.0</td>\n      <td>0.051</td>\n      <td>550</td>\n      <td>n/a</td>\n      <td>n/a</td>\n    </tr>\n    <tr>\n      <th>22</th>\n      <td>21.0</td>\n      <td>2019-05-14</td>\n      <td>04:00</td>\n      <td>HCS01</td>\n      <td>2019-05-15</td>\n      <td>01:00</td>\n      <td>21.00</td>\n      <td>48.702</td>\n      <td>No</td>\n      <td>1,7</td>\n      <td>n/a</td>\n      <td>n/a</td>\n      <td>n/a</td>\n      <td>n/a</td>\n      <td>n/a</td>\n      <td>n/a</td>\n      <td>n/a</td>\n    </tr>\n    <tr>\n      <th>23</th>\n      <td>22.0</td>\n      <td>2019-05-14</td>\n      <td>06:40</td>\n      <td>HCS05</td>\n      <td>2019-05-14</td>\n      <td>23:40</td>\n      <td>17.00</td>\n      <td>69.676</td>\n      <td>No</td>\n      <td>1,7</td>\n      <td>n/a</td>\n      <td>11</td>\n      <td>9.7</td>\n      <td>0.363</td>\n      <td>430,000</td>\n      <td>n/a</td>\n      <td>n/a</td>\n    </tr>\n    <tr>\n      <th>24</th>\n      <td>23.0</td>\n      <td>2019-05-25</td>\n      <td>09:21</td>\n      <td>S</td>\n      <td>2019-05-27</td>\n      <td>00:47</td>\n      <td>39.45</td>\n      <td>215.300</td>\n      <td>Yes</td>\n      <td>1,7</td>\n      <td>n/a</td>\n      <td>32</td>\n      <td>75.7</td>\n      <td>1.46</td>\n      <td>n/a</td>\n      <td>7.20</td>\n      <td>0.01</td>\n    </tr>\n    <tr>\n      <th>25</th>\n      <td>24.0</td>\n      <td>2019-05-25</td>\n      <td>18:40</td>\n      <td>HCS01</td>\n      <td>2019-05-27</td>\n      <td>02:10</td>\n      <td>31.50</td>\n      <td>85.306</td>\n      <td>No</td>\n      <td>1,7</td>\n      <td>n/a</td>\n      <td>n/a</td>\n      <td>n/a</td>\n      <td>n/a</td>\n      <td>n/a</td>\n      <td>n/a</td>\n      <td>n/a</td>\n    </tr>\n    <tr>\n      <th>26</th>\n      <td>25.0</td>\n      <td>2019-05-28</td>\n      <td>06:40</td>\n      <td>HCS01</td>\n      <td>2019-05-29</td>\n      <td>00:30</td>\n      <td>17.83</td>\n      <td>29.641</td>\n      <td>No</td>\n      <td>1,7</td>\n      <td>n/a</td>\n      <td>n/a</td>\n      <td>n/a</td>\n      <td>n/a</td>\n      <td>n/a</td>\n      <td>n/a</td>\n      <td>n/a</td>\n    </tr>\n    <tr>\n      <th>27</th>\n      <td>26.0</td>\n      <td>2019-05-28</td>\n      <td>08:05</td>\n      <td>S</td>\n      <td>2019-05-28</td>\n      <td>23:58</td>\n      <td>15.89</td>\n      <td>64.970</td>\n      <td>Yes</td>\n      <td>1,7</td>\n      <td>n/a</td>\n      <td>30</td>\n      <td>43.5</td>\n      <td>1.08</td>\n      <td>n/a</td>\n      <td>7.39</td>\n      <td>0.01</td>\n    </tr>\n    <tr>\n      <th>28</th>\n      <td>27.0</td>\n      <td>2019-06-05</td>\n      <td>14:39</td>\n      <td>S</td>\n      <td>2019-06-06</td>\n      <td>03:04</td>\n      <td>12.43</td>\n      <td>91.070</td>\n      <td>Yes</td>\n      <td>1,7</td>\n      <td>n/a</td>\n      <td>13</td>\n      <td>28.3</td>\n      <td>0.792</td>\n      <td>n/a</td>\n      <td>7.01</td>\n      <td>0.00</td>\n    </tr>\n    <tr>\n      <th>29</th>\n      <td>28.0</td>\n      <td>2019-06-10</td>\n      <td>18:02</td>\n      <td>S</td>\n      <td>2019-06-11</td>\n      <td>01:04</td>\n      <td>7.03</td>\n      <td>65.850</td>\n      <td>Yes</td>\n      <td>1,7</td>\n      <td>34.0</td>\n      <td>n/a</td>\n      <td>34.3</td>\n      <td>0.864</td>\n      <td>n/a</td>\n      <td>7.02</td>\n      <td>0.00</td>\n    </tr>\n    <tr>\n      <th>30</th>\n      <td>29.0</td>\n      <td>2019-06-13</td>\n      <td>11:02</td>\n      <td>S</td>\n      <td>2019-06-14</td>\n      <td>06:02</td>\n      <td>19.01</td>\n      <td>116.970</td>\n      <td>Yes</td>\n      <td>1,7</td>\n      <td>24.0</td>\n      <td>n/a</td>\n      <td>17.8</td>\n      <td>0.702</td>\n      <td>41,263</td>\n      <td>7.03</td>\n      <td>0.01</td>\n    </tr>\n    <tr>\n      <th>31</th>\n      <td>30.0</td>\n      <td>2019-06-20</td>\n      <td>21:47</td>\n      <td>S</td>\n      <td>2019-06-21</td>\n      <td>16:23</td>\n      <td>18.58</td>\n      <td>107.220</td>\n      <td>Yes</td>\n      <td>1,7</td>\n      <td>32.5</td>\n      <td>n/a</td>\n      <td>34.4</td>\n      <td>0.920</td>\n      <td>471,500</td>\n      <td>6.85</td>\n      <td>0.00</td>\n    </tr>\n    <tr>\n      <th>32</th>\n      <td>31.0</td>\n      <td>2019-06-25</td>\n      <td>00:46</td>\n      <td>S</td>\n      <td>2019-06-25</td>\n      <td>15:10</td>\n      <td>14.39</td>\n      <td>90.380</td>\n      <td>Yes</td>\n      <td>1,7</td>\n      <td>42.0</td>\n      <td>n/a</td>\n      <td>51.0</td>\n      <td>1.26</td>\n      <td>1,050,000</td>\n      <td>6.93</td>\n      <td>0.00</td>\n    </tr>\n    <tr>\n      <th>33</th>\n      <td>32.0</td>\n      <td>2019-07-06</td>\n      <td>13:59</td>\n      <td>S</td>\n      <td>2019-07-07</td>\n      <td>23:53</td>\n      <td>33.90</td>\n      <td>231.110</td>\n      <td>Yes</td>\n      <td>1,7</td>\n      <td>34.0</td>\n      <td>n/a</td>\n      <td>46.2</td>\n      <td>0.779</td>\n      <td>1,762,000</td>\n      <td>6.96</td>\n      <td>0.02</td>\n    </tr>\n    <tr>\n      <th>34</th>\n      <td>33.0</td>\n      <td>2019-07-06</td>\n      <td>15:30</td>\n      <td>HCS08</td>\n      <td>2019-07-08</td>\n      <td>01:10</td>\n      <td>33.67</td>\n      <td>76.851</td>\n      <td>No</td>\n      <td>1,7</td>\n      <td>n/a</td>\n      <td>6</td>\n      <td>212</td>\n      <td>0.418</td>\n      <td>64,000</td>\n      <td>n/a</td>\n      <td>n/a</td>\n    </tr>\n    <tr>\n      <th>35</th>\n      <td>34.0</td>\n      <td>2019-07-06</td>\n      <td>19:20</td>\n      <td>HCS04</td>\n      <td>2019-07-08</td>\n      <td>00:00</td>\n      <td>28.67</td>\n      <td>35.671</td>\n      <td>No</td>\n      <td>1,7</td>\n      <td>n/a</td>\n      <td>15</td>\n      <td>23.0</td>\n      <td>0.504</td>\n      <td>450,000</td>\n      <td>n/a</td>\n      <td>n/a</td>\n    </tr>\n    <tr>\n      <th>36</th>\n      <td>35.0</td>\n      <td>2019-07-06</td>\n      <td>19:30</td>\n      <td>HCS09</td>\n      <td>2019-07-06</td>\n      <td>21:00</td>\n      <td>1.50</td>\n      <td>10.562</td>\n      <td>No</td>\n      <td>1,7</td>\n      <td>n/a</td>\n      <td>11</td>\n      <td>77.7</td>\n      <td>0.495</td>\n      <td>850,000</td>\n      <td>n/a</td>\n      <td>n/a</td>\n    </tr>\n    <tr>\n      <th>37</th>\n      <td>36.0</td>\n      <td>2019-07-06</td>\n      <td>20:00</td>\n      <td>HCS01</td>\n      <td>2019-07-08</td>\n      <td>01:00</td>\n      <td>29.00</td>\n      <td>98.351</td>\n      <td>No</td>\n      <td>1,7</td>\n      <td>n/a</td>\n      <td>n/a</td>\n      <td>n/a</td>\n      <td>n/a</td>\n      <td>n/a</td>\n      <td>n/a</td>\n      <td>n/a</td>\n    </tr>\n    <tr>\n      <th>38</th>\n      <td>37.0</td>\n      <td>2019-07-17</td>\n      <td>11:19</td>\n      <td>S</td>\n      <td>2019-07-17</td>\n      <td>17:15</td>\n      <td>5.93</td>\n      <td>28.600</td>\n      <td>Yes</td>\n      <td>1,7</td>\n      <td>49.0</td>\n      <td>n/a</td>\n      <td>63.0</td>\n      <td>1.79</td>\n      <td>3,400,000</td>\n      <td>7.11</td>\n      <td>0.01</td>\n    </tr>\n    <tr>\n      <th>39</th>\n      <td>38.0</td>\n      <td>2019-07-20</td>\n      <td>22:52</td>\n      <td>S</td>\n      <td>2019-07-21</td>\n      <td>02:30</td>\n      <td>3.63</td>\n      <td>26.260</td>\n      <td>Yes</td>\n      <td>1,7</td>\n      <td>39.0</td>\n      <td>n/a</td>\n      <td>64.8</td>\n      <td>1.26</td>\n      <td>2,400,000</td>\n      <td>7.07</td>\n      <td>0.00</td>\n    </tr>\n    <tr>\n      <th>40</th>\n      <td>39.0</td>\n      <td>2019-07-30</td>\n      <td>07:38</td>\n      <td>S</td>\n      <td>2019-07-30</td>\n      <td>11:20</td>\n      <td>3.70</td>\n      <td>28.320</td>\n      <td>Yes</td>\n      <td>1,7</td>\n      <td>40.0</td>\n      <td>n/a</td>\n      <td>48.0</td>\n      <td>1.50</td>\n      <td>2,000,000</td>\n      <td>6.83</td>\n      <td>0.00</td>\n    </tr>\n    <tr>\n      <th>41</th>\n      <td>40.0</td>\n      <td>2019-08-08</td>\n      <td>16:00</td>\n      <td>S</td>\n      <td>2019-08-08</td>\n      <td>18:35</td>\n      <td>2.60</td>\n      <td>25.710</td>\n      <td>Yes</td>\n      <td>1,7</td>\n      <td>99.0</td>\n      <td>n/a</td>\n      <td>69.0</td>\n      <td>2.62</td>\n      <td>7,300,000</td>\n      <td>6.84</td>\n      <td>0.00</td>\n    </tr>\n    <tr>\n      <th>42</th>\n      <td>41.0</td>\n      <td>2019-08-18</td>\n      <td>06:37</td>\n      <td>S</td>\n      <td>2019-08-18</td>\n      <td>10:12</td>\n      <td>3.58</td>\n      <td>13.630</td>\n      <td>Yes</td>\n      <td>1,7</td>\n      <td>23.0</td>\n      <td>n/a</td>\n      <td>30.0</td>\n      <td>0.66</td>\n      <td>2,800,000</td>\n      <td>6.78</td>\n      <td>0.00</td>\n    </tr>\n    <tr>\n      <th>43</th>\n      <td>42.0</td>\n      <td>2019-09-11</td>\n      <td>21:11</td>\n      <td>S</td>\n      <td>2019-09-11</td>\n      <td>23:59</td>\n      <td>2.79</td>\n      <td>28.700</td>\n      <td>Yes</td>\n      <td>1,7</td>\n      <td>65.0</td>\n      <td>n/a</td>\n      <td>51.5</td>\n      <td>1.68</td>\n      <td>6,100,000</td>\n      <td>6.77</td>\n      <td>0.00</td>\n    </tr>\n  </tbody>\n</table>\n</div>"
     },
     "metadata": {},
     "execution_count": 307
    }
   ],
   "source": [
    "pd_df"
   ]
  },
  {
   "cell_type": "code",
   "execution_count": 308,
   "metadata": {},
   "outputs": [],
   "source": [
    "# EXTRACT SECOND PAGE TABLE\n",
    "# Requires more precision, so we use the \"area\" parameter in tabula"
   ]
  },
  {
   "cell_type": "code",
   "execution_count": 309,
   "metadata": {},
   "outputs": [],
   "source": [
    "left = 38.04\n",
    "top = 96.52\n",
    "width = 714.63\n",
    "height = 293.78\n",
    "\n",
    "y1 = top\n",
    "x1 = left\n",
    "y2 = top + height\n",
    "x2 = left + width\n"
   ]
  },
  {
   "cell_type": "code",
   "execution_count": 310,
   "metadata": {},
   "outputs": [],
   "source": [
    "df_2 = tabula.read_pdf(\"../data/wastewatercollection-2019-bypass-overflow-log.pdf\", pages='2', area=[y1, x1, y2, x2])"
   ]
  },
  {
   "cell_type": "code",
   "execution_count": 311,
   "metadata": {},
   "outputs": [],
   "source": [
    "pd_df_2 = pd.DataFrame(df_2[0])"
   ]
  },
  {
   "cell_type": "code",
   "execution_count": 312,
   "metadata": {},
   "outputs": [],
   "source": [
    "pd_df_2 = pd_df_2.rename(columns={\n",
    "    'Unnamed: 0': 'event_id', \n",
    "    'Date\\ryyyy-mm-dd': 'start_date', \n",
    "    'Time': 'start_time', \n",
    "    '(see\\rbelow)': 'location', \n",
    "    'Date\\ryyyy-mm-dd.1': 'end_date', \n",
    "    'Time.1': 'end_time', \n",
    "    'Hours': 'duration', \n",
    "    'ML': 'volume', \n",
    "    'Yes / No': 'disinfection',\n",
    "    'Code': 'reason_code',\n",
    "    'TBOD\\rmg/L': 'TBOD(mg/L)',\n",
    "    'cBOD\\rmg/L': 'cBOD(mg/L)',\n",
    "    'TSS\\rmg/L': 'TSS(mg/L)',\n",
    "    'TP\\rmg/L': 'TP(mg/L)',\n",
    "    'E.coli\\rCFU/100ml': 'EColi(CFU/100ml)',\n",
    "    'pH': 'final_effluent_pH',\n",
    "    'Total Cl\\rmg/L': 'final_effluent_total_ci(mg/L)'\n",
    "})"
   ]
  },
  {
   "cell_type": "code",
   "execution_count": 313,
   "metadata": {},
   "outputs": [],
   "source": [
    "pd_df_2.at[0, 'end_date'] = '2019-10-02'\n",
    "pd_df_2.at[0, 'end_time'] = '19:45'\n",
    "pd_df_2.at[0, 'final_effluent_pH'] = '6.99'\n",
    "pd_df_2.at[0, 'final_effluent_total_ci(mg/L)'] = '0.01'\n",
    "pd_df_2 = pd_df_2.drop(1)\n",
    "pd_df_2 = pd_df_2.drop(2)\n"
   ]
  },
  {
   "cell_type": "code",
   "execution_count": 314,
   "metadata": {},
   "outputs": [],
   "source": [
    "\n",
    "pd_df_2.at[19, 'end_date'] = '2019-12-31'\n",
    "pd_df_2.at[19, 'end_time'] = '11:21'\n",
    "pd_df_2.at[19, 'duration'] = '14.50'\n",
    "pd_df_2 = pd_df_2.drop(20)\n",
    "pd_df_2 = pd_df_2.drop(21)\n",
    "pd_df_2 = pd_df_2.drop(22)\n",
    "pd_df_2 = pd_df_2.drop(23)\n"
   ]
  },
  {
   "cell_type": "code",
   "execution_count": 315,
   "metadata": {},
   "outputs": [
    {
     "output_type": "execute_result",
     "data": {
      "text/plain": [
       "    event_id  start_date start_time location    end_date end_time duration  \\\n",
       "0       43.0  2019-10-01      18:09        S  2019-10-02    19:45    14.66   \n",
       "3       44.0  2019-10-16      07:31    HCG14  2019-10-16    07:39     0.13   \n",
       "4       45.0  2019-10-16      08:20        S  2019-10-16    14:22     6.03   \n",
       "5       46.0  2019-10-27      02:33        S  2019-10-27    15:34    13.01   \n",
       "6       47.0  2019-10-27      04:00    HCS04  2019-10-27    15:50    11.83   \n",
       "7       48.0  2019-10-27      03:10    DC011  2019-10-27    04:03     0.88   \n",
       "8       49.0  2019-10-27      03:07    HCG14  2019-10-27    03:31     0.40   \n",
       "9       50.0  2019-10-27      04:20    HCS01  2019-10-28    00:10    19.83   \n",
       "10      51.0  2019-10-27      04:30    HCS07  2019-10-27    07:50     3.33   \n",
       "11      52.0  2019-10-27      10:30    HCS05  2019-10-27    21:00    10.50   \n",
       "12      53.0  2019-10-31      13:00        S  2019-11-01    02:30    13.51   \n",
       "13      54.0  2019-10-31      16:20    HCS01  2019-11-01    15:40    23.30   \n",
       "14      55.0  2019-10-31      16:30    HCS04  2019-11-01    07:30    15.00   \n",
       "15      56.0  2019-12-01      12:03        S  2019-12-01    23:56    11.89   \n",
       "16      57.0  2019-12-14      07:03    HCG03  2019-12-14    17:08    10.08   \n",
       "17      58.0  2019-12-14      10:36        S  2019-12-14    11:35    12.98   \n",
       "18      59.0  2019-12-30      03:05        S  2019-12-30    19:52    16.79   \n",
       "19      60.0  2019-12-29      12:03    HCG03  2019-12-31    11:21    14.50   \n",
       "24      61.0  2019-12-30      08:32    HCS01  2019-12-31    05:10    20.60   \n",
       "25      62.0  2019-12-30      08:32    HCS05  2019-12-30    16:53     8.30   \n",
       "\n",
       "     volume disinfection reason_code TBOD(mg/L) cBOD(mg/L) TSS(mg/L) TP(mg/L)  \\\n",
       "0    53.390          Yes         1,7       62.0        n/a      72.7     1.73   \n",
       "3       n/a           No         1,7        n/a        n/a       n/a      n/a   \n",
       "4    30.160           No         1,7       36.0        n/a      47.0     1.43   \n",
       "5   180.390           No         1,7       37.0        n/a      59.9     1.45   \n",
       "6    34.453           No         1,7        n/a       n/a*      n/a*     n/a*   \n",
       "7     0.009           No         1,7        n/a        n/a       n/a      n/a   \n",
       "8       n/a           No         1,7        n/a        n/a       n/a      n/a   \n",
       "9   103.195           No         1,7        n/a        n/a       n/a      n/a   \n",
       "10    6.292           No         1,7        n/a      n/a**     n/a**    n/a**   \n",
       "11   11.682           No         1,7        n/a         99       113     2.44   \n",
       "12  171.000           No         1,7       38.5        n/a      44.9     1.12   \n",
       "13  116.802           No         1,7        n/a        n/a       n/a      n/a   \n",
       "14   35.112           No         1,7        n/a         20      10.7    0.975   \n",
       "15   78.180           No         1,7       53.5        n/a      85.7     1.76   \n",
       "16      n/a           No         1,7        n/a        n/a       n/a      n/a   \n",
       "17  106.630           No         1,7       57.0        n/a      77.5     1.63   \n",
       "18  127.000           No         1,7       48.7        n/a        73     1.53   \n",
       "19      n/a           No         1,7        n/a        n/a       n/a      n/a   \n",
       "24   85.023           No         1,7        n/a        n/a       n/a      n/a   \n",
       "25   18.646           No         1,7        n/a         65       176     2.12   \n",
       "\n",
       "   EColi(CFU/100ml) final_effluent_pH final_effluent_total_ci(mg/L)  \n",
       "0         4,700,000              6.99                          0.01  \n",
       "3               n/a               n/a                           n/a  \n",
       "4         1,500,000              6.91                           n/a  \n",
       "5         1,260,000              7.06                           n/a  \n",
       "6              n/a*               n/a                           n/a  \n",
       "7               n/a               n/a                           n/a  \n",
       "8               n/a               n/a                           n/a  \n",
       "9               n/a               n/a                           n/a  \n",
       "10            n/a**               n/a                           n/a  \n",
       "11        2,100,000               n/a                           n/a  \n",
       "12          640,000              6.99                           n/a  \n",
       "13              n/a               n/a                           n/a  \n",
       "14        1,900,000               n/a                           n/a  \n",
       "15        1,410,000              7.12                           n/a  \n",
       "16              n/a               n/a                           n/a  \n",
       "17        1,535,000              7.13                           n/a  \n",
       "18        1,766,667              7.23                           n/a  \n",
       "19              n/a               n/a                           n/a  \n",
       "24              n/a               n/a                           n/a  \n",
       "25        1,600,000               n/a                           n/a  "
      ],
      "text/html": "<div>\n<style scoped>\n    .dataframe tbody tr th:only-of-type {\n        vertical-align: middle;\n    }\n\n    .dataframe tbody tr th {\n        vertical-align: top;\n    }\n\n    .dataframe thead th {\n        text-align: right;\n    }\n</style>\n<table border=\"1\" class=\"dataframe\">\n  <thead>\n    <tr style=\"text-align: right;\">\n      <th></th>\n      <th>event_id</th>\n      <th>start_date</th>\n      <th>start_time</th>\n      <th>location</th>\n      <th>end_date</th>\n      <th>end_time</th>\n      <th>duration</th>\n      <th>volume</th>\n      <th>disinfection</th>\n      <th>reason_code</th>\n      <th>TBOD(mg/L)</th>\n      <th>cBOD(mg/L)</th>\n      <th>TSS(mg/L)</th>\n      <th>TP(mg/L)</th>\n      <th>EColi(CFU/100ml)</th>\n      <th>final_effluent_pH</th>\n      <th>final_effluent_total_ci(mg/L)</th>\n    </tr>\n  </thead>\n  <tbody>\n    <tr>\n      <th>0</th>\n      <td>43.0</td>\n      <td>2019-10-01</td>\n      <td>18:09</td>\n      <td>S</td>\n      <td>2019-10-02</td>\n      <td>19:45</td>\n      <td>14.66</td>\n      <td>53.390</td>\n      <td>Yes</td>\n      <td>1,7</td>\n      <td>62.0</td>\n      <td>n/a</td>\n      <td>72.7</td>\n      <td>1.73</td>\n      <td>4,700,000</td>\n      <td>6.99</td>\n      <td>0.01</td>\n    </tr>\n    <tr>\n      <th>3</th>\n      <td>44.0</td>\n      <td>2019-10-16</td>\n      <td>07:31</td>\n      <td>HCG14</td>\n      <td>2019-10-16</td>\n      <td>07:39</td>\n      <td>0.13</td>\n      <td>n/a</td>\n      <td>No</td>\n      <td>1,7</td>\n      <td>n/a</td>\n      <td>n/a</td>\n      <td>n/a</td>\n      <td>n/a</td>\n      <td>n/a</td>\n      <td>n/a</td>\n      <td>n/a</td>\n    </tr>\n    <tr>\n      <th>4</th>\n      <td>45.0</td>\n      <td>2019-10-16</td>\n      <td>08:20</td>\n      <td>S</td>\n      <td>2019-10-16</td>\n      <td>14:22</td>\n      <td>6.03</td>\n      <td>30.160</td>\n      <td>No</td>\n      <td>1,7</td>\n      <td>36.0</td>\n      <td>n/a</td>\n      <td>47.0</td>\n      <td>1.43</td>\n      <td>1,500,000</td>\n      <td>6.91</td>\n      <td>n/a</td>\n    </tr>\n    <tr>\n      <th>5</th>\n      <td>46.0</td>\n      <td>2019-10-27</td>\n      <td>02:33</td>\n      <td>S</td>\n      <td>2019-10-27</td>\n      <td>15:34</td>\n      <td>13.01</td>\n      <td>180.390</td>\n      <td>No</td>\n      <td>1,7</td>\n      <td>37.0</td>\n      <td>n/a</td>\n      <td>59.9</td>\n      <td>1.45</td>\n      <td>1,260,000</td>\n      <td>7.06</td>\n      <td>n/a</td>\n    </tr>\n    <tr>\n      <th>6</th>\n      <td>47.0</td>\n      <td>2019-10-27</td>\n      <td>04:00</td>\n      <td>HCS04</td>\n      <td>2019-10-27</td>\n      <td>15:50</td>\n      <td>11.83</td>\n      <td>34.453</td>\n      <td>No</td>\n      <td>1,7</td>\n      <td>n/a</td>\n      <td>n/a*</td>\n      <td>n/a*</td>\n      <td>n/a*</td>\n      <td>n/a*</td>\n      <td>n/a</td>\n      <td>n/a</td>\n    </tr>\n    <tr>\n      <th>7</th>\n      <td>48.0</td>\n      <td>2019-10-27</td>\n      <td>03:10</td>\n      <td>DC011</td>\n      <td>2019-10-27</td>\n      <td>04:03</td>\n      <td>0.88</td>\n      <td>0.009</td>\n      <td>No</td>\n      <td>1,7</td>\n      <td>n/a</td>\n      <td>n/a</td>\n      <td>n/a</td>\n      <td>n/a</td>\n      <td>n/a</td>\n      <td>n/a</td>\n      <td>n/a</td>\n    </tr>\n    <tr>\n      <th>8</th>\n      <td>49.0</td>\n      <td>2019-10-27</td>\n      <td>03:07</td>\n      <td>HCG14</td>\n      <td>2019-10-27</td>\n      <td>03:31</td>\n      <td>0.40</td>\n      <td>n/a</td>\n      <td>No</td>\n      <td>1,7</td>\n      <td>n/a</td>\n      <td>n/a</td>\n      <td>n/a</td>\n      <td>n/a</td>\n      <td>n/a</td>\n      <td>n/a</td>\n      <td>n/a</td>\n    </tr>\n    <tr>\n      <th>9</th>\n      <td>50.0</td>\n      <td>2019-10-27</td>\n      <td>04:20</td>\n      <td>HCS01</td>\n      <td>2019-10-28</td>\n      <td>00:10</td>\n      <td>19.83</td>\n      <td>103.195</td>\n      <td>No</td>\n      <td>1,7</td>\n      <td>n/a</td>\n      <td>n/a</td>\n      <td>n/a</td>\n      <td>n/a</td>\n      <td>n/a</td>\n      <td>n/a</td>\n      <td>n/a</td>\n    </tr>\n    <tr>\n      <th>10</th>\n      <td>51.0</td>\n      <td>2019-10-27</td>\n      <td>04:30</td>\n      <td>HCS07</td>\n      <td>2019-10-27</td>\n      <td>07:50</td>\n      <td>3.33</td>\n      <td>6.292</td>\n      <td>No</td>\n      <td>1,7</td>\n      <td>n/a</td>\n      <td>n/a**</td>\n      <td>n/a**</td>\n      <td>n/a**</td>\n      <td>n/a**</td>\n      <td>n/a</td>\n      <td>n/a</td>\n    </tr>\n    <tr>\n      <th>11</th>\n      <td>52.0</td>\n      <td>2019-10-27</td>\n      <td>10:30</td>\n      <td>HCS05</td>\n      <td>2019-10-27</td>\n      <td>21:00</td>\n      <td>10.50</td>\n      <td>11.682</td>\n      <td>No</td>\n      <td>1,7</td>\n      <td>n/a</td>\n      <td>99</td>\n      <td>113</td>\n      <td>2.44</td>\n      <td>2,100,000</td>\n      <td>n/a</td>\n      <td>n/a</td>\n    </tr>\n    <tr>\n      <th>12</th>\n      <td>53.0</td>\n      <td>2019-10-31</td>\n      <td>13:00</td>\n      <td>S</td>\n      <td>2019-11-01</td>\n      <td>02:30</td>\n      <td>13.51</td>\n      <td>171.000</td>\n      <td>No</td>\n      <td>1,7</td>\n      <td>38.5</td>\n      <td>n/a</td>\n      <td>44.9</td>\n      <td>1.12</td>\n      <td>640,000</td>\n      <td>6.99</td>\n      <td>n/a</td>\n    </tr>\n    <tr>\n      <th>13</th>\n      <td>54.0</td>\n      <td>2019-10-31</td>\n      <td>16:20</td>\n      <td>HCS01</td>\n      <td>2019-11-01</td>\n      <td>15:40</td>\n      <td>23.30</td>\n      <td>116.802</td>\n      <td>No</td>\n      <td>1,7</td>\n      <td>n/a</td>\n      <td>n/a</td>\n      <td>n/a</td>\n      <td>n/a</td>\n      <td>n/a</td>\n      <td>n/a</td>\n      <td>n/a</td>\n    </tr>\n    <tr>\n      <th>14</th>\n      <td>55.0</td>\n      <td>2019-10-31</td>\n      <td>16:30</td>\n      <td>HCS04</td>\n      <td>2019-11-01</td>\n      <td>07:30</td>\n      <td>15.00</td>\n      <td>35.112</td>\n      <td>No</td>\n      <td>1,7</td>\n      <td>n/a</td>\n      <td>20</td>\n      <td>10.7</td>\n      <td>0.975</td>\n      <td>1,900,000</td>\n      <td>n/a</td>\n      <td>n/a</td>\n    </tr>\n    <tr>\n      <th>15</th>\n      <td>56.0</td>\n      <td>2019-12-01</td>\n      <td>12:03</td>\n      <td>S</td>\n      <td>2019-12-01</td>\n      <td>23:56</td>\n      <td>11.89</td>\n      <td>78.180</td>\n      <td>No</td>\n      <td>1,7</td>\n      <td>53.5</td>\n      <td>n/a</td>\n      <td>85.7</td>\n      <td>1.76</td>\n      <td>1,410,000</td>\n      <td>7.12</td>\n      <td>n/a</td>\n    </tr>\n    <tr>\n      <th>16</th>\n      <td>57.0</td>\n      <td>2019-12-14</td>\n      <td>07:03</td>\n      <td>HCG03</td>\n      <td>2019-12-14</td>\n      <td>17:08</td>\n      <td>10.08</td>\n      <td>n/a</td>\n      <td>No</td>\n      <td>1,7</td>\n      <td>n/a</td>\n      <td>n/a</td>\n      <td>n/a</td>\n      <td>n/a</td>\n      <td>n/a</td>\n      <td>n/a</td>\n      <td>n/a</td>\n    </tr>\n    <tr>\n      <th>17</th>\n      <td>58.0</td>\n      <td>2019-12-14</td>\n      <td>10:36</td>\n      <td>S</td>\n      <td>2019-12-14</td>\n      <td>11:35</td>\n      <td>12.98</td>\n      <td>106.630</td>\n      <td>No</td>\n      <td>1,7</td>\n      <td>57.0</td>\n      <td>n/a</td>\n      <td>77.5</td>\n      <td>1.63</td>\n      <td>1,535,000</td>\n      <td>7.13</td>\n      <td>n/a</td>\n    </tr>\n    <tr>\n      <th>18</th>\n      <td>59.0</td>\n      <td>2019-12-30</td>\n      <td>03:05</td>\n      <td>S</td>\n      <td>2019-12-30</td>\n      <td>19:52</td>\n      <td>16.79</td>\n      <td>127.000</td>\n      <td>No</td>\n      <td>1,7</td>\n      <td>48.7</td>\n      <td>n/a</td>\n      <td>73</td>\n      <td>1.53</td>\n      <td>1,766,667</td>\n      <td>7.23</td>\n      <td>n/a</td>\n    </tr>\n    <tr>\n      <th>19</th>\n      <td>60.0</td>\n      <td>2019-12-29</td>\n      <td>12:03</td>\n      <td>HCG03</td>\n      <td>2019-12-31</td>\n      <td>11:21</td>\n      <td>14.50</td>\n      <td>n/a</td>\n      <td>No</td>\n      <td>1,7</td>\n      <td>n/a</td>\n      <td>n/a</td>\n      <td>n/a</td>\n      <td>n/a</td>\n      <td>n/a</td>\n      <td>n/a</td>\n      <td>n/a</td>\n    </tr>\n    <tr>\n      <th>24</th>\n      <td>61.0</td>\n      <td>2019-12-30</td>\n      <td>08:32</td>\n      <td>HCS01</td>\n      <td>2019-12-31</td>\n      <td>05:10</td>\n      <td>20.60</td>\n      <td>85.023</td>\n      <td>No</td>\n      <td>1,7</td>\n      <td>n/a</td>\n      <td>n/a</td>\n      <td>n/a</td>\n      <td>n/a</td>\n      <td>n/a</td>\n      <td>n/a</td>\n      <td>n/a</td>\n    </tr>\n    <tr>\n      <th>25</th>\n      <td>62.0</td>\n      <td>2019-12-30</td>\n      <td>08:32</td>\n      <td>HCS05</td>\n      <td>2019-12-30</td>\n      <td>16:53</td>\n      <td>8.30</td>\n      <td>18.646</td>\n      <td>No</td>\n      <td>1,7</td>\n      <td>n/a</td>\n      <td>65</td>\n      <td>176</td>\n      <td>2.12</td>\n      <td>1,600,000</td>\n      <td>n/a</td>\n      <td>n/a</td>\n    </tr>\n  </tbody>\n</table>\n</div>"
     },
     "metadata": {},
     "execution_count": 315
    }
   ],
   "source": [
    "pd_df_2"
   ]
  },
  {
   "cell_type": "code",
   "execution_count": 316,
   "metadata": {},
   "outputs": [],
   "source": [
    "# COMBINE TWO TABLES"
   ]
  },
  {
   "cell_type": "code",
   "execution_count": 318,
   "metadata": {},
   "outputs": [],
   "source": [
    "result = pd.concat([pd_df, pd_df_2])"
   ]
  },
  {
   "cell_type": "code",
   "execution_count": 320,
   "metadata": {},
   "outputs": [],
   "source": [
    "result = result.astype({'event_id':'int'})"
   ]
  },
  {
   "cell_type": "code",
   "execution_count": 321,
   "metadata": {},
   "outputs": [
    {
     "output_type": "execute_result",
     "data": {
      "text/plain": [
       "    event_id  start_date start_time location    end_date end_time duration  \\\n",
       "1          1  2019-01-23      17:26        S  2019-01-24    05:26    12.00   \n",
       "2          2  2019-02-06      16:20        S  2019-02-06    20:32     4.20   \n",
       "3          3  2019-02-12      23:43        S  2019-02-13    02:34     2.86   \n",
       "4          4  2019-02-24      14:03        S  2019-02-24    21:10     7.12   \n",
       "5          5  2019-03-10      11:12        S  2019-03-10    23:28    12.26   \n",
       "..       ...         ...        ...      ...         ...      ...      ...   \n",
       "17        58  2019-12-14      10:36        S  2019-12-14    11:35    12.98   \n",
       "18        59  2019-12-30      03:05        S  2019-12-30    19:52    16.79   \n",
       "19        60  2019-12-29      12:03    HCG03  2019-12-31    11:21    14.50   \n",
       "24        61  2019-12-30      08:32    HCS01  2019-12-31    05:10    20.60   \n",
       "25        62  2019-12-30      08:32    HCS05  2019-12-30    16:53     8.30   \n",
       "\n",
       "     volume disinfection reason_code TBOD(mg/L) cBOD(mg/L) TSS(mg/L) TP(mg/L)  \\\n",
       "1   112.068           No       1,2,7       72.0        n/a       116     2.01   \n",
       "2    24.089           No       1,2,7       68.0        n/a      95.5     1.54   \n",
       "3     28.05           No       1,2,7       62.0        n/a      73.2     1.54   \n",
       "4    21.111           No       1,2,7       39.0        n/a      89.0     1.62   \n",
       "5   100.792           No       1,2,7       54.0        n/a      67.0     1.54   \n",
       "..      ...          ...         ...        ...        ...       ...      ...   \n",
       "17  106.630           No         1,7       57.0        n/a      77.5     1.63   \n",
       "18  127.000           No         1,7       48.7        n/a        73     1.53   \n",
       "19      n/a           No         1,7        n/a        n/a       n/a      n/a   \n",
       "24   85.023           No         1,7        n/a        n/a       n/a      n/a   \n",
       "25   18.646           No         1,7        n/a         65       176     2.12   \n",
       "\n",
       "   EColi(CFU/100ml) final_effluent_pH final_effluent_total_ci(mg/L)  \n",
       "1               n/a              7.49                           n/a  \n",
       "2               n/a              7.02                           n/a  \n",
       "3               n/a              7.27                           n/a  \n",
       "4               n/a              7.19                           n/a  \n",
       "5               n/a              6.97                           n/a  \n",
       "..              ...               ...                           ...  \n",
       "17        1,535,000              7.13                           n/a  \n",
       "18        1,766,667              7.23                           n/a  \n",
       "19              n/a               n/a                           n/a  \n",
       "24              n/a               n/a                           n/a  \n",
       "25        1,600,000               n/a                           n/a  \n",
       "\n",
       "[62 rows x 17 columns]"
      ],
      "text/html": "<div>\n<style scoped>\n    .dataframe tbody tr th:only-of-type {\n        vertical-align: middle;\n    }\n\n    .dataframe tbody tr th {\n        vertical-align: top;\n    }\n\n    .dataframe thead th {\n        text-align: right;\n    }\n</style>\n<table border=\"1\" class=\"dataframe\">\n  <thead>\n    <tr style=\"text-align: right;\">\n      <th></th>\n      <th>event_id</th>\n      <th>start_date</th>\n      <th>start_time</th>\n      <th>location</th>\n      <th>end_date</th>\n      <th>end_time</th>\n      <th>duration</th>\n      <th>volume</th>\n      <th>disinfection</th>\n      <th>reason_code</th>\n      <th>TBOD(mg/L)</th>\n      <th>cBOD(mg/L)</th>\n      <th>TSS(mg/L)</th>\n      <th>TP(mg/L)</th>\n      <th>EColi(CFU/100ml)</th>\n      <th>final_effluent_pH</th>\n      <th>final_effluent_total_ci(mg/L)</th>\n    </tr>\n  </thead>\n  <tbody>\n    <tr>\n      <th>1</th>\n      <td>1</td>\n      <td>2019-01-23</td>\n      <td>17:26</td>\n      <td>S</td>\n      <td>2019-01-24</td>\n      <td>05:26</td>\n      <td>12.00</td>\n      <td>112.068</td>\n      <td>No</td>\n      <td>1,2,7</td>\n      <td>72.0</td>\n      <td>n/a</td>\n      <td>116</td>\n      <td>2.01</td>\n      <td>n/a</td>\n      <td>7.49</td>\n      <td>n/a</td>\n    </tr>\n    <tr>\n      <th>2</th>\n      <td>2</td>\n      <td>2019-02-06</td>\n      <td>16:20</td>\n      <td>S</td>\n      <td>2019-02-06</td>\n      <td>20:32</td>\n      <td>4.20</td>\n      <td>24.089</td>\n      <td>No</td>\n      <td>1,2,7</td>\n      <td>68.0</td>\n      <td>n/a</td>\n      <td>95.5</td>\n      <td>1.54</td>\n      <td>n/a</td>\n      <td>7.02</td>\n      <td>n/a</td>\n    </tr>\n    <tr>\n      <th>3</th>\n      <td>3</td>\n      <td>2019-02-12</td>\n      <td>23:43</td>\n      <td>S</td>\n      <td>2019-02-13</td>\n      <td>02:34</td>\n      <td>2.86</td>\n      <td>28.05</td>\n      <td>No</td>\n      <td>1,2,7</td>\n      <td>62.0</td>\n      <td>n/a</td>\n      <td>73.2</td>\n      <td>1.54</td>\n      <td>n/a</td>\n      <td>7.27</td>\n      <td>n/a</td>\n    </tr>\n    <tr>\n      <th>4</th>\n      <td>4</td>\n      <td>2019-02-24</td>\n      <td>14:03</td>\n      <td>S</td>\n      <td>2019-02-24</td>\n      <td>21:10</td>\n      <td>7.12</td>\n      <td>21.111</td>\n      <td>No</td>\n      <td>1,2,7</td>\n      <td>39.0</td>\n      <td>n/a</td>\n      <td>89.0</td>\n      <td>1.62</td>\n      <td>n/a</td>\n      <td>7.19</td>\n      <td>n/a</td>\n    </tr>\n    <tr>\n      <th>5</th>\n      <td>5</td>\n      <td>2019-03-10</td>\n      <td>11:12</td>\n      <td>S</td>\n      <td>2019-03-10</td>\n      <td>23:28</td>\n      <td>12.26</td>\n      <td>100.792</td>\n      <td>No</td>\n      <td>1,2,7</td>\n      <td>54.0</td>\n      <td>n/a</td>\n      <td>67.0</td>\n      <td>1.54</td>\n      <td>n/a</td>\n      <td>6.97</td>\n      <td>n/a</td>\n    </tr>\n    <tr>\n      <th>...</th>\n      <td>...</td>\n      <td>...</td>\n      <td>...</td>\n      <td>...</td>\n      <td>...</td>\n      <td>...</td>\n      <td>...</td>\n      <td>...</td>\n      <td>...</td>\n      <td>...</td>\n      <td>...</td>\n      <td>...</td>\n      <td>...</td>\n      <td>...</td>\n      <td>...</td>\n      <td>...</td>\n      <td>...</td>\n    </tr>\n    <tr>\n      <th>17</th>\n      <td>58</td>\n      <td>2019-12-14</td>\n      <td>10:36</td>\n      <td>S</td>\n      <td>2019-12-14</td>\n      <td>11:35</td>\n      <td>12.98</td>\n      <td>106.630</td>\n      <td>No</td>\n      <td>1,7</td>\n      <td>57.0</td>\n      <td>n/a</td>\n      <td>77.5</td>\n      <td>1.63</td>\n      <td>1,535,000</td>\n      <td>7.13</td>\n      <td>n/a</td>\n    </tr>\n    <tr>\n      <th>18</th>\n      <td>59</td>\n      <td>2019-12-30</td>\n      <td>03:05</td>\n      <td>S</td>\n      <td>2019-12-30</td>\n      <td>19:52</td>\n      <td>16.79</td>\n      <td>127.000</td>\n      <td>No</td>\n      <td>1,7</td>\n      <td>48.7</td>\n      <td>n/a</td>\n      <td>73</td>\n      <td>1.53</td>\n      <td>1,766,667</td>\n      <td>7.23</td>\n      <td>n/a</td>\n    </tr>\n    <tr>\n      <th>19</th>\n      <td>60</td>\n      <td>2019-12-29</td>\n      <td>12:03</td>\n      <td>HCG03</td>\n      <td>2019-12-31</td>\n      <td>11:21</td>\n      <td>14.50</td>\n      <td>n/a</td>\n      <td>No</td>\n      <td>1,7</td>\n      <td>n/a</td>\n      <td>n/a</td>\n      <td>n/a</td>\n      <td>n/a</td>\n      <td>n/a</td>\n      <td>n/a</td>\n      <td>n/a</td>\n    </tr>\n    <tr>\n      <th>24</th>\n      <td>61</td>\n      <td>2019-12-30</td>\n      <td>08:32</td>\n      <td>HCS01</td>\n      <td>2019-12-31</td>\n      <td>05:10</td>\n      <td>20.60</td>\n      <td>85.023</td>\n      <td>No</td>\n      <td>1,7</td>\n      <td>n/a</td>\n      <td>n/a</td>\n      <td>n/a</td>\n      <td>n/a</td>\n      <td>n/a</td>\n      <td>n/a</td>\n      <td>n/a</td>\n    </tr>\n    <tr>\n      <th>25</th>\n      <td>62</td>\n      <td>2019-12-30</td>\n      <td>08:32</td>\n      <td>HCS05</td>\n      <td>2019-12-30</td>\n      <td>16:53</td>\n      <td>8.30</td>\n      <td>18.646</td>\n      <td>No</td>\n      <td>1,7</td>\n      <td>n/a</td>\n      <td>65</td>\n      <td>176</td>\n      <td>2.12</td>\n      <td>1,600,000</td>\n      <td>n/a</td>\n      <td>n/a</td>\n    </tr>\n  </tbody>\n</table>\n<p>62 rows × 17 columns</p>\n</div>"
     },
     "metadata": {},
     "execution_count": 321
    }
   ],
   "source": [
    "result"
   ]
  },
  {
   "cell_type": "code",
   "execution_count": null,
   "metadata": {},
   "outputs": [],
   "source": []
  }
 ],
 "metadata": {
  "kernelspec": {
   "display_name": "Python 3 (ipykernel)",
   "language": "python",
   "name": "python3"
  },
  "language_info": {
   "codemirror_mode": {
    "name": "ipython",
    "version": 3
   },
   "file_extension": ".py",
   "mimetype": "text/x-python",
   "name": "python",
   "nbconvert_exporter": "python",
   "pygments_lexer": "ipython3",
   "version": "3.10.8-final"
  }
 },
 "nbformat": 4,
 "nbformat_minor": 2
}