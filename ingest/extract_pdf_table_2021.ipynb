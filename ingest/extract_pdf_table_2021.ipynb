{
 "metadata": {
  "language_info": {
   "codemirror_mode": {
    "name": "ipython",
    "version": 3
   },
   "file_extension": ".py",
   "mimetype": "text/x-python",
   "name": "python",
   "nbconvert_exporter": "python",
   "pygments_lexer": "ipython3",
   "version": "3.10.8-final"
  },
  "orig_nbformat": 2,
  "kernelspec": {
   "name": "python3",
   "display_name": "Python 3 (ipykernel)",
   "language": "python"
  }
 },
 "nbformat": 4,
 "nbformat_minor": 2,
 "cells": [
  {
   "cell_type": "code",
   "execution_count": 117,
   "metadata": {},
   "outputs": [],
   "source": [
    "import tabula\n",
    "import pandas as pd"
   ]
  },
  {
   "cell_type": "code",
   "execution_count": 118,
   "metadata": {},
   "outputs": [],
   "source": [
    "df_tabula = tabula.read_pdf(\"../data/wastewatercollection-2021-bypass-overflow-log.pdf\", pages='all')"
   ]
  },
  {
   "cell_type": "code",
   "execution_count": 119,
   "metadata": {},
   "outputs": [
    {
     "output_type": "execute_result",
     "data": {
      "text/plain": [
       "        No        1,7  \n",
       " 29        0.20        n/a         No        1,7  \n",
       " 30        1.33        NaN        NaN        NaN  \n",
       " 31        1.07        n/a         No        1,7  \n",
       " 32        3.05     24.033        Yes        1,7  ,\n",
       "     Event # Location Start\\rDateTime\\ryyyy-mm-dd Stop\\rDateTime\\ryyyy-mm-dd  \\\n",
       " 0      90.0    HCG03                  2021-09-15                      00:06   \n",
       " 1      91.0    HCG14                  2021-09-15                      00:18   \n",
       " 2      92.0    HCG03                  2021-09-22                      05:17   \n",
       " 3       NaN      NaN                  2021-09-22                      08:52   \n",
       " 4       NaN      NaN                  2021-09-22                      14:18   \n",
       " 5       NaN      NaN                  2021-09-22                      19:22   \n",
       " 6       NaN      NaN                  2021-09-23                      02:59   \n",
       " 7      93.0    HCG14                  2021-09-22                      09:13   \n",
       " 8       NaN      NaN                  2021-09-22                      19:45   \n",
       " 9       NaN      NaN                  2021-09-22                      22:47   \n",
       " 10     94.0        S                  2021-09-22                      10:57   \n",
       " 11     95.0    HCS04                  2021-09-22                      15:24   \n",
       " 12     96.0    DC011                  2021-09-22                      20:23   \n",
       " 13     97.0    HCS01                  2021-09-22                      20:37   \n",
       " 14     98.0    HC001                  2021-09-22                      20:48   \n",
       " 15     99.0    DC012                  2021-09-22                      21:16   \n",
       " 16    100.0    HCS05                  2021-09-22                      21:47   \n",
       " 17    101.0       HW                  2021-09-22                      21:53   \n",
       " 18    102.0    HCS08                  2021-09-22                      22:04   \n",
       " 19    103.0    HCG04                  2021-09-22                      22:19   \n",
       " 20    104.0    HCS7C                  2021-09-23                      00:38   \n",
       " 21    105.0    HCG03                  2021-09-25                      15:03   \n",
       " 22    106.0    HCG03                  2021-10-03                      13:28   \n",
       " 23      NaN      NaN                  2021-10-03                      20:19   \n",
       " 24      NaN      NaN                  2021-10-04                      09:29   \n",
       " 25    107.0    HCG14                  2021-10-03                      20:26   \n",
       " 26      NaN      NaN                  2021-10-04                      00:45   \n",
       " 27      NaN      NaN                  2021-10-04                      02:50   \n",
       " 28    108.0        S                  2021-10-03                      21:32   \n",
       " 29    109.0    DC011                  2021-10-03                      21:42   \n",
       " 30    110.0    HCS04                  2021-10-03                      22:18   \n",
       " 31    111.0    HCG04                  2021-10-03                      22:41   \n",
       " 32    112.0    HCS08                  2021-10-03                      22:41   \n",
       " \n",
       "    DurationVolume\\rDisinfectionReason\\rHoursMLYes / NoCode Unnamed: 0  \\\n",
       " 0                                          2021-09-15           00:56   \n",
       " 1                                          2021-09-15           00:57   \n",
       " 2                                          2021-09-22           07:08   \n",
       " 3                                          2021-09-22           13:14   \n",
       " 4                                          2021-09-22           16:14   \n",
       " 5                                          2021-09-23           01:36   \n",
       " 6                                          2021-09-23           03:40   \n",
       " 7                                          2021-09-22           10:10   \n",
       " 8                                          2021-09-22           22:47   \n",
       " 9                                          2021-09-22           22:49   \n",
       " 10                                         2021-09-23           10:44   \n",
       " 11                                         2021-09-24           07:08   \n",
       " 12                                         2021-09-23           00:15   \n",
       " 13                                         2021-09-23           19:36   \n",
       " 14                                         2021-09-23           01:56   \n",
       " 15                                         2021-09-22           22:51   \n",
       " 16                                         2021-09-23           18:49   \n",
       " 17                                         2021-09-23           01:35   \n",
       " 18                                         2021-09-23           12:07   \n",
       " 19                                         2021-09-23           02:01   \n",
       " 20                                         2021-09-23           01:39   \n",
       " 21                                         2021-09-25           15:23   \n",
       " 22                                         2021-10-03           14:15   \n",
       " 23                                         2021-10-04           07:18   \n",
       " 24                                         2021-10-04           10:12   \n",
       " 25                                         2021-10-04           00:22   \n",
       " 26                                         2021-10-04           02:21   \n",
       " 27                                         2021-10-04           03:26   \n",
       " 28                                         2021-10-04           20:45   \n",
       " 29                                         2021-10-04           04:06   \n",
       " 30                                         2021-10-04           22:30   \n",
       " 31                                         2021-10-04           04:32   \n",
       " 32                                         2021-10-04           21:14   \n",
       " \n",
       "     Unnamed: 1 Unnamed: 2 Unnamed: 3 Unnamed: 4  \n",
       " 0         0.84        n/a         No        1,7  \n",
       " 1         0.66        n/a         No        1,7  \n",
       " 2         1.84        n/a         No        1,7  \n",
       " 3         4.35        NaN        NaN        NaN  \n",
       " 4         1.94        NaN        NaN        NaN  \n",
       " 5         6.23        NaN        NaN        NaN  \n",
       " 6         0.69        NaN        NaN        NaN  \n",
       " 7         0.96        n/a         No        1,7  \n",
       " 8         3.04        NaN        NaN        NaN  \n",
       " 9         0.02        NaN        NaN        NaN  \n",
       " 10       23.78    272.260        Yes        1,7  \n",
       " 11       39.71    164.034         No        1,7  \n",
       " 12        3.87      0.265         No        1,7  \n",
       " 13       22.99    148.260         No        1,7  \n",
       " 14        5.13      4.095         No        1,7  \n",
       " 15        1.58      0.044         No        1,7  \n",
       " 16       21.03     82.099         No        1,7  \n",
       " 17        3.70     39.140         No        1,7  \n",
       " 18       14.05      2.092         No        1,7  \n",
       " 19        3.69        n/a         No        1,7  \n",
       " 20        1.03      0.123         No        1,7  \n",
       " 21        0.33        n/a         No        1,7  \n",
       " 22        0.78        n/a         No        1,7  \n",
       " 23       10.99        NaN        NaN        NaN  \n",
       " 24        0.71        NaN        NaN        NaN  \n",
       " 25        3.93        n/a         No        1,7  \n",
       " 26        1.60        NaN        NaN        NaN  \n",
       " 27        0.58        NaN        NaN        NaN  \n",
       " 28       23.40    265.084        Yes        1,7  \n",
       " 29        0.29      0.039         No        1,7  \n",
       " 30       24.20    104.529         No        1,7  \n",
       " 31        5.85        n/a         No        1,7  \n",
       " 32       22.55      4.434         No        1,7  ,\n",
       "     Event # Location Start\\rDateTime\\ryyyy-mm-dd Stop\\rDateTime\\ryyyy-mm-dd  \\\n",
       " 0     113.0       PH                  2021-10-03                      22:36   \n",
       " 1     114.0    HCS7C                  2021-10-03                      23:14   \n",
       " 2     115.0    HCS01                  2021-10-03                      23:25   \n",
       " 3     116.0       HW                  2021-10-04                      03:00   \n",
       " 4     117.0    HCG03                  2021-10-09                      03:03   \n",
       " 5       NaN      NaN                  2021-10-09                      03:26   \n",
       " 6       NaN      NaN                  2021-10-09                      04:16   \n",
       " 7       NaN      NaN                  2021-10-09                      11:08   \n",
       " 8     118.0    HCG14                  2021-10-09                      04:24   \n",
       " 9       NaN      NaN                  2021-10-09                      05:08   \n",
       " 10    119.0    HC001                  2021-10-09                      06:01   \n",
       " 11    120.0        S                  2021-10-09                      06:11   \n",
       " 12    121.0    HCS01                  2021-10-09                      08:30   \n",
       " 13    122.0    HCG03                  2021-10-15                      19:20   \n",
       " 14      NaN      NaN                  2021-10-15                      19:53   \n",
       " 15    123.0    HCG14                  2021-10-15                      20:03   \n",
       " 16    124.0    HC001                  2021-10-15                      20:20   \n",
       " 17    125.0        S                  2021-10-15                      20:45   \n",
       " 18    126.0    HCG03                  2021-10-21                      19:39   \n",
       " 19    127.0    HCG03                  2021-10-25                      01:42   \n",
       " 20      NaN      NaN                  2021-10-25                      05:31   \n",
       " 21      NaN      NaN                  2021-10-25                      08:04   \n",
       " 22      NaN      NaN                  2021-10-25                      10:04   \n",
       " 23      NaN      NaN                  2021-10-25                      12:53   \n",
       " 24      NaN      NaN                  2021-10-25                      16:02   \n",
       " 25      NaN      NaN                  2021-10-26                      01:03   \n",
       " 26      NaN      NaN                  2021-10-26                      02:57   \n",
       " 27      NaN      NaN                  2021-10-26                      04:20   \n",
       " 28    128.0        S                  2021-10-25                      13:50   \n",
       " 29    129.0    HCS01                  2021-10-25                      16:40   \n",
       " 30    130.0    HCS04                  2021-10-26                      05:14   \n",
       " 31    131.0    HCS05                  2021-10-26                      11:18   \n",
       " \n",
       "    DurationVolume\\rDisinfectionReason\\rHoursMLYes / NoCode Unnamed: 0  \\\n",
       " 0                                          2021-10-04           04:25   \n",
       " 1                                          2021-10-04           04:21   \n",
       " 2                                          2021-10-05           04:29   \n",
       " 3                                          2021-10-04           07:07   \n",
       " 4                                          2021-10-09           03:21   \n",
       " 5                                          2021-10-09           03:41   \n",
       " 6                                          2021-10-09           08:31   \n",
       " 7                                          2021-10-09           12:04   \n",
       " 8                                          2021-10-09           04:48   \n",
       " 9                                          2021-10-09           07:02   \n",
       " 10                                         2021-10-09           10:43   \n",
       " 11                                         2021-10-10           00:15   \n",
       " 12                                         2021-10-09           22:49   \n",
       " 13                                         2021-10-15           19:49   \n",
       " 14                                         2021-10-15           21:55   \n",
       " 15                                         2021-10-15           21:10   \n",
       " 16                                         2021-10-15           21:07   \n",
       " 17                                         2021-10-16           12:09   \n",
       " 18                                         2021-10-21           20:10   \n",
       " 19                                         2021-10-25           03:11   \n",
       " 20                                         2021-10-25           06:19   \n",
       " 21                                         2021-10-25           08:31   \n",
       " 22                                         2021-10-25           12:08   \n",
       " 23                                         2021-10-25           15:07   \n",
       " 24                                         2021-10-25           18:49   \n",
       " 25                                         2021-10-26           02:12   \n",
       " 26                                         2021-10-26           03:38   \n",
       " 27                                         2021-10-26           07:06   \n",
       " 28                                         2021-10-27           05:26   \n",
       " 29                                         2021-10-27           05:45   \n",
       " 30                                         2021-10-27           01:54   \n",
       " 31                                         2021-10-27           07:15   \n",
       " \n",
       "     Unnamed: 1 Unnamed: 2 Unnamed: 3 Unnamed: 4  \n",
       " 0         5.81     48.434         No      1,3,7  \n",
       " 1         5.11      8.750         No        1,7  \n",
       " 2        29.07    228.682         No        1,7  \n",
       " 3         4.12     40.108         No        1,7  \n",
       " 4         0.31        n/a         No        1,7  \n",
       " 5         0.24        NaN        NaN        NaN  \n",
       " 6         4.25        NaN        NaN        NaN  \n",
       " 7         0.93        NaN        NaN        NaN  \n",
       " 8         0.40        n/a         No        1,7  \n",
       " 9         1.89        NaN        NaN        NaN  \n",
       " 10        4.70      3.586         No        1,7  \n",
       " 11       18.08    156.669        Yes        1,7  \n",
       " 12       14.32     59.654         No        1,7  \n",
       " 13        0.49        n/a         No        1,7  \n",
       " 14        2.03        NaN        NaN        NaN  \n",
       " 15        1.13        n/a         No        1,7  \n",
       " 16        0.78      1.653         No        1,7  \n",
       " 17       15.40    114.737        Yes        1,7  \n",
       " 18        0.50        n/a         No        1,7  \n",
       " 19        1.49        n/a         No        1,7  \n",
       " 20        0.79        NaN        NaN        NaN  \n",
       " 21        0.45        NaN        NaN        NaN  \n",
       " 22        2.07        NaN        NaN        NaN  \n",
       " 23        2.24        NaN        NaN        NaN  \n",
       " 24        2.79        NaN        NaN        NaN  \n",
       " 25        1.14        NaN        NaN        NaN  \n",
       " 26        0.69        NaN        NaN        NaN  \n",
       " 27        2.76        NaN        NaN        NaN  \n",
       " 28       39.61    453.663         No        1,7  \n",
       " 29       37.07    279.499         No        1,7  \n",
       " 30       20.67     40.147         No        1,7  \n",
       " 31       19.95     46.132         No        1,7  ,\n",
       "        Event # Location Start\\rDateTime\\ryyyy-mm-dd  \\\n",
       " 0          132    HCG03                  2021-10-29   \n",
       " 1          NaN      NaN                  2021-10-29   \n",
       " 2          133    HCG14                  2021-10-29   \n",
       " 3          NaN      NaN                  2021-10-29   \n",
       " 4          134        S                  2021-10-29   \n",
       " 5          135    HCS01                  2021-10-30   \n",
       " 6          NaN      NaN                  2021-10-31   \n",
       " 7          136    HCS04                  2021-10-30   \n",
       " 8          137    HCS08                  2021-10-30   \n",
       " 9          138    HCG03                  2021-10-30   \n",
       " 10         139    HCG03                  2021-11-12   \n",
       " 11         140    HCG03                  2021-12-05   \n",
       " 12         NaN      NaN                  2021-12-06   \n",
       " 13         141    HCG14                  2021-12-05   \n",
       " 14         NaN      NaN                  2021-12-05   \n",
       " 15         NaN      NaN                  2021-12-05   \n",
       " 16         NaN      NaN                  2021-12-05   \n",
       " 17         NaN      NaN                  2021-12-05   \n",
       " 18         142        S                  2021-12-05   \n",
       " 19         143    HCG03                  2021-12-11   \n",
       " 20         NaN      NaN                  2021-12-11   \n",
       " 21         144    HCG14                  2021-12-11   \n",
       " 22         145    DC011                  2021-12-11   \n",
       " 23         146    DC012                  2021-12-11   \n",
       " 24         147        S                  2021-12-11   \n",
       " 25         148    HCG03                  2021-12-25   \n",
       " 26  2021-12-25    15:11                  2021-12-25   \n",
       " \n",
       "    Stop\\rDateTime\\ryyyy-mm-dd  \\\n",
       " 0                       16:18   \n",
       " 1                       23:42   \n",
       " 2                       17:03   \n",
       " 3                       19:09   \n",
       " 4                       18:06   \n",
       " 5                       00:15   \n",
       " 6                       15:40   \n",
       " 7                       01:24   \n",
       " 8                       08:53   \n",
       " 9                       20:58   \n",
       " 10                      20:01   \n",
       " 11                      20:47   \n",
       " 12                      08:57   \n",
       " 13                      21:16   \n",
       " 14                      21:17   \n",
       " 15                      21:35   \n",
       " 16                      22:13   \n",
       " 17                      22:39   \n",
       " 18                      22:38   \n",
       " 19                      01:54   \n",
       " 20                      04:07   \n",
       " 21                      04:30   \n",
       " 22                      05:17   \n",
       " 23                      05:24   \n",
       " 24                      05:40   \n",
       " 25                      13:24   \n",
       " 26                      15:26   \n",
       " \n",
       "    DurationVolume\\rDisinfectionReason\\rHoursMLYes / NoCode Unnamed: 0  \\\n",
       " 0                                          2021-10-29           21:10   \n",
       " 1                                          2021-10-30           05:43   \n",
       " 2                                          2021-10-29           18:27   \n",
       " 3                                          2021-10-29           19:29   \n",
       " 4                                          2021-10-31           01:42   \n",
       " 5                                          2021-10-31           05:16   \n",
       " 6                                          2021-10-31           15:55   \n",
       " 7                                          2021-10-31           09:43   \n",
       " 8                                          2021-10-30           17:03   \n",
       " 9                                          2021-10-30           21:10   \n",
       " 10                                         2021-11-12           20:44   \n",
       " 11                                         2021-12-06           00:28   \n",
       " 12                                         2021-12-06           09:19   \n",
       " 13                                         2021-12-05           21:16   \n",
       " 14                                         2021-12-05           21:35   \n",
       " 15                                         2021-12-05           21:36   \n",
       " 16                                         2021-12-05           22:39   \n",
       " 17                                         2021-12-05           22:40   \n",
       " 18                                         2021-12-06           05:12   \n",
       " 19                                         2021-12-11           02:18   \n",
       " 20                                         2021-12-11           06:25   \n",
       " 21                                         2021-12-11           06:10   \n",
       " 22                                         2021-12-11           06:42   \n",
       " 23                                         2021-12-11           06:04   \n",
       " 24                                         2021-12-11           14:03   \n",
       " 25                                         2021-12-25           14:14   \n",
       " 26                                               0.25             NaN   \n",
       " \n",
       "     Unnamed: 1 Unnamed: 2 Unnamed: 3 Unnamed: 4  \n",
       " 0         4.87        n/a         No        1,7  \n",
       " 1         6.02        NaN        NaN        NaN  \n",
       " 2         1.41        n/a         No        1,7  \n",
       " 3         0.33        NaN        NaN        NaN  \n",
       " 4        31.59    346.886         No        1,7  \n",
       " 5        29.01    211.499         No        1,7  \n",
       " 6         0.25        NaN        NaN        NaN  \n",
       " 7        32.32     68.835         No        1,7  \n",
       " 8         8.16      0.666         No        1,7  \n",
       " 9         0.20        n/a         No        1,7  \n",
       " 10        0.72        n/a         No        1,7  \n",
       " 11        3.67        n/a         No        1,7  \n",
       " 12        0.36        NaN        NaN        NaN  \n",
       " 13        0.01        n/a         No        1,7  \n",
       " 14        0.29        NaN        NaN        NaN  \n",
       " 15        0.01        NaN        NaN        NaN  \n",
       " 16        0.43        NaN        NaN        NaN  \n",
       " 17        0.00        NaN        NaN        NaN  \n",
       " 18        6.56     55.288         No        1,7  \n",
       " 19        0.39        n/a         No        1,7  \n",
       " 20        2.29        NaN        NaN        NaN  \n",
       " 21        1.68        n/a         No        1,7  \n",
       " 22        1.42      0.106         No        1,7  \n",
       " 23        0.67      0.038         No        1,7  \n",
       " 24        8.38     65.643         No        1,7  \n",
       " 25        0.83        n/a         No        1,7  \n",
       " 26         NaN        NaN        NaN        NaN  ]"
      ]
     },
     "metadata": {},
     "execution_count": 119
    }
   ],
   "source": [
    "df_tabula"
   ]
  },
  {
   "cell_type": "code",
   "execution_count": 120,
   "metadata": {},
   "outputs": [],
   "source": [
    "df1 = pd.DataFrame(df_tabula[0])\n",
    "df2 = pd.DataFrame(df_tabula[1])\n",
    "df3 = pd.DataFrame(df_tabula[2])\n",
    "df4 = pd.DataFrame(df_tabula[3])\n",
    "df5 = pd.DataFrame(df_tabula[4])\n",
    "df6 = pd.DataFrame(df_tabula[5])\n",
    "df7 = pd.DataFrame(df_tabula[6])"
   ]
  },
  {
   "cell_type": "code",
   "execution_count": 121,
   "metadata": {},
   "outputs": [],
   "source": [
    "columns = {\n",
    "    'Event #': 'event_id', \n",
    "    'Location': 'location', \n",
    "    'Start\\rDateTime\\ryyyy-mm-dd': 'start_date', \n",
    "    'Stop\\rDateTime\\ryyyy-mm-dd': 'start_time', \n",
    "    'DurationVolume\\rDisinfectionReason\\rHoursMLYes / NoCode': 'end_date', \n",
    "    'Unnamed: 0': 'end_time', \n",
    "    'Unnamed: 1': 'duration', \n",
    "    'Unnamed: 2': 'volume', \n",
    "    'Unnamed: 3': 'disinfection',\n",
    "    'Unnamed: 4': 'reason_code'\n",
    "}\n",
    "\n",
    "df1 = df1.rename(columns=columns)\n",
    "df2 = df2.rename(columns=columns)\n",
    "df3 = df3.rename(columns=columns)\n",
    "df4 = df4.rename(columns=columns)\n",
    "df5 = df5.rename(columns=columns)\n",
    "df6 = df6.rename(columns=columns)\n",
    "df7 = df7.rename(columns=columns)"
   ]
  },
  {
   "cell_type": "code",
   "execution_count": 122,
   "metadata": {},
   "outputs": [],
   "source": [
    "# TABLE 1\n",
    "\n",
    "df1.at[0, 'end_time'] = '04:37'\n",
    "df1.at[0, 'duration'] = '3.86'\n",
    "df1 = df1.drop(1)"
   ]
  },
  {
   "cell_type": "code",
   "execution_count": 123,
   "metadata": {},
   "outputs": [],
   "source": [
    "df1.at[3, 'end_time'] = '20:37'\n",
    "df1.at[3, 'duration'] = '15.13'\n",
    "df1 = df1.drop(4)"
   ]
  },
  {
   "cell_type": "code",
   "execution_count": 124,
   "metadata": {},
   "outputs": [],
   "source": [
    "df1.at[6, 'end_time'] = '09:13'\n",
    "df1.at[6, 'duration'] = '0.69'\n",
    "df1 = df1.drop(7)"
   ]
  },
  {
   "cell_type": "code",
   "execution_count": 125,
   "metadata": {},
   "outputs": [],
   "source": [
    "df1.at[11, 'end_time'] = '09:59'\n",
    "df1.at[11, 'duration'] = '6.41'\n",
    "df1 = df1.drop(12)"
   ]
  },
  {
   "cell_type": "code",
   "execution_count": 126,
   "metadata": {},
   "outputs": [],
   "source": [
    "df1.at[13, 'end_time'] = '07:30'\n",
    "df1.at[13, 'duration'] = '2.89'\n",
    "df1 = df1.drop(14)"
   ]
  },
  {
   "cell_type": "code",
   "execution_count": 127,
   "metadata": {},
   "outputs": [],
   "source": [
    "df1.at[19, 'end_time'] = '14:08'\n",
    "df1.at[19, 'duration'] = '3.30'\n",
    "df1 = df1.drop(20)"
   ]
  },
  {
   "cell_type": "code",
   "execution_count": 128,
   "metadata": {},
   "outputs": [],
   "source": [
    "df1.at[22, 'end_time'] = '10:43'\n",
    "df1.at[22, 'duration'] = '4.27'\n",
    "df1 = df1.drop(23)"
   ]
  },
  {
   "cell_type": "code",
   "execution_count": 129,
   "metadata": {},
   "outputs": [],
   "source": [
    "df1.at[27, 'end_time'] = '19:30'\n",
    "df1.at[27, 'duration'] = '0.82'\n",
    "df1 = df1.drop(28)"
   ]
  },
  {
   "cell_type": "code",
   "execution_count": 130,
   "metadata": {},
   "outputs": [],
   "source": [
    "# TABLE 2\n",
    "\n",
    "df2.at[2, 'end_time'] = '17:33'\n",
    "df2.at[2, 'duration'] = '1.77'\n",
    "df2 = df2.drop(3)\n"
   ]
  },
  {
   "cell_type": "code",
   "execution_count": 131,
   "metadata": {},
   "outputs": [],
   "source": [
    "df2.at[4, 'end_time'] = '17:27'\n",
    "df2.at[4, 'duration'] = '1.34'\n",
    "df2 = df2.drop(5)"
   ]
  },
  {
   "cell_type": "code",
   "execution_count": 132,
   "metadata": {},
   "outputs": [],
   "source": [
    "df2.at[6, 'end_time'] = '19:11'\n",
    "df2.at[6, 'duration'] = '1.00'\n",
    "df2 = df2.drop(7)"
   ]
  },
  {
   "cell_type": "code",
   "execution_count": 133,
   "metadata": {},
   "outputs": [],
   "source": [
    "df2.at[11, 'end_date'] = '2021-06-26'\n",
    "df2.at[11, 'end_time'] = '09:05'\n",
    "df2.at[11, 'duration'] = '7.05'\n",
    "df2 = df2.drop(12)\n",
    "df2 = df2.drop(13)\n",
    "df2 = df2.drop(14)\n",
    "df2 = df2.drop(15)\n",
    "df2 = df2.drop(16)"
   ]
  },
  {
   "cell_type": "code",
   "execution_count": 134,
   "metadata": {},
   "outputs": [],
   "source": [
    "df2.at[17, 'end_time'] = '07:17'\n",
    "df2.at[17, 'duration'] = '3.13'\n",
    "df2 = df2.drop(18)\n",
    "df2 = df2.drop(19)\n",
    "df2 = df2.drop(20)\n",
    "df2 = df2.drop(21)"
   ]
  },
  {
   "cell_type": "code",
   "execution_count": 135,
   "metadata": {},
   "outputs": [],
   "source": [
    "df2.at[22, 'end_time'] = '10:29'\n",
    "df2.at[22, 'duration'] = '5.88'\n",
    "df2 = df2.drop(23)"
   ]
  },
  {
   "cell_type": "code",
   "execution_count": 136,
   "metadata": {},
   "outputs": [],
   "source": [
    "df2.at[28, 'end_time'] = '19:39'\n",
    "df2.at[28, 'duration'] = '1.29'\n",
    "df2 = df2.drop(29)"
   ]
  },
  {
   "cell_type": "code",
   "execution_count": 137,
   "metadata": {},
   "outputs": [],
   "source": [
    "# TABLE 3"
   ]
  },
  {
   "cell_type": "code",
   "execution_count": 138,
   "metadata": {},
   "outputs": [],
   "source": [
    "df3.at[0, 'end_time'] = '19:05'\n",
    "df3.at[0, 'duration'] = '2.77'\n",
    "df3 = df3.drop(1)"
   ]
  },
  {
   "cell_type": "code",
   "execution_count": 139,
   "metadata": {},
   "outputs": [],
   "source": [
    "df3.at[5, 'end_time'] = '15:20'\n",
    "df3.at[5, 'duration'] = '3.14'\n",
    "df3 = df3.drop(6)"
   ]
  },
  {
   "cell_type": "code",
   "execution_count": 140,
   "metadata": {},
   "outputs": [],
   "source": [
    "df3.at[7, 'end_time'] = '14:45'\n",
    "df3.at[7, 'duration'] = '0.91'\n",
    "df3 = df3.drop(8)\n",
    "df3 = df3.drop(9)"
   ]
  },
  {
   "cell_type": "code",
   "execution_count": 141,
   "metadata": {},
   "outputs": [],
   "source": [
    "df3.at[11, 'end_date'] = '2021-07-25'\n",
    "df3.at[11, 'end_time'] = '00:25'\n",
    "df3.at[11, 'duration'] = '1.12'\n",
    "df3 = df3.drop(12)"
   ]
  },
  {
   "cell_type": "code",
   "execution_count": 142,
   "metadata": {},
   "outputs": [],
   "source": [
    "df3.at[16, 'end_date'] = '2021-08-01'\n",
    "df3.at[16, 'end_time'] = '17:38'\n",
    "df3.at[16, 'duration'] = '0.11'\n",
    "df3 = df3.drop(17)"
   ]
  },
  {
   "cell_type": "code",
   "execution_count": 143,
   "metadata": {},
   "outputs": [],
   "source": [
    "df3.at[20, 'end_time'] = '15:01'\n",
    "df3.at[20, 'duration'] = '0.08'\n",
    "df3 = df3.drop(21)\n",
    "df3 = df3.drop(22)"
   ]
  },
  {
   "cell_type": "code",
   "execution_count": 144,
   "metadata": {},
   "outputs": [],
   "source": [
    "df3.at[24, 'end_time'] = '19:35'\n",
    "df3.at[24, 'duration'] = '0.04'\n",
    "df3 = df3.drop(25)"
   ]
  },
  {
   "cell_type": "code",
   "execution_count": 145,
   "metadata": {},
   "outputs": [],
   "source": [
    "df3.at[28, 'end_time'] = '07:21'\n",
    "df3.at[28, 'duration'] = '1.16'\n",
    "df3 = df3.drop(29)"
   ]
  },
  {
   "cell_type": "code",
   "execution_count": 146,
   "metadata": {},
   "outputs": [],
   "source": [
    "# TABLE 4\n",
    "\n",
    "df4.at[5, 'end_time'] = '23:42'\n",
    "df4.at[5, 'duration'] = '1.08'\n",
    "df4 = df4.drop(6)\n"
   ]
  },
  {
   "cell_type": "code",
   "execution_count": 148,
   "metadata": {},
   "outputs": [],
   "source": [
    "df4.at[7, 'end_time'] = '23:37'\n",
    "df4.at[7, 'duration'] = '0.76'\n",
    "df4 = df4.drop(8)"
   ]
  },
  {
   "cell_type": "code",
   "execution_count": 150,
   "metadata": {},
   "outputs": [],
   "source": [
    "df4.at[9, 'end_time'] = '03:38'\n",
    "df4.at[9, 'duration'] = '1.37'\n",
    "df4 = df4.drop(10)"
   ]
  },
  {
   "cell_type": "code",
   "execution_count": 152,
   "metadata": {},
   "outputs": [],
   "source": [
    "df4.at[12, 'end_date'] = '2021-09-08'\n",
    "df4.at[12, 'end_time'] = '05:09'\n",
    "df4.at[12, 'duration'] = '6.33'\n",
    "df4 = df4.drop(13)\n",
    "df4 = df4.drop(14)"
   ]
  },
  {
   "cell_type": "code",
   "execution_count": 154,
   "metadata": {},
   "outputs": [],
   "source": [
    "df4.at[15, 'end_date'] = '2021-09-08'\n",
    "df4.at[15, 'end_time'] = '04:53'\n",
    "df4.at[15, 'duration'] = '4.77'\n",
    "df4 = df4.drop(16)\n",
    "df4 = df4.drop(17)"
   ]
  },
  {
   "cell_type": "code",
   "execution_count": 156,
   "metadata": {},
   "outputs": [],
   "source": [
    "df4.at[26, 'end_date'] = '2021-09-13'\n",
    "df4.at[26, 'end_time'] = '00:38'\n",
    "df4.at[26, 'duration'] = '1.81'\n",
    "df4 = df4.drop(27)"
   ]
  },
  {
   "cell_type": "code",
   "execution_count": 158,
   "metadata": {},
   "outputs": [],
   "source": [
    "df4.at[29, 'end_time'] = '23:19'\n",
    "df4.at[29, 'duration'] = '1.53'\n",
    "df4 = df4.drop(30)"
   ]
  },
  {
   "cell_type": "code",
   "execution_count": 161,
   "metadata": {},
   "outputs": [],
   "source": [
    "# TABLE 5\n",
    "\n",
    "df5.at[2, 'end_date'] = '2021-09-23'\n",
    "df5.at[2, 'end_time'] = '23:19'\n",
    "df5.at[2, 'duration'] = '15.05'\n",
    "df5 = df5.drop(3)\n",
    "df5 = df5.drop(4)\n",
    "df5 = df5.drop(5)\n",
    "df5 = df5.drop(6)"
   ]
  },
  {
   "cell_type": "code",
   "execution_count": 163,
   "metadata": {},
   "outputs": [],
   "source": [
    "df5.at[7, 'end_time'] = '22:49'\n",
    "df5.at[7, 'duration'] = '4.02'\n",
    "df5 = df5.drop(8)\n",
    "df5 = df5.drop(9)"
   ]
  },
  {
   "cell_type": "code",
   "execution_count": 165,
   "metadata": {},
   "outputs": [],
   "source": [
    "df5.at[22, 'end_date'] = '2021-10-04'\n",
    "df5.at[22, 'end_time'] = '22:49'\n",
    "df5.at[22, 'duration'] = '12.48'\n",
    "df5 = df5.drop(23)\n",
    "df5 = df5.drop(24)"
   ]
  },
  {
   "cell_type": "code",
   "execution_count": 167,
   "metadata": {},
   "outputs": [],
   "source": [
    "df5.at[25, 'end_time'] = '03:26'\n",
    "df5.at[25, 'duration'] = '6.11'\n",
    "df5 = df5.drop(26)\n",
    "df5 = df5.drop(27)"
   ]
  },
  {
   "cell_type": "code",
   "execution_count": 173,
   "metadata": {},
   "outputs": [],
   "source": [
    "# TABLE 6\n",
    "\n",
    "df6.at[4, 'end_time'] = '12:04'\n",
    "df6.at[4, 'duration'] = '5.73'\n",
    "df6 = df6.drop(5)\n",
    "df6 = df6.drop(6)\n",
    "df6 = df6.drop(7)"
   ]
  },
  {
   "cell_type": "code",
   "execution_count": 175,
   "metadata": {},
   "outputs": [],
   "source": [
    "df6.at[8, 'end_time'] = '07:02'\n",
    "df6.at[8, 'duration'] = '2.29'\n",
    "df6 = df6.drop(9)"
   ]
  },
  {
   "cell_type": "code",
   "execution_count": 177,
   "metadata": {},
   "outputs": [],
   "source": [
    "df6.at[13, 'end_time'] = '21:55'\n",
    "df6.at[13, 'duration'] = '2.52'\n",
    "df6 = df6.drop(14)"
   ]
  },
  {
   "cell_type": "code",
   "execution_count": 179,
   "metadata": {},
   "outputs": [],
   "source": [
    "df6.at[19, 'end_date'] = '2021-10-26'\n",
    "df6.at[19, 'end_time'] = '07:06'\n",
    "df6.at[19, 'duration'] = '14.42'\n",
    "df6 = df6.drop(20)\n",
    "df6 = df6.drop(21)\n",
    "df6 = df6.drop(22)\n",
    "df6 = df6.drop(23)\n",
    "df6 = df6.drop(24)\n",
    "df6 = df6.drop(25)\n",
    "df6 = df6.drop(26)\n",
    "df6 = df6.drop(27)"
   ]
  },
  {
   "cell_type": "code",
   "execution_count": 182,
   "metadata": {},
   "outputs": [],
   "source": [
    "# TABLE 7\n",
    "\n",
    "df7.at[0, 'end_date'] = '2021-10-30'\n",
    "df7.at[0, 'end_time'] = '05:43'\n",
    "df7.at[0, 'duration'] = '10.89'\n",
    "df7 = df7.drop(1)"
   ]
  },
  {
   "cell_type": "code",
   "execution_count": 184,
   "metadata": {},
   "outputs": [],
   "source": [
    "df7.at[2, 'end_time'] = '19:29'\n",
    "df7.at[2, 'duration'] = '1.74'\n",
    "df7 = df7.drop(3)"
   ]
  },
  {
   "cell_type": "code",
   "execution_count": 186,
   "metadata": {},
   "outputs": [],
   "source": [
    "df7.at[5, 'end_time'] = '15:55'\n",
    "df7.at[5, 'duration'] = '29.26'\n",
    "df7 = df7.drop(6)"
   ]
  },
  {
   "cell_type": "code",
   "execution_count": 188,
   "metadata": {},
   "outputs": [],
   "source": [
    "df7.at[11, 'end_time'] = '09:19'\n",
    "df7.at[11, 'duration'] = '4.03'\n",
    "df7 = df7.drop(12)"
   ]
  },
  {
   "cell_type": "code",
   "execution_count": 190,
   "metadata": {},
   "outputs": [],
   "source": [
    "df7.at[13, 'end_time'] = '22:40'\n",
    "df7.at[13, 'duration'] = '0.74'\n",
    "df7 = df7.drop(14)\n",
    "df7 = df7.drop(15)\n",
    "df7 = df7.drop(16)\n",
    "df7 = df7.drop(17)"
   ]
  },
  {
   "cell_type": "code",
   "execution_count": 192,
   "metadata": {},
   "outputs": [],
   "source": [
    "df7.at[19, 'end_time'] = '06:25'\n",
    "df7.at[19, 'duration'] = '2.68'\n",
    "df7 = df7.drop(20)"
   ]
  },
  {
   "cell_type": "code",
   "execution_count": 194,
   "metadata": {},
   "outputs": [],
   "source": [
    "df7.at[25, 'end_time'] = '15:26'\n",
    "df7.at[25, 'duration'] = '1.08'\n",
    "df7 = df7.drop(26)"
   ]
  },
  {
   "cell_type": "code",
   "execution_count": 197,
   "metadata": {},
   "outputs": [],
   "source": [
    "result = pd.concat([df1, df2, df3, df4, df5, df6, df7])\n",
    "result = result.astype({'event_id':'int'})\n",
    "result = result.sort_values(by=['event_id'])"
   ]
  },
  {
   "cell_type": "code",
   "execution_count": 198,
   "metadata": {},
   "outputs": [
    {
     "output_type": "execute_result",
     "data": {
      "text/plain": [
       "    event_id location  start_date start_time    end_date end_time duration  \\\n",
       "0          1    HCG03  2021-01-02      00:17  2021-01-02    04:37     3.86   \n",
       "2          2    HCG14  2021-01-02      01:06  2021-01-02    02:20     1.23   \n",
       "3          3        S  2021-01-02      01:48  2021-01-02    20:37    15.13   \n",
       "5          4    HCG03  2021-02-27      06:46  2021-02-27    09:46      3.0   \n",
       "6          5    HCG14  2021-02-27      07:34  2021-02-27    09:13     0.69   \n",
       "..       ...      ...         ...        ...         ...      ...      ...   \n",
       "21       144    HCG14  2021-12-11      04:30  2021-12-11    06:10     1.68   \n",
       "22       145    DC011  2021-12-11      05:17  2021-12-11    06:42     1.42   \n",
       "23       146    DC012  2021-12-11      05:24  2021-12-11    06:04     0.67   \n",
       "24       147        S  2021-12-11      05:40  2021-12-11    14:03     8.38   \n",
       "25       148    HCG03  2021-12-25      13:24  2021-12-25    15:26     1.08   \n",
       "\n",
       "    volume disinfection reason_code  \n",
       "0      n/a           No       1,2,7  \n",
       "2      n/a           No       1,2,7  \n",
       "3   50.877           No       1,2,7  \n",
       "5      n/a           No       1,2,7  \n",
       "6      n/a           No       1,2,7  \n",
       "..     ...          ...         ...  \n",
       "21     n/a           No         1,7  \n",
       "22   0.106           No         1,7  \n",
       "23   0.038           No         1,7  \n",
       "24  65.643           No         1,7  \n",
       "25     n/a           No         1,7  \n",
       "\n",
       "[149 rows x 10 columns]"
      ],
      "text/html": "<div>\n<style scoped>\n    .dataframe tbody tr th:only-of-type {\n        vertical-align: middle;\n    }\n\n    .dataframe tbody tr th {\n        vertical-align: top;\n    }\n\n    .dataframe thead th {\n        text-align: right;\n    }\n</style>\n<table border=\"1\" class=\"dataframe\">\n  <thead>\n    <tr style=\"text-align: right;\">\n      <th></th>\n      <th>event_id</th>\n      <th>location</th>\n      <th>start_date</th>\n      <th>start_time</th>\n      <th>end_date</th>\n      <th>end_time</th>\n      <th>duration</th>\n      <th>volume</th>\n      <th>disinfection</th>\n      <th>reason_code</th>\n    </tr>\n  </thead>\n  <tbody>\n    <tr>\n      <th>0</th>\n      <td>1</td>\n      <td>HCG03</td>\n      <td>2021-01-02</td>\n      <td>00:17</td>\n      <td>2021-01-02</td>\n      <td>04:37</td>\n      <td>3.86</td>\n      <td>n/a</td>\n      <td>No</td>\n      <td>1,2,7</td>\n    </tr>\n    <tr>\n      <th>2</th>\n      <td>2</td>\n      <td>HCG14</td>\n      <td>2021-01-02</td>\n      <td>01:06</td>\n      <td>2021-01-02</td>\n      <td>02:20</td>\n      <td>1.23</td>\n      <td>n/a</td>\n      <td>No</td>\n      <td>1,2,7</td>\n    </tr>\n    <tr>\n      <th>3</th>\n      <td>3</td>\n      <td>S</td>\n      <td>2021-01-02</td>\n      <td>01:48</td>\n      <td>2021-01-02</td>\n      <td>20:37</td>\n      <td>15.13</td>\n      <td>50.877</td>\n      <td>No</td>\n      <td>1,2,7</td>\n    </tr>\n    <tr>\n      <th>5</th>\n      <td>4</td>\n      <td>HCG03</td>\n      <td>2021-02-27</td>\n      <td>06:46</td>\n      <td>2021-02-27</td>\n      <td>09:46</td>\n      <td>3.0</td>\n      <td>n/a</td>\n      <td>No</td>\n      <td>1,2,7</td>\n    </tr>\n    <tr>\n      <th>6</th>\n      <td>5</td>\n      <td>HCG14</td>\n      <td>2021-02-27</td>\n      <td>07:34</td>\n      <td>2021-02-27</td>\n      <td>09:13</td>\n      <td>0.69</td>\n      <td>n/a</td>\n      <td>No</td>\n      <td>1,2,7</td>\n    </tr>\n    <tr>\n      <th>...</th>\n      <td>...</td>\n      <td>...</td>\n      <td>...</td>\n      <td>...</td>\n      <td>...</td>\n      <td>...</td>\n      <td>...</td>\n      <td>...</td>\n      <td>...</td>\n      <td>...</td>\n    </tr>\n    <tr>\n      <th>21</th>\n      <td>144</td>\n      <td>HCG14</td>\n      <td>2021-12-11</td>\n      <td>04:30</td>\n      <td>2021-12-11</td>\n      <td>06:10</td>\n      <td>1.68</td>\n      <td>n/a</td>\n      <td>No</td>\n      <td>1,7</td>\n    </tr>\n    <tr>\n      <th>22</th>\n      <td>145</td>\n      <td>DC011</td>\n      <td>2021-12-11</td>\n      <td>05:17</td>\n      <td>2021-12-11</td>\n      <td>06:42</td>\n      <td>1.42</td>\n      <td>0.106</td>\n      <td>No</td>\n      <td>1,7</td>\n    </tr>\n    <tr>\n      <th>23</th>\n      <td>146</td>\n      <td>DC012</td>\n      <td>2021-12-11</td>\n      <td>05:24</td>\n      <td>2021-12-11</td>\n      <td>06:04</td>\n      <td>0.67</td>\n      <td>0.038</td>\n      <td>No</td>\n      <td>1,7</td>\n    </tr>\n    <tr>\n      <th>24</th>\n      <td>147</td>\n      <td>S</td>\n      <td>2021-12-11</td>\n      <td>05:40</td>\n      <td>2021-12-11</td>\n      <td>14:03</td>\n      <td>8.38</td>\n      <td>65.643</td>\n      <td>No</td>\n      <td>1,7</td>\n    </tr>\n    <tr>\n      <th>25</th>\n      <td>148</td>\n      <td>HCG03</td>\n      <td>2021-12-25</td>\n      <td>13:24</td>\n      <td>2021-12-25</td>\n      <td>15:26</td>\n      <td>1.08</td>\n      <td>n/a</td>\n      <td>No</td>\n      <td>1,7</td>\n    </tr>\n  </tbody>\n</table>\n<p>149 rows × 10 columns</p>\n</div>"
     },
     "metadata": {},
     "execution_count": 198
    }
   ],
   "source": [
    "result"
   ]
  },
  {
   "cell_type": "code",
   "execution_count": null,
   "metadata": {},
   "outputs": [],
   "source": []
  }
 ]
}