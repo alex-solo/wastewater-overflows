{
 "cells": [
  {
   "cell_type": "code",
   "execution_count": 73,
   "metadata": {},
   "outputs": [],
   "source": [
    "import tabula\n",
    "import pandas as pd"
   ]
  },
  {
   "cell_type": "code",
   "execution_count": 74,
   "metadata": {},
   "outputs": [],
   "source": [
    "df = tabula.read_pdf(\"../data/wastewatercollection-2019-bypass-overflow-log.pdf\", pages='all')"
   ]
  },
  {
   "cell_type": "code",
   "execution_count": 76,
   "metadata": {},
   "outputs": [],
   "source": [
    "pd_df = pd.DataFrame(df[0])"
   ]
  },
  {
   "cell_type": "code",
   "execution_count": 77,
   "metadata": {},
   "outputs": [],
   "source": [
    "pd_df = pd_df.rename(columns={\n",
    "    'Event #': 'event_id', \n",
    "    'Start\\rDateTime\\ryyyy-mm-dd': 'start_date', \n",
    "    'Location\\r(see\\rbelow)': 'start_time', \n",
    "    'Stop\\rDateTime\\ryyyy-mm-dd': 'location', \n",
    "    'DurationVolume\\rDisinfectionReason\\rHoursMLYes / NoCode': 'end_date', \n",
    "    'Sample Results': 'end_time', \n",
    "    'Unnamed: 0': 'duration', \n",
    "    'Unnamed: 1': 'volume', \n",
    "    'Unnamed: 2': 'disinfection',\n",
    "    'Unnamed: 3': 'reason_code',\n",
    "    'Unnamed: 4': 'TBOD(mg/L)',\n",
    "    'Unnamed: 5': 'cBOD(mg/L)',\n",
    "    'Unnamed: 6': 'TSS(mg/L)',\n",
    "    'Unnamed: 7': 'TP(mg/L)',\n",
    "    'Unnamed: 8': 'EColi(CFU/100ml)',\n",
    "    'Unnamed: 9': 'final_effluent_pH',\n",
    "    'Unnamed: 10': 'final_effluent_total_ci(mg/L)'\n",
    "    })"
   ]
  },
  {
   "cell_type": "code",
   "execution_count": 78,
   "metadata": {},
   "outputs": [],
   "source": [
    "pd_df = pd_df.drop(0)"
   ]
  },
  {
   "cell_type": "code",
   "execution_count": 79,
   "metadata": {},
   "outputs": [],
   "source": [
    "pd_df = pd_df.drop(12)"
   ]
  },
  {
   "cell_type": "code",
   "execution_count": 84,
   "metadata": {},
   "outputs": [],
   "source": [
    "pd_df.at[11, 'end_date'] = '2019-04-21'\n",
    "pd_df.at[11, 'end_time'] = '02:30'\n",
    "pd_df.at[11, 'duration'] = '21.11'\n",
    "pd_df.at[11, 'final_effluent_pH'] = '7.50'\n"
   ]
  },
  {
   "cell_type": "code",
   "execution_count": 85,
   "metadata": {},
   "outputs": [
    {
     "output_type": "execute_result",
     "data": {
      "text/plain": [
       "    event_id  start_date start_time location    end_date end_time duration  \\\n",
       "1        1.0  2019-01-23      17:26        S  2019-01-24    05:26    12.00   \n",
       "2        2.0  2019-02-06      16:20        S  2019-02-06    20:32     4.20   \n",
       "3        3.0  2019-02-12      23:43        S  2019-02-13    02:34     2.86   \n",
       "4        4.0  2019-02-24      14:03        S  2019-02-24    21:10     7.12   \n",
       "5        5.0  2019-03-10      11:12        S  2019-03-10    23:28    12.26   \n",
       "6        6.0  2019-03-30      14:00        S  2019-04-01    00:33    34.55   \n",
       "7        7.0  2019-03-31      01:10    HCS01  2019-03-31    05:50     4.67   \n",
       "8        8.0  2019-04-08      00:55        S  2019-04-08    04:06     3.18   \n",
       "9        9.0  2019-04-14      21:17        S  2019-04-15    10:46    13.48   \n",
       "10      10.0  2019-04-15      08:20    HCS01  2019-04-15    14:40     6.33   \n",
       "11      11.0  2019-04-19      22:13        S  2019-04-21    02:30    21.11   \n",
       "13      12.0  2019-04-20      11:30    HCS01  2019-04-21    12:10    24.67   \n",
       "14      13.0  2019-04-20      13:20    HCS05  2019-04-21    05:10    15.83   \n",
       "15      14.0  2019-04-20      18:10    HCS04  2019-04-21    02:20     8.17   \n",
       "16      15.0  2019-04-26      07:14        S  2019-04-26    12:31     5.30   \n",
       "17      16.0  2019-05-01      06:28        S  2019-05-01    10:39     4.18   \n",
       "18      17.0  2019-05-03      03:05        S  2019-05-03    20:25    17.33   \n",
       "19      18.0  2019-05-03      05:10    HCS01  2019-05-04    00:50    19.00   \n",
       "20      19.0  2019-05-10      07:20        S  2019-05-10    12:18     4.97   \n",
       "21      20.0  2019-05-13      08:10    HCS05  2019-05-13    19:10    11.00   \n",
       "22      21.0  2019-05-14      04:00    HCS01  2019-05-15    01:00    21.00   \n",
       "23      22.0  2019-05-14      06:40    HCS05  2019-05-14    23:40    17.00   \n",
       "24      23.0  2019-05-25      09:21        S  2019-05-27    00:47    39.45   \n",
       "25      24.0  2019-05-25      18:40    HCS01  2019-05-27    02:10    31.50   \n",
       "26      25.0  2019-05-28      06:40    HCS01  2019-05-29    00:30    17.83   \n",
       "27      26.0  2019-05-28      08:05        S  2019-05-28    23:58    15.89   \n",
       "28      27.0  2019-06-05      14:39        S  2019-06-06    03:04    12.43   \n",
       "29      28.0  2019-06-10      18:02        S  2019-06-11    01:04     7.03   \n",
       "30      29.0  2019-06-13      11:02        S  2019-06-14    06:02    19.01   \n",
       "31      30.0  2019-06-20      21:47        S  2019-06-21    16:23    18.58   \n",
       "32      31.0  2019-06-25      00:46        S  2019-06-25    15:10    14.39   \n",
       "33      32.0  2019-07-06      13:59        S  2019-07-07    23:53    33.90   \n",
       "34      33.0  2019-07-06      15:30    HCS08  2019-07-08    01:10    33.67   \n",
       "35      34.0  2019-07-06      19:20    HCS04  2019-07-08    00:00    28.67   \n",
       "36      35.0  2019-07-06      19:30    HCS09  2019-07-06    21:00     1.50   \n",
       "37      36.0  2019-07-06      20:00    HCS01  2019-07-08    01:00    29.00   \n",
       "38      37.0  2019-07-17      11:19        S  2019-07-17    17:15     5.93   \n",
       "39      38.0  2019-07-20      22:52        S  2019-07-21    02:30     3.63   \n",
       "40      39.0  2019-07-30      07:38        S  2019-07-30    11:20     3.70   \n",
       "41      40.0  2019-08-08      16:00        S  2019-08-08    18:35     2.60   \n",
       "42      41.0  2019-08-18      06:37        S  2019-08-18    10:12     3.58   \n",
       "43      42.0  2019-09-11      21:11        S  2019-09-11    23:59     2.79   \n",
       "\n",
       "     volume disinfection reason_code TBOD(mg/L) cBOD(mg/L) TSS(mg/L) TP(mg/L)  \\\n",
       "1   112.068           No       1,2,7       72.0        n/a       116     2.01   \n",
       "2    24.089           No       1,2,7       68.0        n/a      95.5     1.54   \n",
       "3    28.050           No       1,2,7       62.0        n/a      73.2     1.54   \n",
       "4    21.111           No       1,2,7       39.0        n/a      89.0     1.62   \n",
       "5   100.792           No       1,2,7       54.0        n/a      67.0     1.54   \n",
       "6   375.967           No       1,2,7       33.0        n/a      73.4     1.56   \n",
       "7     1.981           No       1,2,7        n/a        n/a       n/a      n/a   \n",
       "8    17.428           No         1,7       59.0        n/a      87.0     1.97   \n",
       "9   107.730           No         1,7       42.0        n/a      76.1     1.27   \n",
       "10   19.591           No         1,7        n/a        n/a       n/a      n/a   \n",
       "11  190.770           No         1,7       51.0        n/a      64.3    1.160   \n",
       "13  151.847           No         1,7        n/a        n/a       n/a      n/a   \n",
       "14   25.241           No         1,7        n/a         16      23.1    0.969   \n",
       "15    8.033           No         1,7        n/a       n/a*      n/a*     n/a*   \n",
       "16   32.390           No         1,7       41.0        n/a      74.0     1.16   \n",
       "17   19.610           No         1,7       25.0        n/a      17.0    0.716   \n",
       "18  127.990           No         1,7       40.0        n/a      49.5    0.890   \n",
       "19   97.821           No         1,7        n/a        n/a       n/a      n/a   \n",
       "20   27.850           No         1,7       27.0        n/a      39.0    0.841   \n",
       "21   49.171           No         1,7        n/a         11       4.0    0.051   \n",
       "22   48.702           No         1,7        n/a        n/a       n/a      n/a   \n",
       "23   69.676           No         1,7        n/a         11       9.7    0.363   \n",
       "24  215.300          Yes         1,7        n/a         32      75.7     1.46   \n",
       "25   85.306           No         1,7        n/a        n/a       n/a      n/a   \n",
       "26   29.641           No         1,7        n/a        n/a       n/a      n/a   \n",
       "27   64.970          Yes         1,7        n/a         30      43.5     1.08   \n",
       "28   91.070          Yes         1,7        n/a         13      28.3    0.792   \n",
       "29   65.850          Yes         1,7       34.0        n/a      34.3    0.864   \n",
       "30  116.970          Yes         1,7       24.0        n/a      17.8    0.702   \n",
       "31  107.220          Yes         1,7       32.5        n/a      34.4    0.920   \n",
       "32   90.380          Yes         1,7       42.0        n/a      51.0     1.26   \n",
       "33  231.110          Yes         1,7       34.0        n/a      46.2    0.779   \n",
       "34   76.851           No         1,7        n/a          6       212    0.418   \n",
       "35   35.671           No         1,7        n/a         15      23.0    0.504   \n",
       "36   10.562           No         1,7        n/a         11      77.7    0.495   \n",
       "37   98.351           No         1,7        n/a        n/a       n/a      n/a   \n",
       "38   28.600          Yes         1,7       49.0        n/a      63.0     1.79   \n",
       "39   26.260          Yes         1,7       39.0        n/a      64.8     1.26   \n",
       "40   28.320          Yes         1,7       40.0        n/a      48.0     1.50   \n",
       "41   25.710          Yes         1,7       99.0        n/a      69.0     2.62   \n",
       "42   13.630          Yes         1,7       23.0        n/a      30.0     0.66   \n",
       "43   28.700          Yes         1,7       65.0        n/a      51.5     1.68   \n",
       "\n",
       "   EColi(CFU/100ml) final_effluent_pH final_effluent_total_ci(mg/L)  \n",
       "1               n/a              7.49                           n/a  \n",
       "2               n/a              7.02                           n/a  \n",
       "3               n/a              7.27                           n/a  \n",
       "4               n/a              7.19                           n/a  \n",
       "5               n/a              6.97                           n/a  \n",
       "6               n/a              7.09                           n/a  \n",
       "7               n/a               n/a                           n/a  \n",
       "8               n/a              7.21                           n/a  \n",
       "9               n/a              7.09                           n/a  \n",
       "10              n/a               n/a                           n/a  \n",
       "11              n/a              7.50                           n/a  \n",
       "13              n/a               n/a                           n/a  \n",
       "14        1,070,000               n/a                           n/a  \n",
       "15             n/a*               n/a                           n/a  \n",
       "16              n/a              7.14                           n/a  \n",
       "17              n/a              7.15                           n/a  \n",
       "18              n/a              7.14                           n/a  \n",
       "19              n/a               n/a                           n/a  \n",
       "20              n/a              7.10                           n/a  \n",
       "21              550               n/a                           n/a  \n",
       "22              n/a               n/a                           n/a  \n",
       "23          430,000               n/a                           n/a  \n",
       "24              n/a              7.20                          0.01  \n",
       "25              n/a               n/a                           n/a  \n",
       "26              n/a               n/a                           n/a  \n",
       "27              n/a              7.39                          0.01  \n",
       "28              n/a              7.01                          0.00  \n",
       "29              n/a              7.02                          0.00  \n",
       "30           41,263              7.03                          0.01  \n",
       "31          471,500              6.85                          0.00  \n",
       "32        1,050,000              6.93                          0.00  \n",
       "33        1,762,000              6.96                          0.02  \n",
       "34           64,000               n/a                           n/a  \n",
       "35          450,000               n/a                           n/a  \n",
       "36          850,000               n/a                           n/a  \n",
       "37              n/a               n/a                           n/a  \n",
       "38        3,400,000              7.11                          0.01  \n",
       "39        2,400,000              7.07                          0.00  \n",
       "40        2,000,000              6.83                          0.00  \n",
       "41        7,300,000              6.84                          0.00  \n",
       "42        2,800,000              6.78                          0.00  \n",
       "43        6,100,000              6.77                          0.00  "
      ],
      "text/html": "<div>\n<style scoped>\n    .dataframe tbody tr th:only-of-type {\n        vertical-align: middle;\n    }\n\n    .dataframe tbody tr th {\n        vertical-align: top;\n    }\n\n    .dataframe thead th {\n        text-align: right;\n    }\n</style>\n<table border=\"1\" class=\"dataframe\">\n  <thead>\n    <tr style=\"text-align: right;\">\n      <th></th>\n      <th>event_id</th>\n      <th>start_date</th>\n      <th>start_time</th>\n      <th>location</th>\n      <th>end_date</th>\n      <th>end_time</th>\n      <th>duration</th>\n      <th>volume</th>\n      <th>disinfection</th>\n      <th>reason_code</th>\n      <th>TBOD(mg/L)</th>\n      <th>cBOD(mg/L)</th>\n      <th>TSS(mg/L)</th>\n      <th>TP(mg/L)</th>\n      <th>EColi(CFU/100ml)</th>\n      <th>final_effluent_pH</th>\n      <th>final_effluent_total_ci(mg/L)</th>\n    </tr>\n  </thead>\n  <tbody>\n    <tr>\n      <th>1</th>\n      <td>1.0</td>\n      <td>2019-01-23</td>\n      <td>17:26</td>\n      <td>S</td>\n      <td>2019-01-24</td>\n      <td>05:26</td>\n      <td>12.00</td>\n      <td>112.068</td>\n      <td>No</td>\n      <td>1,2,7</td>\n      <td>72.0</td>\n      <td>n/a</td>\n      <td>116</td>\n      <td>2.01</td>\n      <td>n/a</td>\n      <td>7.49</td>\n      <td>n/a</td>\n    </tr>\n    <tr>\n      <th>2</th>\n      <td>2.0</td>\n      <td>2019-02-06</td>\n      <td>16:20</td>\n      <td>S</td>\n      <td>2019-02-06</td>\n      <td>20:32</td>\n      <td>4.20</td>\n      <td>24.089</td>\n      <td>No</td>\n      <td>1,2,7</td>\n      <td>68.0</td>\n      <td>n/a</td>\n      <td>95.5</td>\n      <td>1.54</td>\n      <td>n/a</td>\n      <td>7.02</td>\n      <td>n/a</td>\n    </tr>\n    <tr>\n      <th>3</th>\n      <td>3.0</td>\n      <td>2019-02-12</td>\n      <td>23:43</td>\n      <td>S</td>\n      <td>2019-02-13</td>\n      <td>02:34</td>\n      <td>2.86</td>\n      <td>28.050</td>\n      <td>No</td>\n      <td>1,2,7</td>\n      <td>62.0</td>\n      <td>n/a</td>\n      <td>73.2</td>\n      <td>1.54</td>\n      <td>n/a</td>\n      <td>7.27</td>\n      <td>n/a</td>\n    </tr>\n    <tr>\n      <th>4</th>\n      <td>4.0</td>\n      <td>2019-02-24</td>\n      <td>14:03</td>\n      <td>S</td>\n      <td>2019-02-24</td>\n      <td>21:10</td>\n      <td>7.12</td>\n      <td>21.111</td>\n      <td>No</td>\n      <td>1,2,7</td>\n      <td>39.0</td>\n      <td>n/a</td>\n      <td>89.0</td>\n      <td>1.62</td>\n      <td>n/a</td>\n      <td>7.19</td>\n      <td>n/a</td>\n    </tr>\n    <tr>\n      <th>5</th>\n      <td>5.0</td>\n      <td>2019-03-10</td>\n      <td>11:12</td>\n      <td>S</td>\n      <td>2019-03-10</td>\n      <td>23:28</td>\n      <td>12.26</td>\n      <td>100.792</td>\n      <td>No</td>\n      <td>1,2,7</td>\n      <td>54.0</td>\n      <td>n/a</td>\n      <td>67.0</td>\n      <td>1.54</td>\n      <td>n/a</td>\n      <td>6.97</td>\n      <td>n/a</td>\n    </tr>\n    <tr>\n      <th>6</th>\n      <td>6.0</td>\n      <td>2019-03-30</td>\n      <td>14:00</td>\n      <td>S</td>\n      <td>2019-04-01</td>\n      <td>00:33</td>\n      <td>34.55</td>\n      <td>375.967</td>\n      <td>No</td>\n      <td>1,2,7</td>\n      <td>33.0</td>\n      <td>n/a</td>\n      <td>73.4</td>\n      <td>1.56</td>\n      <td>n/a</td>\n      <td>7.09</td>\n      <td>n/a</td>\n    </tr>\n    <tr>\n      <th>7</th>\n      <td>7.0</td>\n      <td>2019-03-31</td>\n      <td>01:10</td>\n      <td>HCS01</td>\n      <td>2019-03-31</td>\n      <td>05:50</td>\n      <td>4.67</td>\n      <td>1.981</td>\n      <td>No</td>\n      <td>1,2,7</td>\n      <td>n/a</td>\n      <td>n/a</td>\n      <td>n/a</td>\n      <td>n/a</td>\n      <td>n/a</td>\n      <td>n/a</td>\n      <td>n/a</td>\n    </tr>\n    <tr>\n      <th>8</th>\n      <td>8.0</td>\n      <td>2019-04-08</td>\n      <td>00:55</td>\n      <td>S</td>\n      <td>2019-04-08</td>\n      <td>04:06</td>\n      <td>3.18</td>\n      <td>17.428</td>\n      <td>No</td>\n      <td>1,7</td>\n      <td>59.0</td>\n      <td>n/a</td>\n      <td>87.0</td>\n      <td>1.97</td>\n      <td>n/a</td>\n      <td>7.21</td>\n      <td>n/a</td>\n    </tr>\n    <tr>\n      <th>9</th>\n      <td>9.0</td>\n      <td>2019-04-14</td>\n      <td>21:17</td>\n      <td>S</td>\n      <td>2019-04-15</td>\n      <td>10:46</td>\n      <td>13.48</td>\n      <td>107.730</td>\n      <td>No</td>\n      <td>1,7</td>\n      <td>42.0</td>\n      <td>n/a</td>\n      <td>76.1</td>\n      <td>1.27</td>\n      <td>n/a</td>\n      <td>7.09</td>\n      <td>n/a</td>\n    </tr>\n    <tr>\n      <th>10</th>\n      <td>10.0</td>\n      <td>2019-04-15</td>\n      <td>08:20</td>\n      <td>HCS01</td>\n      <td>2019-04-15</td>\n      <td>14:40</td>\n      <td>6.33</td>\n      <td>19.591</td>\n      <td>No</td>\n      <td>1,7</td>\n      <td>n/a</td>\n      <td>n/a</td>\n      <td>n/a</td>\n      <td>n/a</td>\n      <td>n/a</td>\n      <td>n/a</td>\n      <td>n/a</td>\n    </tr>\n    <tr>\n      <th>11</th>\n      <td>11.0</td>\n      <td>2019-04-19</td>\n      <td>22:13</td>\n      <td>S</td>\n      <td>2019-04-21</td>\n      <td>02:30</td>\n      <td>21.11</td>\n      <td>190.770</td>\n      <td>No</td>\n      <td>1,7</td>\n      <td>51.0</td>\n      <td>n/a</td>\n      <td>64.3</td>\n      <td>1.160</td>\n      <td>n/a</td>\n      <td>7.50</td>\n      <td>n/a</td>\n    </tr>\n    <tr>\n      <th>13</th>\n      <td>12.0</td>\n      <td>2019-04-20</td>\n      <td>11:30</td>\n      <td>HCS01</td>\n      <td>2019-04-21</td>\n      <td>12:10</td>\n      <td>24.67</td>\n      <td>151.847</td>\n      <td>No</td>\n      <td>1,7</td>\n      <td>n/a</td>\n      <td>n/a</td>\n      <td>n/a</td>\n      <td>n/a</td>\n      <td>n/a</td>\n      <td>n/a</td>\n      <td>n/a</td>\n    </tr>\n    <tr>\n      <th>14</th>\n      <td>13.0</td>\n      <td>2019-04-20</td>\n      <td>13:20</td>\n      <td>HCS05</td>\n      <td>2019-04-21</td>\n      <td>05:10</td>\n      <td>15.83</td>\n      <td>25.241</td>\n      <td>No</td>\n      <td>1,7</td>\n      <td>n/a</td>\n      <td>16</td>\n      <td>23.1</td>\n      <td>0.969</td>\n      <td>1,070,000</td>\n      <td>n/a</td>\n      <td>n/a</td>\n    </tr>\n    <tr>\n      <th>15</th>\n      <td>14.0</td>\n      <td>2019-04-20</td>\n      <td>18:10</td>\n      <td>HCS04</td>\n      <td>2019-04-21</td>\n      <td>02:20</td>\n      <td>8.17</td>\n      <td>8.033</td>\n      <td>No</td>\n      <td>1,7</td>\n      <td>n/a</td>\n      <td>n/a*</td>\n      <td>n/a*</td>\n      <td>n/a*</td>\n      <td>n/a*</td>\n      <td>n/a</td>\n      <td>n/a</td>\n    </tr>\n    <tr>\n      <th>16</th>\n      <td>15.0</td>\n      <td>2019-04-26</td>\n      <td>07:14</td>\n      <td>S</td>\n      <td>2019-04-26</td>\n      <td>12:31</td>\n      <td>5.30</td>\n      <td>32.390</td>\n      <td>No</td>\n      <td>1,7</td>\n      <td>41.0</td>\n      <td>n/a</td>\n      <td>74.0</td>\n      <td>1.16</td>\n      <td>n/a</td>\n      <td>7.14</td>\n      <td>n/a</td>\n    </tr>\n    <tr>\n      <th>17</th>\n      <td>16.0</td>\n      <td>2019-05-01</td>\n      <td>06:28</td>\n      <td>S</td>\n      <td>2019-05-01</td>\n      <td>10:39</td>\n      <td>4.18</td>\n      <td>19.610</td>\n      <td>No</td>\n      <td>1,7</td>\n      <td>25.0</td>\n      <td>n/a</td>\n      <td>17.0</td>\n      <td>0.716</td>\n      <td>n/a</td>\n      <td>7.15</td>\n      <td>n/a</td>\n    </tr>\n    <tr>\n      <th>18</th>\n      <td>17.0</td>\n      <td>2019-05-03</td>\n      <td>03:05</td>\n      <td>S</td>\n      <td>2019-05-03</td>\n      <td>20:25</td>\n      <td>17.33</td>\n      <td>127.990</td>\n      <td>No</td>\n      <td>1,7</td>\n      <td>40.0</td>\n      <td>n/a</td>\n      <td>49.5</td>\n      <td>0.890</td>\n      <td>n/a</td>\n      <td>7.14</td>\n      <td>n/a</td>\n    </tr>\n    <tr>\n      <th>19</th>\n      <td>18.0</td>\n      <td>2019-05-03</td>\n      <td>05:10</td>\n      <td>HCS01</td>\n      <td>2019-05-04</td>\n      <td>00:50</td>\n      <td>19.00</td>\n      <td>97.821</td>\n      <td>No</td>\n      <td>1,7</td>\n      <td>n/a</td>\n      <td>n/a</td>\n      <td>n/a</td>\n      <td>n/a</td>\n      <td>n/a</td>\n      <td>n/a</td>\n      <td>n/a</td>\n    </tr>\n    <tr>\n      <th>20</th>\n      <td>19.0</td>\n      <td>2019-05-10</td>\n      <td>07:20</td>\n      <td>S</td>\n      <td>2019-05-10</td>\n      <td>12:18</td>\n      <td>4.97</td>\n      <td>27.850</td>\n      <td>No</td>\n      <td>1,7</td>\n      <td>27.0</td>\n      <td>n/a</td>\n      <td>39.0</td>\n      <td>0.841</td>\n      <td>n/a</td>\n      <td>7.10</td>\n      <td>n/a</td>\n    </tr>\n    <tr>\n      <th>21</th>\n      <td>20.0</td>\n      <td>2019-05-13</td>\n      <td>08:10</td>\n      <td>HCS05</td>\n      <td>2019-05-13</td>\n      <td>19:10</td>\n      <td>11.00</td>\n      <td>49.171</td>\n      <td>No</td>\n      <td>1,7</td>\n      <td>n/a</td>\n      <td>11</td>\n      <td>4.0</td>\n      <td>0.051</td>\n      <td>550</td>\n      <td>n/a</td>\n      <td>n/a</td>\n    </tr>\n    <tr>\n      <th>22</th>\n      <td>21.0</td>\n      <td>2019-05-14</td>\n      <td>04:00</td>\n      <td>HCS01</td>\n      <td>2019-05-15</td>\n      <td>01:00</td>\n      <td>21.00</td>\n      <td>48.702</td>\n      <td>No</td>\n      <td>1,7</td>\n      <td>n/a</td>\n      <td>n/a</td>\n      <td>n/a</td>\n      <td>n/a</td>\n      <td>n/a</td>\n      <td>n/a</td>\n      <td>n/a</td>\n    </tr>\n    <tr>\n      <th>23</th>\n      <td>22.0</td>\n      <td>2019-05-14</td>\n      <td>06:40</td>\n      <td>HCS05</td>\n      <td>2019-05-14</td>\n      <td>23:40</td>\n      <td>17.00</td>\n      <td>69.676</td>\n      <td>No</td>\n      <td>1,7</td>\n      <td>n/a</td>\n      <td>11</td>\n      <td>9.7</td>\n      <td>0.363</td>\n      <td>430,000</td>\n      <td>n/a</td>\n      <td>n/a</td>\n    </tr>\n    <tr>\n      <th>24</th>\n      <td>23.0</td>\n      <td>2019-05-25</td>\n      <td>09:21</td>\n      <td>S</td>\n      <td>2019-05-27</td>\n      <td>00:47</td>\n      <td>39.45</td>\n      <td>215.300</td>\n      <td>Yes</td>\n      <td>1,7</td>\n      <td>n/a</td>\n      <td>32</td>\n      <td>75.7</td>\n      <td>1.46</td>\n      <td>n/a</td>\n      <td>7.20</td>\n      <td>0.01</td>\n    </tr>\n    <tr>\n      <th>25</th>\n      <td>24.0</td>\n      <td>2019-05-25</td>\n      <td>18:40</td>\n      <td>HCS01</td>\n      <td>2019-05-27</td>\n      <td>02:10</td>\n      <td>31.50</td>\n      <td>85.306</td>\n      <td>No</td>\n      <td>1,7</td>\n      <td>n/a</td>\n      <td>n/a</td>\n      <td>n/a</td>\n      <td>n/a</td>\n      <td>n/a</td>\n      <td>n/a</td>\n      <td>n/a</td>\n    </tr>\n    <tr>\n      <th>26</th>\n      <td>25.0</td>\n      <td>2019-05-28</td>\n      <td>06:40</td>\n      <td>HCS01</td>\n      <td>2019-05-29</td>\n      <td>00:30</td>\n      <td>17.83</td>\n      <td>29.641</td>\n      <td>No</td>\n      <td>1,7</td>\n      <td>n/a</td>\n      <td>n/a</td>\n      <td>n/a</td>\n      <td>n/a</td>\n      <td>n/a</td>\n      <td>n/a</td>\n      <td>n/a</td>\n    </tr>\n    <tr>\n      <th>27</th>\n      <td>26.0</td>\n      <td>2019-05-28</td>\n      <td>08:05</td>\n      <td>S</td>\n      <td>2019-05-28</td>\n      <td>23:58</td>\n      <td>15.89</td>\n      <td>64.970</td>\n      <td>Yes</td>\n      <td>1,7</td>\n      <td>n/a</td>\n      <td>30</td>\n      <td>43.5</td>\n      <td>1.08</td>\n      <td>n/a</td>\n      <td>7.39</td>\n      <td>0.01</td>\n    </tr>\n    <tr>\n      <th>28</th>\n      <td>27.0</td>\n      <td>2019-06-05</td>\n      <td>14:39</td>\n      <td>S</td>\n      <td>2019-06-06</td>\n      <td>03:04</td>\n      <td>12.43</td>\n      <td>91.070</td>\n      <td>Yes</td>\n      <td>1,7</td>\n      <td>n/a</td>\n      <td>13</td>\n      <td>28.3</td>\n      <td>0.792</td>\n      <td>n/a</td>\n      <td>7.01</td>\n      <td>0.00</td>\n    </tr>\n    <tr>\n      <th>29</th>\n      <td>28.0</td>\n      <td>2019-06-10</td>\n      <td>18:02</td>\n      <td>S</td>\n      <td>2019-06-11</td>\n      <td>01:04</td>\n      <td>7.03</td>\n      <td>65.850</td>\n      <td>Yes</td>\n      <td>1,7</td>\n      <td>34.0</td>\n      <td>n/a</td>\n      <td>34.3</td>\n      <td>0.864</td>\n      <td>n/a</td>\n      <td>7.02</td>\n      <td>0.00</td>\n    </tr>\n    <tr>\n      <th>30</th>\n      <td>29.0</td>\n      <td>2019-06-13</td>\n      <td>11:02</td>\n      <td>S</td>\n      <td>2019-06-14</td>\n      <td>06:02</td>\n      <td>19.01</td>\n      <td>116.970</td>\n      <td>Yes</td>\n      <td>1,7</td>\n      <td>24.0</td>\n      <td>n/a</td>\n      <td>17.8</td>\n      <td>0.702</td>\n      <td>41,263</td>\n      <td>7.03</td>\n      <td>0.01</td>\n    </tr>\n    <tr>\n      <th>31</th>\n      <td>30.0</td>\n      <td>2019-06-20</td>\n      <td>21:47</td>\n      <td>S</td>\n      <td>2019-06-21</td>\n      <td>16:23</td>\n      <td>18.58</td>\n      <td>107.220</td>\n      <td>Yes</td>\n      <td>1,7</td>\n      <td>32.5</td>\n      <td>n/a</td>\n      <td>34.4</td>\n      <td>0.920</td>\n      <td>471,500</td>\n      <td>6.85</td>\n      <td>0.00</td>\n    </tr>\n    <tr>\n      <th>32</th>\n      <td>31.0</td>\n      <td>2019-06-25</td>\n      <td>00:46</td>\n      <td>S</td>\n      <td>2019-06-25</td>\n      <td>15:10</td>\n      <td>14.39</td>\n      <td>90.380</td>\n      <td>Yes</td>\n      <td>1,7</td>\n      <td>42.0</td>\n      <td>n/a</td>\n      <td>51.0</td>\n      <td>1.26</td>\n      <td>1,050,000</td>\n      <td>6.93</td>\n      <td>0.00</td>\n    </tr>\n    <tr>\n      <th>33</th>\n      <td>32.0</td>\n      <td>2019-07-06</td>\n      <td>13:59</td>\n      <td>S</td>\n      <td>2019-07-07</td>\n      <td>23:53</td>\n      <td>33.90</td>\n      <td>231.110</td>\n      <td>Yes</td>\n      <td>1,7</td>\n      <td>34.0</td>\n      <td>n/a</td>\n      <td>46.2</td>\n      <td>0.779</td>\n      <td>1,762,000</td>\n      <td>6.96</td>\n      <td>0.02</td>\n    </tr>\n    <tr>\n      <th>34</th>\n      <td>33.0</td>\n      <td>2019-07-06</td>\n      <td>15:30</td>\n      <td>HCS08</td>\n      <td>2019-07-08</td>\n      <td>01:10</td>\n      <td>33.67</td>\n      <td>76.851</td>\n      <td>No</td>\n      <td>1,7</td>\n      <td>n/a</td>\n      <td>6</td>\n      <td>212</td>\n      <td>0.418</td>\n      <td>64,000</td>\n      <td>n/a</td>\n      <td>n/a</td>\n    </tr>\n    <tr>\n      <th>35</th>\n      <td>34.0</td>\n      <td>2019-07-06</td>\n      <td>19:20</td>\n      <td>HCS04</td>\n      <td>2019-07-08</td>\n      <td>00:00</td>\n      <td>28.67</td>\n      <td>35.671</td>\n      <td>No</td>\n      <td>1,7</td>\n      <td>n/a</td>\n      <td>15</td>\n      <td>23.0</td>\n      <td>0.504</td>\n      <td>450,000</td>\n      <td>n/a</td>\n      <td>n/a</td>\n    </tr>\n    <tr>\n      <th>36</th>\n      <td>35.0</td>\n      <td>2019-07-06</td>\n      <td>19:30</td>\n      <td>HCS09</td>\n      <td>2019-07-06</td>\n      <td>21:00</td>\n      <td>1.50</td>\n      <td>10.562</td>\n      <td>No</td>\n      <td>1,7</td>\n      <td>n/a</td>\n      <td>11</td>\n      <td>77.7</td>\n      <td>0.495</td>\n      <td>850,000</td>\n      <td>n/a</td>\n      <td>n/a</td>\n    </tr>\n    <tr>\n      <th>37</th>\n      <td>36.0</td>\n      <td>2019-07-06</td>\n      <td>20:00</td>\n      <td>HCS01</td>\n      <td>2019-07-08</td>\n      <td>01:00</td>\n      <td>29.00</td>\n      <td>98.351</td>\n      <td>No</td>\n      <td>1,7</td>\n      <td>n/a</td>\n      <td>n/a</td>\n      <td>n/a</td>\n      <td>n/a</td>\n      <td>n/a</td>\n      <td>n/a</td>\n      <td>n/a</td>\n    </tr>\n    <tr>\n      <th>38</th>\n      <td>37.0</td>\n      <td>2019-07-17</td>\n      <td>11:19</td>\n      <td>S</td>\n      <td>2019-07-17</td>\n      <td>17:15</td>\n      <td>5.93</td>\n      <td>28.600</td>\n      <td>Yes</td>\n      <td>1,7</td>\n      <td>49.0</td>\n      <td>n/a</td>\n      <td>63.0</td>\n      <td>1.79</td>\n      <td>3,400,000</td>\n      <td>7.11</td>\n      <td>0.01</td>\n    </tr>\n    <tr>\n      <th>39</th>\n      <td>38.0</td>\n      <td>2019-07-20</td>\n      <td>22:52</td>\n      <td>S</td>\n      <td>2019-07-21</td>\n      <td>02:30</td>\n      <td>3.63</td>\n      <td>26.260</td>\n      <td>Yes</td>\n      <td>1,7</td>\n      <td>39.0</td>\n      <td>n/a</td>\n      <td>64.8</td>\n      <td>1.26</td>\n      <td>2,400,000</td>\n      <td>7.07</td>\n      <td>0.00</td>\n    </tr>\n    <tr>\n      <th>40</th>\n      <td>39.0</td>\n      <td>2019-07-30</td>\n      <td>07:38</td>\n      <td>S</td>\n      <td>2019-07-30</td>\n      <td>11:20</td>\n      <td>3.70</td>\n      <td>28.320</td>\n      <td>Yes</td>\n      <td>1,7</td>\n      <td>40.0</td>\n      <td>n/a</td>\n      <td>48.0</td>\n      <td>1.50</td>\n      <td>2,000,000</td>\n      <td>6.83</td>\n      <td>0.00</td>\n    </tr>\n    <tr>\n      <th>41</th>\n      <td>40.0</td>\n      <td>2019-08-08</td>\n      <td>16:00</td>\n      <td>S</td>\n      <td>2019-08-08</td>\n      <td>18:35</td>\n      <td>2.60</td>\n      <td>25.710</td>\n      <td>Yes</td>\n      <td>1,7</td>\n      <td>99.0</td>\n      <td>n/a</td>\n      <td>69.0</td>\n      <td>2.62</td>\n      <td>7,300,000</td>\n      <td>6.84</td>\n      <td>0.00</td>\n    </tr>\n    <tr>\n      <th>42</th>\n      <td>41.0</td>\n      <td>2019-08-18</td>\n      <td>06:37</td>\n      <td>S</td>\n      <td>2019-08-18</td>\n      <td>10:12</td>\n      <td>3.58</td>\n      <td>13.630</td>\n      <td>Yes</td>\n      <td>1,7</td>\n      <td>23.0</td>\n      <td>n/a</td>\n      <td>30.0</td>\n      <td>0.66</td>\n      <td>2,800,000</td>\n      <td>6.78</td>\n      <td>0.00</td>\n    </tr>\n    <tr>\n      <th>43</th>\n      <td>42.0</td>\n      <td>2019-09-11</td>\n      <td>21:11</td>\n      <td>S</td>\n      <td>2019-09-11</td>\n      <td>23:59</td>\n      <td>2.79</td>\n      <td>28.700</td>\n      <td>Yes</td>\n      <td>1,7</td>\n      <td>65.0</td>\n      <td>n/a</td>\n      <td>51.5</td>\n      <td>1.68</td>\n      <td>6,100,000</td>\n      <td>6.77</td>\n      <td>0.00</td>\n    </tr>\n  </tbody>\n</table>\n</div>"
     },
     "metadata": {},
     "execution_count": 85
    }
   ],
   "source": [
    "pd_df"
   ]
  },
  {
   "cell_type": "code",
   "execution_count": null,
   "metadata": {},
   "outputs": [],
   "source": []
  }
 ],
 "metadata": {
  "kernelspec": {
   "display_name": "Python 3 (ipykernel)",
   "language": "python",
   "name": "python3"
  },
  "language_info": {
   "codemirror_mode": {
    "name": "ipython",
    "version": 3
   },
   "file_extension": ".py",
   "mimetype": "text/x-python",
   "name": "python",
   "nbconvert_exporter": "python",
   "pygments_lexer": "ipython3",
   "version": "3.10.8-final"
  }
 },
 "nbformat": 4,
 "nbformat_minor": 2
}