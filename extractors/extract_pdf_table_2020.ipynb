{
 "metadata": {
  "language_info": {
   "codemirror_mode": {
    "name": "ipython",
    "version": 3
   },
   "file_extension": ".py",
   "mimetype": "text/x-python",
   "name": "python",
   "nbconvert_exporter": "python",
   "pygments_lexer": "ipython3",
   "version": "3.10.8-final"
  },
  "orig_nbformat": 2,
  "kernelspec": {
   "name": "python3",
   "display_name": "Python 3 (ipykernel)",
   "language": "python"
  }
 },
 "nbformat": 4,
 "nbformat_minor": 2,
 "cells": [
  {
   "cell_type": "code",
   "execution_count": 107,
   "metadata": {},
   "outputs": [],
   "source": [
    "import tabula\n",
    "import pandas as pd"
   ]
  },
  {
   "cell_type": "code",
   "execution_count": 108,
   "metadata": {},
   "outputs": [],
   "source": [
    "left = 95.53\n",
    "top = 82.86\n",
    "width = 656.64\n",
    "height = 475.07\n",
    "\n",
    "y1 = top\n",
    "x1 = left\n",
    "y2 = top + height\n",
    "x2 = left + width"
   ]
  },
  {
   "cell_type": "code",
   "execution_count": 109,
   "metadata": {},
   "outputs": [],
   "source": [
    "df_tabula = tabula.read_pdf(\"../data/wastewatercollection-2020-bypass-overflow-log.pdf\", pages='all', area=[y1, x1, y2, x2])"
   ]
  },
  {
   "cell_type": "code",
   "execution_count": 110,
   "metadata": {},
   "outputs": [],
   "source": [
    "df1 = pd.DataFrame(df_tabula[0])\n",
    "df2 = pd.DataFrame(df_tabula[1])\n",
    "df3 = pd.DataFrame(df_tabula[2])\n",
    "df4 = pd.DataFrame(df_tabula[3])"
   ]
  },
  {
   "cell_type": "code",
   "execution_count": 111,
   "metadata": {},
   "outputs": [],
   "source": [
    "columns = {\n",
    "    'Event #': 'event_id', \n",
    "    'Date\\ryyyy-mm-dd': 'start_date', \n",
    "    'Time': 'start_time', \n",
    "    'Unnamed: 1': 'location', \n",
    "    'Date\\ryyyy-mm-dd.1': 'end_date', \n",
    "    'Time.1': 'end_time', \n",
    "    'Hours': 'duration', \n",
    "    'ML': 'volume', \n",
    "    'Yes / No': 'disinfection',\n",
    "    'Code': 'reason_code',\n",
    "    'TBOD\\rmg/L': 'TBOD(mg/L)',\n",
    "    'cBOD\\rmg/L': 'cBOD(mg/L)',\n",
    "    'TSS\\rmg/L': 'TSS(mg/L)',\n",
    "    'TP\\rmg/L': 'TP(mg/L)',\n",
    "    'E.coli\\rCFU/100ml': 'EColi(CFU/100ml)',\n",
    "    'pH': 'final_effluent_pH',\n",
    "    'Total Cl\\rmg/L': 'final_effluent_total_ci(mg/L)'\n",
    "}\n",
    "\n",
    "df1 = df1.rename(columns=columns)\n",
    "df2 = df2.rename(columns=columns)\n",
    "df3 = df3.rename(columns=columns)\n",
    "df4 = df4.rename(columns=columns)"
   ]
  },
  {
   "cell_type": "code",
   "execution_count": 112,
   "metadata": {},
   "outputs": [],
   "source": [
    "df1 = df1.drop('Unnamed: 0', axis=1)\n",
    "df2 = df2.drop('Unnamed: 0', axis=1)\n",
    "df3 = df3.drop('Unnamed: 0', axis=1)\n",
    "df4 = df4.drop('Unnamed: 0', axis=1)"
   ]
  },
  {
   "cell_type": "code",
   "execution_count": 113,
   "metadata": {},
   "outputs": [],
   "source": [
    "# TABLE 1\n",
    "\n",
    "df1.at[3, 'end_time'] = '17:25'\n",
    "df1.at[3, 'duration'] = '46.923'\n",
    "df1.at[3, 'volume'] = '412.148'\n",
    "df1 = df1.drop(4)"
   ]
  },
  {
   "cell_type": "code",
   "execution_count": 114,
   "metadata": {},
   "outputs": [],
   "source": [
    "df1.at[9, 'end_date'] = '2020-01-12'\n",
    "df1.at[9, 'end_time'] = '07:38'\n",
    "df1.at[9, 'duration'] = '10.53'\n",
    "df1.at[9, 'volume'] = '15.33'\n",
    "df1 = df1.drop(10)"
   ]
  },
  {
   "cell_type": "code",
   "execution_count": 115,
   "metadata": {},
   "outputs": [],
   "source": [
    "df1.at[25, 'end_time'] = '17:54'\n",
    "df1.at[25, 'duration'] = '4.26'\n",
    "df1 = df1.drop(26)\n",
    "df1 = df1.drop(27)"
   ]
  },
  {
   "cell_type": "code",
   "execution_count": 116,
   "metadata": {},
   "outputs": [],
   "source": [
    "df1.at[31, 'end_time'] = '15:54'\n",
    "df1.at[31, 'duration'] = '5.57'\n",
    "df1 = df1.drop(32)"
   ]
  },
  {
   "cell_type": "code",
   "execution_count": 117,
   "metadata": {},
   "outputs": [],
   "source": [
    "df1.at[33, 'end_time'] = '11:05'\n",
    "df1.at[33, 'duration'] = '5.26'\n",
    "df1 = df1.drop(34)\n",
    "df1 = df1.drop(35)"
   ]
  },
  {
   "cell_type": "code",
   "execution_count": 118,
   "metadata": {},
   "outputs": [],
   "source": [
    "df1.at[39, 'end_time'] = '15:41'\n",
    "df1.at[39, 'duration'] = '4.75'\n",
    "df1 = df1.drop(40)"
   ]
  },
  {
   "cell_type": "code",
   "execution_count": 119,
   "metadata": {},
   "outputs": [],
   "source": [
    "df1.at[43, 'end_time'] = '10:11'\n",
    "df1.at[43, 'duration'] = '5.59'\n",
    "df1 = df1.drop(44)"
   ]
  },
  {
   "cell_type": "code",
   "execution_count": 120,
   "metadata": {},
   "outputs": [],
   "source": [
    "df1_last_row = df1.iloc[[36]].shift(periods=1, axis=\"columns\")\n",
    "df1.iloc[[36]] = df1_last_row\n",
    "df1.at[45, 'event_id'] = 37"
   ]
  },
  {
   "cell_type": "code",
   "execution_count": 121,
   "metadata": {},
   "outputs": [],
   "source": [
    "# TABLE 2\n",
    "\n",
    "df2.at[0, 'end_time'] = '07:55'\n",
    "df2.at[0, 'duration'] = '5.48'\n",
    "df2 = df2.drop(1)\n"
   ]
  },
  {
   "cell_type": "code",
   "execution_count": 122,
   "metadata": {},
   "outputs": [],
   "source": [
    "df2.at[2, 'end_time'] = '09:15'\n",
    "df2.at[2, 'duration'] = '5.25'\n",
    "df2 = df2.drop(3)"
   ]
  },
  {
   "cell_type": "code",
   "execution_count": 123,
   "metadata": {},
   "outputs": [],
   "source": [
    "df2.at[6, 'end_time'] = '19:48'\n",
    "df2.at[6, 'duration'] = '3.17'\n",
    "df2 = df2.drop(7)\n",
    "df2 = df2.drop(8)\n",
    "df2 = df2.drop(9)"
   ]
  },
  {
   "cell_type": "code",
   "execution_count": 124,
   "metadata": {},
   "outputs": [],
   "source": [
    "df2.at[10, 'end_time'] = '18:28'\n",
    "df2.at[10, 'duration'] = '1.2'\n",
    "df2 = df2.drop(11)"
   ]
  },
  {
   "cell_type": "code",
   "execution_count": 125,
   "metadata": {},
   "outputs": [],
   "source": [
    "df2.at[13, 'end_date'] = '2020-05-18'\n",
    "df2.at[13, 'end_time'] = '21.41'\n",
    "df2.at[13, 'duration'] = '15.16'\n",
    "df2 = df2.drop(14)\n",
    "df2 = df2.drop(15)\n",
    "df2 = df2.drop(16)\n",
    "df2 = df2.drop(17)\n",
    "df2 = df2.drop(18)\n",
    "df2 = df2.drop(19)"
   ]
  },
  {
   "cell_type": "code",
   "execution_count": 126,
   "metadata": {},
   "outputs": [],
   "source": [
    "df2.at[20, 'end_date'] = '2020-05-19'\n",
    "df2.at[20, 'end_time'] = '00:16'\n",
    "df2.at[20, 'duration'] = '11.95'\n",
    "df2 = df2.drop(21)"
   ]
  },
  {
   "cell_type": "code",
   "execution_count": 127,
   "metadata": {},
   "outputs": [],
   "source": [
    "df2.at[22, 'end_time'] = '16:17'\n",
    "df2.at[22, 'duration'] = '1.97'\n",
    "df2 = df2.drop(23)"
   ]
  },
  {
   "cell_type": "code",
   "execution_count": 128,
   "metadata": {},
   "outputs": [],
   "source": [
    "df2.at[24, 'end_time'] = '16:55'\n",
    "df2.at[24, 'duration'] = '1.94'\n",
    "df2 = df2.drop(25)"
   ]
  },
  {
   "cell_type": "code",
   "execution_count": 129,
   "metadata": {},
   "outputs": [],
   "source": [
    "df2.at[27, 'end_date'] = '2020-06-11'\n",
    "df2.at[27, 'end_time'] = '01:06'\n",
    "df2.at[27, 'duration'] = '4.03'\n",
    "df2 = df2.drop(28)\n",
    "df2 = df2.drop(29)"
   ]
  },
  {
   "cell_type": "code",
   "execution_count": 130,
   "metadata": {},
   "outputs": [],
   "source": [
    "df2.at[32, 'end_time'] = '23:54'\n",
    "df2.at[32, 'duration'] = '19:48'\n",
    "df2 = df2.drop(33)"
   ]
  },
  {
   "cell_type": "code",
   "execution_count": 131,
   "metadata": {},
   "outputs": [],
   "source": [
    "df2.at[37, 'end_date'] = '2020-07-11'\n",
    "df2.at[37, 'end_time'] = '00:06'\n",
    "df2.at[37, 'duration'] = '2.38'\n",
    "df2 = df2.drop(38)"
   ]
  },
  {
   "cell_type": "code",
   "execution_count": 132,
   "metadata": {},
   "outputs": [],
   "source": [
    "df2.at[39, 'end_date'] = '2020-07-11'\n",
    "df2.at[39, 'end_time'] = '01:17'\n",
    "df2.at[39, 'duration'] = '4.33'\n",
    "df2 = df2.drop(40)"
   ]
  },
  {
   "cell_type": "code",
   "execution_count": 133,
   "metadata": {},
   "outputs": [],
   "source": [
    "df2_last_row = df2.iloc[[22]].shift(periods=1, axis=\"columns\")\n",
    "df2.iloc[[22]] = df2_last_row\n",
    "df2.at[42, 'event_id'] = 61"
   ]
  },
  {
   "cell_type": "code",
   "execution_count": 134,
   "metadata": {},
   "outputs": [],
   "source": [
    "df2_missing_row = pd.DataFrame(data={\n",
    "    'event_id': [62],\n",
    "    'start_date': ['2020-07-19'],\n",
    "    'start_time': ['12:49'],\n",
    "    'location': ['HCG03'],\n",
    "    'end_date': ['2020-07-19'],\n",
    "    'end_time': ['13:17'],\n",
    "    'duration': [0.47],\n",
    "    'volume': ['n/a'],\n",
    "    'disinfection': ['No'],\n",
    "    'reason_code': ['1,7'],\n",
    "    'TBOD(mg/L)': ['n/a'],\n",
    "    'cBOD(mg/L)': ['n/a'],\n",
    "    'TSS(mg/L)': ['n/a'],\n",
    "    'TP(mg/L)': ['n/a'],\n",
    "    'EColi(CFU/100ml)': ['n/a'],\n",
    "    'final_effluent_pH': ['n/a'],\n",
    "    'final_effluent_total_ci(mg/L)': ['n/a']\n",
    "})"
   ]
  },
  {
   "cell_type": "code",
   "execution_count": 135,
   "metadata": {},
   "outputs": [],
   "source": [
    "df2 = pd.concat([df2, df2_missing_row])"
   ]
  },
  {
   "cell_type": "code",
   "execution_count": 136,
   "metadata": {},
   "outputs": [],
   "source": [
    "# TABLE 3\n",
    "\n",
    "df3.at[1, 'end_time'] = '09:45'\n",
    "df3.at[1, 'duration'] = '2.76'\n",
    "df3 = df3.drop(2)\n",
    "df3 = df3.drop(3)\n",
    "df3 = df3.drop(4)\n",
    "df3 = df3.drop(5)"
   ]
  },
  {
   "cell_type": "code",
   "execution_count": 137,
   "metadata": {},
   "outputs": [],
   "source": [
    "df3.at[6, 'end_time'] = '09:57'\n",
    "df3.at[6, 'duration'] = '1.35'\n",
    "df3 = df3.drop(7)"
   ]
  },
  {
   "cell_type": "code",
   "execution_count": 138,
   "metadata": {},
   "outputs": [],
   "source": [
    "df3.at[9, 'end_time'] = '22:52'\n",
    "df3.at[9, 'duration'] = '2.62'\n",
    "df3 = df3.drop(10)"
   ]
  },
  {
   "cell_type": "code",
   "execution_count": 139,
   "metadata": {},
   "outputs": [],
   "source": [
    "df3.at[18, 'end_time'] = '22:02'\n",
    "df3.at[18, 'duration'] = '1.30'\n",
    "df3 = df3.drop(19)"
   ]
  },
  {
   "cell_type": "code",
   "execution_count": 140,
   "metadata": {},
   "outputs": [],
   "source": [
    "df3.at[21, 'end_time'] = '22:42'\n",
    "df3.at[21, 'duration'] = '6.26'\n",
    "df3 = df3.drop(22)"
   ]
  },
  {
   "cell_type": "code",
   "execution_count": 141,
   "metadata": {},
   "outputs": [],
   "source": [
    "df3.at[28, 'end_time'] = '10:04'\n",
    "df3.at[28, 'duration'] = '1.25'\n",
    "df3 = df3.drop(29)"
   ]
  },
  {
   "cell_type": "code",
   "execution_count": 142,
   "metadata": {},
   "outputs": [],
   "source": [
    "df3.at[31, 'end_date'] = '2020-09-29'\n",
    "df3.at[31, 'end_time'] = '00:58'\n",
    "df3.at[31, 'duration'] = '2.51'\n",
    "df3 = df3.drop(32)\n",
    "df3 = df3.drop(33)\n",
    "df3 = df3.drop(34)\n"
   ]
  },
  {
   "cell_type": "code",
   "execution_count": 143,
   "metadata": {},
   "outputs": [],
   "source": [
    "df3.at[35, 'end_date'] = '2020-09-29'\n",
    "df3.at[35, 'end_time'] = '00:56'\n",
    "df3.at[35, 'duration'] = '1.07'\n",
    "df3 = df3.drop(36)"
   ]
  },
  {
   "cell_type": "code",
   "execution_count": 144,
   "metadata": {},
   "outputs": [],
   "source": [
    "df3.at[37, 'end_date'] = '2020-09-30'\n",
    "df3.at[37, 'end_time'] = '18:21'\n",
    "df3.at[37, 'duration'] = '1.27'\n",
    "df3 = df3.drop(38)"
   ]
  },
  {
   "cell_type": "code",
   "execution_count": 145,
   "metadata": {},
   "outputs": [],
   "source": [
    "df3_last_row = df3.iloc[[28]].shift(periods=1, axis=\"columns\")\n",
    "df3.iloc[[28]] = df3_last_row\n",
    "df3.at[42, 'event_id'] = 91"
   ]
  },
  {
   "cell_type": "code",
   "execution_count": 146,
   "metadata": {},
   "outputs": [],
   "source": [
    "df3_missing_row = pd.DataFrame(data={\n",
    "    'event_id': [92],\n",
    "    'start_date': ['2020-10-04'],\n",
    "    'start_time': ['16:31'],\n",
    "    'location': ['HCG03'],\n",
    "    'end_date': ['2020-10-04'],\n",
    "    'end_time': ['17:24'],\n",
    "    'duration': [0.88],\n",
    "    'volume': ['n/a'],\n",
    "    'disinfection': ['No'],\n",
    "    'reason_code': ['1,7'],\n",
    "    'TBOD(mg/L)': ['n/a'],\n",
    "    'cBOD(mg/L)': ['n/a'],\n",
    "    'TSS(mg/L)': ['n/a'],\n",
    "    'TP(mg/L)': ['n/a'],\n",
    "    'EColi(CFU/100ml)': ['n/a'],\n",
    "    'final_effluent_pH': ['n/a'],\n",
    "    'final_effluent_total_ci(mg/L)': ['n/a']\n",
    "})"
   ]
  },
  {
   "cell_type": "code",
   "execution_count": 147,
   "metadata": {},
   "outputs": [],
   "source": [
    "df3 = pd.concat([df3, df3_missing_row])"
   ]
  },
  {
   "cell_type": "code",
   "execution_count": 148,
   "metadata": {},
   "outputs": [],
   "source": [
    "# TABLE 4\n",
    "\n",
    "df4.at[3, 'end_date'] = '2020-10-17'\n",
    "df4.at[3, 'end_time'] = '09:20'\n",
    "df4.at[3, 'duration'] = '24.93'\n",
    "df4 = df4.drop(4)"
   ]
  },
  {
   "cell_type": "code",
   "execution_count": 149,
   "metadata": {},
   "outputs": [],
   "source": [
    "df4.at[5, 'end_time'] = '22:44'\n",
    "df4.at[5, 'duration'] = '4.25'\n",
    "df4.at[5, 'reason_code'] = 'n/a'\n",
    "df4 = df4.drop(6)"
   ]
  },
  {
   "cell_type": "code",
   "execution_count": 150,
   "metadata": {},
   "outputs": [],
   "source": [
    "df4.at[7, 'end_time'] = '04:13'\n",
    "df4.at[7, 'duration'] = '5.35'\n",
    "df4 = df4.drop(8)"
   ]
  },
  {
   "cell_type": "code",
   "execution_count": 151,
   "metadata": {},
   "outputs": [],
   "source": [
    "df4.at[12, 'end_date'] = '2020-10-28'\n",
    "df4.at[12, 'end_time'] = '06:44'\n",
    "df4.at[12, 'duration'] = '95.04'\n",
    "df4 = df4.drop(13)\n",
    "df4 = df4.drop(14)"
   ]
  },
  {
   "cell_type": "code",
   "execution_count": 152,
   "metadata": {},
   "outputs": [],
   "source": [
    "df4.at[16, 'end_time'] = '15:22'\n",
    "df4.at[16, 'duration'] = '1.89'\n",
    "df4 = df4.drop(17)"
   ]
  },
  {
   "cell_type": "code",
   "execution_count": 153,
   "metadata": {},
   "outputs": [],
   "source": [
    "df4.at[24, 'end_time'] = '15:21'\n",
    "df4.at[24, 'duration'] = '1.33'\n",
    "df4 = df4.drop(25)\n",
    "df4 = df4.drop(26)"
   ]
  },
  {
   "cell_type": "code",
   "execution_count": 154,
   "metadata": {},
   "outputs": [],
   "source": [
    "df4.at[27, 'end_time'] = '06:58'\n",
    "df4.at[27, 'duration'] = '4.94'\n",
    "df4 = df4.drop(28)"
   ]
  },
  {
   "cell_type": "code",
   "execution_count": 155,
   "metadata": {},
   "outputs": [],
   "source": [
    "df4.at[30, 'end_time'] = '19:47'\n",
    "df4.at[30, 'duration'] = '4.23'\n",
    "df4 = df4.drop(31)\n",
    "df4 = df4.drop(32)\n",
    "df4 = df4.drop(33)"
   ]
  },
  {
   "cell_type": "code",
   "execution_count": 156,
   "metadata": {},
   "outputs": [],
   "source": [
    "# COMBINE THE 4 TABLES\n",
    "\n",
    "result = pd.concat([df1, df2, df3, df4])\n",
    "result['EColi(CFU/100ml)'] = result['EColi(CFU/100ml)'].str.replace(',', '')\n",
    "result = result.astype({'event_id':'int64'})\n",
    "result = result.sort_values(by=['event_id'])"
   ]
  },
  {
   "cell_type": "code",
   "execution_count": 157,
   "metadata": {},
   "outputs": [],
   "source": [
    "row_to_fix = result.loc[result['event_id'] == 53]\n",
    "row_to_fix['duration'] = 19.8\n",
    "result.loc[result['event_id'] == 53] = row_to_fix"
   ]
  },
  {
   "cell_type": "code",
   "execution_count": 158,
   "metadata": {},
   "outputs": [],
   "source": [
    "result.to_csv('../data/2020-bypass-overflow.csv', index=False)"
   ]
  },
  {
   "cell_type": "code",
   "execution_count": null,
   "metadata": {},
   "outputs": [],
   "source": []
  }
 ]
}