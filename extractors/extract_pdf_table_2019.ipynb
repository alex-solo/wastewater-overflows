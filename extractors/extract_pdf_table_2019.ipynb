{
 "cells": [
  {
   "cell_type": "code",
   "execution_count": 16,
   "metadata": {},
   "outputs": [],
   "source": [
    "import tabula\n",
    "import pandas as pd"
   ]
  },
  {
   "cell_type": "code",
   "execution_count": 17,
   "metadata": {},
   "outputs": [],
   "source": [
    "df = tabula.read_pdf(\"../data/wastewatercollection-2019-bypass-overflow-log.pdf\", pages='1')"
   ]
  },
  {
   "cell_type": "code",
   "execution_count": 18,
   "metadata": {},
   "outputs": [],
   "source": [
    "pd_df = pd.DataFrame(df[0])"
   ]
  },
  {
   "cell_type": "code",
   "execution_count": 19,
   "metadata": {},
   "outputs": [],
   "source": [
    "pd_df = pd_df.rename(columns={\n",
    "    'Event #': 'event_id', \n",
    "    'Start\\rDateTime\\ryyyy-mm-dd': 'start_date', \n",
    "    'Location\\r(see\\rbelow)': 'start_time', \n",
    "    'Stop\\rDateTime\\ryyyy-mm-dd': 'location', \n",
    "    'DurationVolume\\rDisinfectionReason\\rHoursMLYes / NoCode': 'end_date', \n",
    "    'Sample Results': 'end_time', \n",
    "    'Unnamed: 0': 'duration', \n",
    "    'Unnamed: 1': 'volume', \n",
    "    'Unnamed: 2': 'disinfection',\n",
    "    'Unnamed: 3': 'reason_code',\n",
    "    'Unnamed: 4': 'TBOD(mg/L)',\n",
    "    'Unnamed: 5': 'cBOD(mg/L)',\n",
    "    'Unnamed: 6': 'TSS(mg/L)',\n",
    "    'Unnamed: 7': 'TP(mg/L)',\n",
    "    'Unnamed: 8': 'EColi(CFU/100ml)',\n",
    "    'Unnamed: 9': 'final_effluent_pH',\n",
    "    'Unnamed: 10': 'final_effluent_total_ci(mg/L)'\n",
    "})"
   ]
  },
  {
   "cell_type": "code",
   "execution_count": 20,
   "metadata": {},
   "outputs": [],
   "source": [
    "pd_df = pd_df.drop(0)\n",
    "pd_df = pd_df.drop(12)\n",
    "pd_df.at[11, 'end_date'] = '2019-04-21'\n",
    "pd_df.at[11, 'end_time'] = '02:30'\n",
    "pd_df.at[11, 'duration'] = '21.11'\n",
    "pd_df.at[11, 'final_effluent_pH'] = '7.50'"
   ]
  },
  {
   "cell_type": "code",
   "execution_count": 21,
   "metadata": {},
   "outputs": [],
   "source": [
    "# EXTRACT SECOND PAGE TABLE\n",
    "# Requires more precision, so we use the \"area\" parameter in tabula"
   ]
  },
  {
   "cell_type": "code",
   "execution_count": 22,
   "metadata": {},
   "outputs": [],
   "source": [
    "left = 38.04\n",
    "top = 96.52\n",
    "width = 714.63\n",
    "height = 293.78\n",
    "\n",
    "y1 = top\n",
    "x1 = left\n",
    "y2 = top + height\n",
    "x2 = left + width"
   ]
  },
  {
   "cell_type": "code",
   "execution_count": 23,
   "metadata": {},
   "outputs": [],
   "source": [
    "df_2 = tabula.read_pdf(\"../data/wastewatercollection-2019-bypass-overflow-log.pdf\", pages='2', area=[y1, x1, y2, x2])"
   ]
  },
  {
   "cell_type": "code",
   "execution_count": 24,
   "metadata": {},
   "outputs": [],
   "source": [
    "pd_df_2 = pd.DataFrame(df_2[0])"
   ]
  },
  {
   "cell_type": "code",
   "execution_count": 25,
   "metadata": {},
   "outputs": [],
   "source": [
    "pd_df_2 = pd_df_2.rename(columns={\n",
    "    'Unnamed: 0': 'event_id', \n",
    "    'Date\\ryyyy-mm-dd': 'start_date', \n",
    "    'Time': 'start_time', \n",
    "    '(see\\rbelow)': 'location', \n",
    "    'Date\\ryyyy-mm-dd.1': 'end_date', \n",
    "    'Time.1': 'end_time', \n",
    "    'Hours': 'duration', \n",
    "    'ML': 'volume', \n",
    "    'Yes / No': 'disinfection',\n",
    "    'Code': 'reason_code',\n",
    "    'TBOD\\rmg/L': 'TBOD(mg/L)',\n",
    "    'cBOD\\rmg/L': 'cBOD(mg/L)',\n",
    "    'TSS\\rmg/L': 'TSS(mg/L)',\n",
    "    'TP\\rmg/L': 'TP(mg/L)',\n",
    "    'E.coli\\rCFU/100ml': 'EColi(CFU/100ml)',\n",
    "    'pH': 'final_effluent_pH',\n",
    "    'Total Cl\\rmg/L': 'final_effluent_total_ci(mg/L)'\n",
    "})"
   ]
  },
  {
   "cell_type": "code",
   "execution_count": 26,
   "metadata": {},
   "outputs": [],
   "source": [
    "pd_df_2.at[0, 'end_date'] = '2019-10-02'\n",
    "pd_df_2.at[0, 'end_time'] = '19:45'\n",
    "pd_df_2.at[0, 'final_effluent_pH'] = '6.99'\n",
    "pd_df_2.at[0, 'final_effluent_total_ci(mg/L)'] = '0.01'\n",
    "pd_df_2 = pd_df_2.drop(1)\n",
    "pd_df_2 = pd_df_2.drop(2)"
   ]
  },
  {
   "cell_type": "code",
   "execution_count": 27,
   "metadata": {},
   "outputs": [],
   "source": [
    "pd_df_2.at[19, 'end_date'] = '2019-12-31'\n",
    "pd_df_2.at[19, 'end_time'] = '11:21'\n",
    "pd_df_2.at[19, 'duration'] = '14.50'\n",
    "pd_df_2 = pd_df_2.drop(20)\n",
    "pd_df_2 = pd_df_2.drop(21)\n",
    "pd_df_2 = pd_df_2.drop(22)\n",
    "pd_df_2 = pd_df_2.drop(23)"
   ]
  },
  {
   "cell_type": "code",
   "execution_count": 31,
   "metadata": {},
   "outputs": [],
   "source": [
    "# COMBINE TWO TABLES\n",
    "\n",
    "result = pd.concat([pd_df, pd_df_2])\n",
    "result['EColi(CFU/100ml)'] = result['EColi(CFU/100ml)'].str.replace(',', '')\n",
    "result = result.astype({'event_id':'int'})"
   ]
  },
  {
   "cell_type": "code",
   "execution_count": 32,
   "metadata": {},
   "outputs": [
    {
     "output_type": "execute_result",
     "data": {
      "text/plain": [
       "    event_id  start_date start_time location    end_date end_time duration  \\\n",
       "1          1  2019-01-23      17:26        S  2019-01-24    05:26    12.00   \n",
       "2          2  2019-02-06      16:20        S  2019-02-06    20:32     4.20   \n",
       "3          3  2019-02-12      23:43        S  2019-02-13    02:34     2.86   \n",
       "4          4  2019-02-24      14:03        S  2019-02-24    21:10     7.12   \n",
       "5          5  2019-03-10      11:12        S  2019-03-10    23:28    12.26   \n",
       "..       ...         ...        ...      ...         ...      ...      ...   \n",
       "17        58  2019-12-14      10:36        S  2019-12-14    11:35    12.98   \n",
       "18        59  2019-12-30      03:05        S  2019-12-30    19:52    16.79   \n",
       "19        60  2019-12-29      12:03    HCG03  2019-12-31    11:21    14.50   \n",
       "24        61  2019-12-30      08:32    HCS01  2019-12-31    05:10    20.60   \n",
       "25        62  2019-12-30      08:32    HCS05  2019-12-30    16:53     8.30   \n",
       "\n",
       "     volume disinfection reason_code TBOD(mg/L) cBOD(mg/L) TSS(mg/L) TP(mg/L)  \\\n",
       "1   112.068           No       1,2,7       72.0        n/a       116     2.01   \n",
       "2    24.089           No       1,2,7       68.0        n/a      95.5     1.54   \n",
       "3     28.05           No       1,2,7       62.0        n/a      73.2     1.54   \n",
       "4    21.111           No       1,2,7       39.0        n/a      89.0     1.62   \n",
       "5   100.792           No       1,2,7       54.0        n/a      67.0     1.54   \n",
       "..      ...          ...         ...        ...        ...       ...      ...   \n",
       "17  106.630           No         1,7       57.0        n/a      77.5     1.63   \n",
       "18  127.000           No         1,7       48.7        n/a        73     1.53   \n",
       "19      n/a           No         1,7        n/a        n/a       n/a      n/a   \n",
       "24   85.023           No         1,7        n/a        n/a       n/a      n/a   \n",
       "25   18.646           No         1,7        n/a         65       176     2.12   \n",
       "\n",
       "   EColi(CFU/100ml) final_effluent_pH final_effluent_total_ci(mg/L)  \n",
       "1               n/a              7.49                           n/a  \n",
       "2               n/a              7.02                           n/a  \n",
       "3               n/a              7.27                           n/a  \n",
       "4               n/a              7.19                           n/a  \n",
       "5               n/a              6.97                           n/a  \n",
       "..              ...               ...                           ...  \n",
       "17          1535000              7.13                           n/a  \n",
       "18          1766667              7.23                           n/a  \n",
       "19              n/a               n/a                           n/a  \n",
       "24              n/a               n/a                           n/a  \n",
       "25          1600000               n/a                           n/a  \n",
       "\n",
       "[62 rows x 17 columns]"
      ],
      "text/html": "<div>\n<style scoped>\n    .dataframe tbody tr th:only-of-type {\n        vertical-align: middle;\n    }\n\n    .dataframe tbody tr th {\n        vertical-align: top;\n    }\n\n    .dataframe thead th {\n        text-align: right;\n    }\n</style>\n<table border=\"1\" class=\"dataframe\">\n  <thead>\n    <tr style=\"text-align: right;\">\n      <th></th>\n      <th>event_id</th>\n      <th>start_date</th>\n      <th>start_time</th>\n      <th>location</th>\n      <th>end_date</th>\n      <th>end_time</th>\n      <th>duration</th>\n      <th>volume</th>\n      <th>disinfection</th>\n      <th>reason_code</th>\n      <th>TBOD(mg/L)</th>\n      <th>cBOD(mg/L)</th>\n      <th>TSS(mg/L)</th>\n      <th>TP(mg/L)</th>\n      <th>EColi(CFU/100ml)</th>\n      <th>final_effluent_pH</th>\n      <th>final_effluent_total_ci(mg/L)</th>\n    </tr>\n  </thead>\n  <tbody>\n    <tr>\n      <th>1</th>\n      <td>1</td>\n      <td>2019-01-23</td>\n      <td>17:26</td>\n      <td>S</td>\n      <td>2019-01-24</td>\n      <td>05:26</td>\n      <td>12.00</td>\n      <td>112.068</td>\n      <td>No</td>\n      <td>1,2,7</td>\n      <td>72.0</td>\n      <td>n/a</td>\n      <td>116</td>\n      <td>2.01</td>\n      <td>n/a</td>\n      <td>7.49</td>\n      <td>n/a</td>\n    </tr>\n    <tr>\n      <th>2</th>\n      <td>2</td>\n      <td>2019-02-06</td>\n      <td>16:20</td>\n      <td>S</td>\n      <td>2019-02-06</td>\n      <td>20:32</td>\n      <td>4.20</td>\n      <td>24.089</td>\n      <td>No</td>\n      <td>1,2,7</td>\n      <td>68.0</td>\n      <td>n/a</td>\n      <td>95.5</td>\n      <td>1.54</td>\n      <td>n/a</td>\n      <td>7.02</td>\n      <td>n/a</td>\n    </tr>\n    <tr>\n      <th>3</th>\n      <td>3</td>\n      <td>2019-02-12</td>\n      <td>23:43</td>\n      <td>S</td>\n      <td>2019-02-13</td>\n      <td>02:34</td>\n      <td>2.86</td>\n      <td>28.05</td>\n      <td>No</td>\n      <td>1,2,7</td>\n      <td>62.0</td>\n      <td>n/a</td>\n      <td>73.2</td>\n      <td>1.54</td>\n      <td>n/a</td>\n      <td>7.27</td>\n      <td>n/a</td>\n    </tr>\n    <tr>\n      <th>4</th>\n      <td>4</td>\n      <td>2019-02-24</td>\n      <td>14:03</td>\n      <td>S</td>\n      <td>2019-02-24</td>\n      <td>21:10</td>\n      <td>7.12</td>\n      <td>21.111</td>\n      <td>No</td>\n      <td>1,2,7</td>\n      <td>39.0</td>\n      <td>n/a</td>\n      <td>89.0</td>\n      <td>1.62</td>\n      <td>n/a</td>\n      <td>7.19</td>\n      <td>n/a</td>\n    </tr>\n    <tr>\n      <th>5</th>\n      <td>5</td>\n      <td>2019-03-10</td>\n      <td>11:12</td>\n      <td>S</td>\n      <td>2019-03-10</td>\n      <td>23:28</td>\n      <td>12.26</td>\n      <td>100.792</td>\n      <td>No</td>\n      <td>1,2,7</td>\n      <td>54.0</td>\n      <td>n/a</td>\n      <td>67.0</td>\n      <td>1.54</td>\n      <td>n/a</td>\n      <td>6.97</td>\n      <td>n/a</td>\n    </tr>\n    <tr>\n      <th>...</th>\n      <td>...</td>\n      <td>...</td>\n      <td>...</td>\n      <td>...</td>\n      <td>...</td>\n      <td>...</td>\n      <td>...</td>\n      <td>...</td>\n      <td>...</td>\n      <td>...</td>\n      <td>...</td>\n      <td>...</td>\n      <td>...</td>\n      <td>...</td>\n      <td>...</td>\n      <td>...</td>\n      <td>...</td>\n    </tr>\n    <tr>\n      <th>17</th>\n      <td>58</td>\n      <td>2019-12-14</td>\n      <td>10:36</td>\n      <td>S</td>\n      <td>2019-12-14</td>\n      <td>11:35</td>\n      <td>12.98</td>\n      <td>106.630</td>\n      <td>No</td>\n      <td>1,7</td>\n      <td>57.0</td>\n      <td>n/a</td>\n      <td>77.5</td>\n      <td>1.63</td>\n      <td>1535000</td>\n      <td>7.13</td>\n      <td>n/a</td>\n    </tr>\n    <tr>\n      <th>18</th>\n      <td>59</td>\n      <td>2019-12-30</td>\n      <td>03:05</td>\n      <td>S</td>\n      <td>2019-12-30</td>\n      <td>19:52</td>\n      <td>16.79</td>\n      <td>127.000</td>\n      <td>No</td>\n      <td>1,7</td>\n      <td>48.7</td>\n      <td>n/a</td>\n      <td>73</td>\n      <td>1.53</td>\n      <td>1766667</td>\n      <td>7.23</td>\n      <td>n/a</td>\n    </tr>\n    <tr>\n      <th>19</th>\n      <td>60</td>\n      <td>2019-12-29</td>\n      <td>12:03</td>\n      <td>HCG03</td>\n      <td>2019-12-31</td>\n      <td>11:21</td>\n      <td>14.50</td>\n      <td>n/a</td>\n      <td>No</td>\n      <td>1,7</td>\n      <td>n/a</td>\n      <td>n/a</td>\n      <td>n/a</td>\n      <td>n/a</td>\n      <td>n/a</td>\n      <td>n/a</td>\n      <td>n/a</td>\n    </tr>\n    <tr>\n      <th>24</th>\n      <td>61</td>\n      <td>2019-12-30</td>\n      <td>08:32</td>\n      <td>HCS01</td>\n      <td>2019-12-31</td>\n      <td>05:10</td>\n      <td>20.60</td>\n      <td>85.023</td>\n      <td>No</td>\n      <td>1,7</td>\n      <td>n/a</td>\n      <td>n/a</td>\n      <td>n/a</td>\n      <td>n/a</td>\n      <td>n/a</td>\n      <td>n/a</td>\n      <td>n/a</td>\n    </tr>\n    <tr>\n      <th>25</th>\n      <td>62</td>\n      <td>2019-12-30</td>\n      <td>08:32</td>\n      <td>HCS05</td>\n      <td>2019-12-30</td>\n      <td>16:53</td>\n      <td>8.30</td>\n      <td>18.646</td>\n      <td>No</td>\n      <td>1,7</td>\n      <td>n/a</td>\n      <td>65</td>\n      <td>176</td>\n      <td>2.12</td>\n      <td>1600000</td>\n      <td>n/a</td>\n      <td>n/a</td>\n    </tr>\n  </tbody>\n</table>\n<p>62 rows × 17 columns</p>\n</div>"
     },
     "metadata": {},
     "execution_count": 32
    }
   ],
   "source": [
    "result"
   ]
  },
  {
   "cell_type": "code",
   "execution_count": 33,
   "metadata": {},
   "outputs": [],
   "source": [
    "result.to_csv('../data/2019-bypass-overflow.csv', index=False)"
   ]
  },
  {
   "cell_type": "code",
   "execution_count": null,
   "metadata": {},
   "outputs": [],
   "source": []
  }
 ],
 "metadata": {
  "kernelspec": {
   "display_name": "Python 3 (ipykernel)",
   "language": "python",
   "name": "python3"
  },
  "language_info": {
   "codemirror_mode": {
    "name": "ipython",
    "version": 3
   },
   "file_extension": ".py",
   "mimetype": "text/x-python",
   "name": "python",
   "nbconvert_exporter": "python",
   "pygments_lexer": "ipython3",
   "version": "3.10.8-final"
  }
 },
 "nbformat": 4,
 "nbformat_minor": 2
}