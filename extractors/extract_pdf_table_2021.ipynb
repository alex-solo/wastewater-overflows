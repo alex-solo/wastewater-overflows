{
 "metadata": {
  "language_info": {
   "codemirror_mode": {
    "name": "ipython",
    "version": 3
   },
   "file_extension": ".py",
   "mimetype": "text/x-python",
   "name": "python",
   "nbconvert_exporter": "python",
   "pygments_lexer": "ipython3",
   "version": "3.10.8-final"
  },
  "orig_nbformat": 2,
  "kernelspec": {
   "name": "python3",
   "display_name": "Python 3 (ipykernel)",
   "language": "python"
  }
 },
 "nbformat": 4,
 "nbformat_minor": 2,
 "cells": [
  {
   "cell_type": "code",
   "execution_count": 1,
   "metadata": {},
   "outputs": [],
   "source": [
    "import tabula\n",
    "import pandas as pd"
   ]
  },
  {
   "cell_type": "code",
   "execution_count": 2,
   "metadata": {},
   "outputs": [],
   "source": [
    "df_tabula = tabula.read_pdf(\"../data/wastewatercollection-2021-bypass-overflow-log.pdf\", pages='all')"
   ]
  },
  {
   "cell_type": "code",
   "execution_count": 3,
   "metadata": {},
   "outputs": [],
   "source": [
    "df1 = pd.DataFrame(df_tabula[0])\n",
    "df2 = pd.DataFrame(df_tabula[1])\n",
    "df3 = pd.DataFrame(df_tabula[2])\n",
    "df4 = pd.DataFrame(df_tabula[3])\n",
    "df5 = pd.DataFrame(df_tabula[4])\n",
    "df6 = pd.DataFrame(df_tabula[5])\n",
    "df7 = pd.DataFrame(df_tabula[6])"
   ]
  },
  {
   "cell_type": "code",
   "execution_count": 4,
   "metadata": {},
   "outputs": [],
   "source": [
    "columns = {\n",
    "    'Event #': 'event_id', \n",
    "    'Location': 'location', \n",
    "    'Start\\rDateTime\\ryyyy-mm-dd': 'start_date', \n",
    "    'Stop\\rDateTime\\ryyyy-mm-dd': 'start_time', \n",
    "    'DurationVolume\\rDisinfectionReason\\rHoursMLYes / NoCode': 'end_date', \n",
    "    'Unnamed: 0': 'end_time', \n",
    "    'Unnamed: 1': 'duration', \n",
    "    'Unnamed: 2': 'volume', \n",
    "    'Unnamed: 3': 'disinfection',\n",
    "    'Unnamed: 4': 'reason_code'\n",
    "}\n",
    "\n",
    "df1 = df1.rename(columns=columns)\n",
    "df2 = df2.rename(columns=columns)\n",
    "df3 = df3.rename(columns=columns)\n",
    "df4 = df4.rename(columns=columns)\n",
    "df5 = df5.rename(columns=columns)\n",
    "df6 = df6.rename(columns=columns)\n",
    "df7 = df7.rename(columns=columns)"
   ]
  },
  {
   "cell_type": "code",
   "execution_count": 5,
   "metadata": {},
   "outputs": [],
   "source": [
    "# TABLE 1\n",
    "\n",
    "df1.at[0, 'end_time'] = '04:37'\n",
    "df1.at[0, 'duration'] = '3.86'\n",
    "df1 = df1.drop(1)"
   ]
  },
  {
   "cell_type": "code",
   "execution_count": 6,
   "metadata": {},
   "outputs": [],
   "source": [
    "df1.at[3, 'end_time'] = '20:37'\n",
    "df1.at[3, 'duration'] = '15.13'\n",
    "df1 = df1.drop(4)"
   ]
  },
  {
   "cell_type": "code",
   "execution_count": 7,
   "metadata": {},
   "outputs": [],
   "source": [
    "df1.at[6, 'end_time'] = '09:13'\n",
    "df1.at[6, 'duration'] = '0.69'\n",
    "df1 = df1.drop(7)"
   ]
  },
  {
   "cell_type": "code",
   "execution_count": 8,
   "metadata": {},
   "outputs": [],
   "source": [
    "df1.at[11, 'end_time'] = '09:59'\n",
    "df1.at[11, 'duration'] = '6.41'\n",
    "df1 = df1.drop(12)"
   ]
  },
  {
   "cell_type": "code",
   "execution_count": 9,
   "metadata": {},
   "outputs": [],
   "source": [
    "df1.at[13, 'end_time'] = '07:30'\n",
    "df1.at[13, 'duration'] = '2.89'\n",
    "df1 = df1.drop(14)"
   ]
  },
  {
   "cell_type": "code",
   "execution_count": 10,
   "metadata": {},
   "outputs": [],
   "source": [
    "df1.at[19, 'end_time'] = '14:08'\n",
    "df1.at[19, 'duration'] = '3.30'\n",
    "df1 = df1.drop(20)"
   ]
  },
  {
   "cell_type": "code",
   "execution_count": 11,
   "metadata": {},
   "outputs": [],
   "source": [
    "df1.at[22, 'end_time'] = '10:43'\n",
    "df1.at[22, 'duration'] = '4.27'\n",
    "df1 = df1.drop(23)"
   ]
  },
  {
   "cell_type": "code",
   "execution_count": 12,
   "metadata": {},
   "outputs": [],
   "source": [
    "df1.at[27, 'end_time'] = '19:30'\n",
    "df1.at[27, 'duration'] = '0.82'\n",
    "df1 = df1.drop(28)"
   ]
  },
  {
   "cell_type": "code",
   "execution_count": 13,
   "metadata": {},
   "outputs": [],
   "source": [
    "# TABLE 2\n",
    "\n",
    "df2.at[2, 'end_time'] = '17:33'\n",
    "df2.at[2, 'duration'] = '1.77'\n",
    "df2 = df2.drop(3)\n"
   ]
  },
  {
   "cell_type": "code",
   "execution_count": 14,
   "metadata": {},
   "outputs": [],
   "source": [
    "df2.at[4, 'end_time'] = '17:27'\n",
    "df2.at[4, 'duration'] = '1.34'\n",
    "df2 = df2.drop(5)"
   ]
  },
  {
   "cell_type": "code",
   "execution_count": 15,
   "metadata": {},
   "outputs": [],
   "source": [
    "df2.at[6, 'end_time'] = '19:11'\n",
    "df2.at[6, 'duration'] = '1.00'\n",
    "df2 = df2.drop(7)"
   ]
  },
  {
   "cell_type": "code",
   "execution_count": 16,
   "metadata": {},
   "outputs": [],
   "source": [
    "df2.at[11, 'end_date'] = '2021-06-26'\n",
    "df2.at[11, 'end_time'] = '09:05'\n",
    "df2.at[11, 'duration'] = '7.05'\n",
    "df2 = df2.drop(12)\n",
    "df2 = df2.drop(13)\n",
    "df2 = df2.drop(14)\n",
    "df2 = df2.drop(15)\n",
    "df2 = df2.drop(16)"
   ]
  },
  {
   "cell_type": "code",
   "execution_count": 17,
   "metadata": {},
   "outputs": [],
   "source": [
    "df2.at[17, 'end_time'] = '07:17'\n",
    "df2.at[17, 'duration'] = '3.13'\n",
    "df2 = df2.drop(18)\n",
    "df2 = df2.drop(19)\n",
    "df2 = df2.drop(20)\n",
    "df2 = df2.drop(21)"
   ]
  },
  {
   "cell_type": "code",
   "execution_count": 18,
   "metadata": {},
   "outputs": [],
   "source": [
    "df2.at[22, 'end_time'] = '10:29'\n",
    "df2.at[22, 'duration'] = '5.88'\n",
    "df2 = df2.drop(23)"
   ]
  },
  {
   "cell_type": "code",
   "execution_count": 19,
   "metadata": {},
   "outputs": [],
   "source": [
    "df2.at[28, 'end_time'] = '19:39'\n",
    "df2.at[28, 'duration'] = '1.29'\n",
    "df2 = df2.drop(29)"
   ]
  },
  {
   "cell_type": "code",
   "execution_count": 20,
   "metadata": {},
   "outputs": [],
   "source": [
    "# TABLE 3"
   ]
  },
  {
   "cell_type": "code",
   "execution_count": 21,
   "metadata": {},
   "outputs": [],
   "source": [
    "df3.at[0, 'end_time'] = '19:05'\n",
    "df3.at[0, 'duration'] = '2.77'\n",
    "df3 = df3.drop(1)"
   ]
  },
  {
   "cell_type": "code",
   "execution_count": 22,
   "metadata": {},
   "outputs": [],
   "source": [
    "df3.at[5, 'end_time'] = '15:20'\n",
    "df3.at[5, 'duration'] = '3.14'\n",
    "df3 = df3.drop(6)"
   ]
  },
  {
   "cell_type": "code",
   "execution_count": 23,
   "metadata": {},
   "outputs": [],
   "source": [
    "df3.at[7, 'end_time'] = '14:45'\n",
    "df3.at[7, 'duration'] = '0.91'\n",
    "df3 = df3.drop(8)\n",
    "df3 = df3.drop(9)"
   ]
  },
  {
   "cell_type": "code",
   "execution_count": 24,
   "metadata": {},
   "outputs": [],
   "source": [
    "df3.at[11, 'end_date'] = '2021-07-25'\n",
    "df3.at[11, 'end_time'] = '00:25'\n",
    "df3.at[11, 'duration'] = '1.12'\n",
    "df3 = df3.drop(12)"
   ]
  },
  {
   "cell_type": "code",
   "execution_count": 25,
   "metadata": {},
   "outputs": [],
   "source": [
    "df3.at[16, 'end_date'] = '2021-08-01'\n",
    "df3.at[16, 'end_time'] = '17:38'\n",
    "df3.at[16, 'duration'] = '0.11'\n",
    "df3 = df3.drop(17)"
   ]
  },
  {
   "cell_type": "code",
   "execution_count": 26,
   "metadata": {},
   "outputs": [],
   "source": [
    "df3.at[20, 'end_time'] = '15:01'\n",
    "df3.at[20, 'duration'] = '0.08'\n",
    "df3 = df3.drop(21)\n",
    "df3 = df3.drop(22)"
   ]
  },
  {
   "cell_type": "code",
   "execution_count": 27,
   "metadata": {},
   "outputs": [],
   "source": [
    "df3.at[24, 'end_time'] = '19:35'\n",
    "df3.at[24, 'duration'] = '0.04'\n",
    "df3 = df3.drop(25)"
   ]
  },
  {
   "cell_type": "code",
   "execution_count": 28,
   "metadata": {},
   "outputs": [],
   "source": [
    "df3.at[28, 'end_time'] = '07:21'\n",
    "df3.at[28, 'duration'] = '1.16'\n",
    "df3 = df3.drop(29)"
   ]
  },
  {
   "cell_type": "code",
   "execution_count": 29,
   "metadata": {},
   "outputs": [],
   "source": [
    "# TABLE 4\n",
    "\n",
    "df4.at[5, 'end_time'] = '23:42'\n",
    "df4.at[5, 'duration'] = '1.08'\n",
    "df4 = df4.drop(6)\n"
   ]
  },
  {
   "cell_type": "code",
   "execution_count": 30,
   "metadata": {},
   "outputs": [],
   "source": [
    "df4.at[7, 'end_time'] = '23:37'\n",
    "df4.at[7, 'duration'] = '0.76'\n",
    "df4 = df4.drop(8)"
   ]
  },
  {
   "cell_type": "code",
   "execution_count": 31,
   "metadata": {},
   "outputs": [],
   "source": [
    "df4.at[9, 'end_time'] = '03:38'\n",
    "df4.at[9, 'duration'] = '1.37'\n",
    "df4 = df4.drop(10)"
   ]
  },
  {
   "cell_type": "code",
   "execution_count": 32,
   "metadata": {},
   "outputs": [],
   "source": [
    "df4.at[12, 'end_date'] = '2021-09-08'\n",
    "df4.at[12, 'end_time'] = '05:09'\n",
    "df4.at[12, 'duration'] = '6.33'\n",
    "df4 = df4.drop(13)\n",
    "df4 = df4.drop(14)"
   ]
  },
  {
   "cell_type": "code",
   "execution_count": 33,
   "metadata": {},
   "outputs": [],
   "source": [
    "df4.at[15, 'end_date'] = '2021-09-08'\n",
    "df4.at[15, 'end_time'] = '04:53'\n",
    "df4.at[15, 'duration'] = '4.77'\n",
    "df4 = df4.drop(16)\n",
    "df4 = df4.drop(17)"
   ]
  },
  {
   "cell_type": "code",
   "execution_count": 34,
   "metadata": {},
   "outputs": [],
   "source": [
    "df4.at[26, 'end_date'] = '2021-09-13'\n",
    "df4.at[26, 'end_time'] = '00:38'\n",
    "df4.at[26, 'duration'] = '1.81'\n",
    "df4 = df4.drop(27)"
   ]
  },
  {
   "cell_type": "code",
   "execution_count": 35,
   "metadata": {},
   "outputs": [],
   "source": [
    "df4.at[29, 'end_time'] = '23:19'\n",
    "df4.at[29, 'duration'] = '1.53'\n",
    "df4 = df4.drop(30)"
   ]
  },
  {
   "cell_type": "code",
   "execution_count": 36,
   "metadata": {},
   "outputs": [],
   "source": [
    "# TABLE 5\n",
    "\n",
    "df5.at[2, 'end_date'] = '2021-09-23'\n",
    "df5.at[2, 'end_time'] = '23:19'\n",
    "df5.at[2, 'duration'] = '15.05'\n",
    "df5 = df5.drop(3)\n",
    "df5 = df5.drop(4)\n",
    "df5 = df5.drop(5)\n",
    "df5 = df5.drop(6)"
   ]
  },
  {
   "cell_type": "code",
   "execution_count": 37,
   "metadata": {},
   "outputs": [],
   "source": [
    "df5.at[7, 'end_time'] = '22:49'\n",
    "df5.at[7, 'duration'] = '4.02'\n",
    "df5 = df5.drop(8)\n",
    "df5 = df5.drop(9)"
   ]
  },
  {
   "cell_type": "code",
   "execution_count": 38,
   "metadata": {},
   "outputs": [],
   "source": [
    "df5.at[22, 'end_date'] = '2021-10-04'\n",
    "df5.at[22, 'end_time'] = '22:49'\n",
    "df5.at[22, 'duration'] = '12.48'\n",
    "df5 = df5.drop(23)\n",
    "df5 = df5.drop(24)"
   ]
  },
  {
   "cell_type": "code",
   "execution_count": 39,
   "metadata": {},
   "outputs": [],
   "source": [
    "df5.at[25, 'end_time'] = '03:26'\n",
    "df5.at[25, 'duration'] = '6.11'\n",
    "df5 = df5.drop(26)\n",
    "df5 = df5.drop(27)"
   ]
  },
  {
   "cell_type": "code",
   "execution_count": 40,
   "metadata": {},
   "outputs": [],
   "source": [
    "# TABLE 6\n",
    "\n",
    "df6.at[4, 'end_time'] = '12:04'\n",
    "df6.at[4, 'duration'] = '5.73'\n",
    "df6 = df6.drop(5)\n",
    "df6 = df6.drop(6)\n",
    "df6 = df6.drop(7)"
   ]
  },
  {
   "cell_type": "code",
   "execution_count": 41,
   "metadata": {},
   "outputs": [],
   "source": [
    "df6.at[8, 'end_time'] = '07:02'\n",
    "df6.at[8, 'duration'] = '2.29'\n",
    "df6 = df6.drop(9)"
   ]
  },
  {
   "cell_type": "code",
   "execution_count": 42,
   "metadata": {},
   "outputs": [],
   "source": [
    "df6.at[13, 'end_time'] = '21:55'\n",
    "df6.at[13, 'duration'] = '2.52'\n",
    "df6 = df6.drop(14)"
   ]
  },
  {
   "cell_type": "code",
   "execution_count": 43,
   "metadata": {},
   "outputs": [],
   "source": [
    "df6.at[19, 'end_date'] = '2021-10-26'\n",
    "df6.at[19, 'end_time'] = '07:06'\n",
    "df6.at[19, 'duration'] = '14.42'\n",
    "df6 = df6.drop(20)\n",
    "df6 = df6.drop(21)\n",
    "df6 = df6.drop(22)\n",
    "df6 = df6.drop(23)\n",
    "df6 = df6.drop(24)\n",
    "df6 = df6.drop(25)\n",
    "df6 = df6.drop(26)\n",
    "df6 = df6.drop(27)"
   ]
  },
  {
   "cell_type": "code",
   "execution_count": 44,
   "metadata": {},
   "outputs": [],
   "source": [
    "# TABLE 7\n",
    "\n",
    "df7.at[0, 'end_date'] = '2021-10-30'\n",
    "df7.at[0, 'end_time'] = '05:43'\n",
    "df7.at[0, 'duration'] = '10.89'\n",
    "df7 = df7.drop(1)"
   ]
  },
  {
   "cell_type": "code",
   "execution_count": 45,
   "metadata": {},
   "outputs": [],
   "source": [
    "df7.at[2, 'end_time'] = '19:29'\n",
    "df7.at[2, 'duration'] = '1.74'\n",
    "df7 = df7.drop(3)"
   ]
  },
  {
   "cell_type": "code",
   "execution_count": 46,
   "metadata": {},
   "outputs": [],
   "source": [
    "df7.at[5, 'end_time'] = '15:55'\n",
    "df7.at[5, 'duration'] = '29.26'\n",
    "df7 = df7.drop(6)"
   ]
  },
  {
   "cell_type": "code",
   "execution_count": 47,
   "metadata": {},
   "outputs": [],
   "source": [
    "df7.at[11, 'end_time'] = '09:19'\n",
    "df7.at[11, 'duration'] = '4.03'\n",
    "df7 = df7.drop(12)"
   ]
  },
  {
   "cell_type": "code",
   "execution_count": 48,
   "metadata": {},
   "outputs": [],
   "source": [
    "df7.at[13, 'end_time'] = '22:40'\n",
    "df7.at[13, 'duration'] = '0.74'\n",
    "df7 = df7.drop(14)\n",
    "df7 = df7.drop(15)\n",
    "df7 = df7.drop(16)\n",
    "df7 = df7.drop(17)"
   ]
  },
  {
   "cell_type": "code",
   "execution_count": 49,
   "metadata": {},
   "outputs": [],
   "source": [
    "df7.at[19, 'end_time'] = '06:25'\n",
    "df7.at[19, 'duration'] = '2.68'\n",
    "df7 = df7.drop(20)"
   ]
  },
  {
   "cell_type": "code",
   "execution_count": 50,
   "metadata": {},
   "outputs": [],
   "source": [
    "df7.at[25, 'end_time'] = '15:26'\n",
    "df7.at[25, 'duration'] = '1.08'\n",
    "df7 = df7.drop(26)"
   ]
  },
  {
   "cell_type": "code",
   "execution_count": 51,
   "metadata": {},
   "outputs": [],
   "source": [
    "result = pd.concat([df1, df2, df3, df4, df5, df6, df7])\n",
    "result = result.astype({'event_id':'int'})\n",
    "result = result.sort_values(by=['event_id'])"
   ]
  },
  {
   "cell_type": "code",
   "execution_count": 52,
   "metadata": {},
   "outputs": [
    {
     "output_type": "execute_result",
     "data": {
      "text/plain": [
       "    event_id location  start_date start_time    end_date end_time duration  \\\n",
       "0          1    HCG03  2021-01-02      00:17  2021-01-02    04:37     3.86   \n",
       "2          2    HCG14  2021-01-02      01:06  2021-01-02    02:20     1.23   \n",
       "3          3        S  2021-01-02      01:48  2021-01-02    20:37    15.13   \n",
       "5          4    HCG03  2021-02-27      06:46  2021-02-27    09:46      3.0   \n",
       "6          5    HCG14  2021-02-27      07:34  2021-02-27    09:13     0.69   \n",
       "..       ...      ...         ...        ...         ...      ...      ...   \n",
       "21       144    HCG14  2021-12-11      04:30  2021-12-11    06:10     1.68   \n",
       "22       145    DC011  2021-12-11      05:17  2021-12-11    06:42     1.42   \n",
       "23       146    DC012  2021-12-11      05:24  2021-12-11    06:04     0.67   \n",
       "24       147        S  2021-12-11      05:40  2021-12-11    14:03     8.38   \n",
       "25       148    HCG03  2021-12-25      13:24  2021-12-25    15:26     1.08   \n",
       "\n",
       "    volume disinfection reason_code  \n",
       "0      n/a           No       1,2,7  \n",
       "2      n/a           No       1,2,7  \n",
       "3   50.877           No       1,2,7  \n",
       "5      n/a           No       1,2,7  \n",
       "6      n/a           No       1,2,7  \n",
       "..     ...          ...         ...  \n",
       "21     n/a           No         1,7  \n",
       "22   0.106           No         1,7  \n",
       "23   0.038           No         1,7  \n",
       "24  65.643           No         1,7  \n",
       "25     n/a           No         1,7  \n",
       "\n",
       "[149 rows x 10 columns]"
      ],
      "text/html": "<div>\n<style scoped>\n    .dataframe tbody tr th:only-of-type {\n        vertical-align: middle;\n    }\n\n    .dataframe tbody tr th {\n        vertical-align: top;\n    }\n\n    .dataframe thead th {\n        text-align: right;\n    }\n</style>\n<table border=\"1\" class=\"dataframe\">\n  <thead>\n    <tr style=\"text-align: right;\">\n      <th></th>\n      <th>event_id</th>\n      <th>location</th>\n      <th>start_date</th>\n      <th>start_time</th>\n      <th>end_date</th>\n      <th>end_time</th>\n      <th>duration</th>\n      <th>volume</th>\n      <th>disinfection</th>\n      <th>reason_code</th>\n    </tr>\n  </thead>\n  <tbody>\n    <tr>\n      <th>0</th>\n      <td>1</td>\n      <td>HCG03</td>\n      <td>2021-01-02</td>\n      <td>00:17</td>\n      <td>2021-01-02</td>\n      <td>04:37</td>\n      <td>3.86</td>\n      <td>n/a</td>\n      <td>No</td>\n      <td>1,2,7</td>\n    </tr>\n    <tr>\n      <th>2</th>\n      <td>2</td>\n      <td>HCG14</td>\n      <td>2021-01-02</td>\n      <td>01:06</td>\n      <td>2021-01-02</td>\n      <td>02:20</td>\n      <td>1.23</td>\n      <td>n/a</td>\n      <td>No</td>\n      <td>1,2,7</td>\n    </tr>\n    <tr>\n      <th>3</th>\n      <td>3</td>\n      <td>S</td>\n      <td>2021-01-02</td>\n      <td>01:48</td>\n      <td>2021-01-02</td>\n      <td>20:37</td>\n      <td>15.13</td>\n      <td>50.877</td>\n      <td>No</td>\n      <td>1,2,7</td>\n    </tr>\n    <tr>\n      <th>5</th>\n      <td>4</td>\n      <td>HCG03</td>\n      <td>2021-02-27</td>\n      <td>06:46</td>\n      <td>2021-02-27</td>\n      <td>09:46</td>\n      <td>3.0</td>\n      <td>n/a</td>\n      <td>No</td>\n      <td>1,2,7</td>\n    </tr>\n    <tr>\n      <th>6</th>\n      <td>5</td>\n      <td>HCG14</td>\n      <td>2021-02-27</td>\n      <td>07:34</td>\n      <td>2021-02-27</td>\n      <td>09:13</td>\n      <td>0.69</td>\n      <td>n/a</td>\n      <td>No</td>\n      <td>1,2,7</td>\n    </tr>\n    <tr>\n      <th>...</th>\n      <td>...</td>\n      <td>...</td>\n      <td>...</td>\n      <td>...</td>\n      <td>...</td>\n      <td>...</td>\n      <td>...</td>\n      <td>...</td>\n      <td>...</td>\n      <td>...</td>\n    </tr>\n    <tr>\n      <th>21</th>\n      <td>144</td>\n      <td>HCG14</td>\n      <td>2021-12-11</td>\n      <td>04:30</td>\n      <td>2021-12-11</td>\n      <td>06:10</td>\n      <td>1.68</td>\n      <td>n/a</td>\n      <td>No</td>\n      <td>1,7</td>\n    </tr>\n    <tr>\n      <th>22</th>\n      <td>145</td>\n      <td>DC011</td>\n      <td>2021-12-11</td>\n      <td>05:17</td>\n      <td>2021-12-11</td>\n      <td>06:42</td>\n      <td>1.42</td>\n      <td>0.106</td>\n      <td>No</td>\n      <td>1,7</td>\n    </tr>\n    <tr>\n      <th>23</th>\n      <td>146</td>\n      <td>DC012</td>\n      <td>2021-12-11</td>\n      <td>05:24</td>\n      <td>2021-12-11</td>\n      <td>06:04</td>\n      <td>0.67</td>\n      <td>0.038</td>\n      <td>No</td>\n      <td>1,7</td>\n    </tr>\n    <tr>\n      <th>24</th>\n      <td>147</td>\n      <td>S</td>\n      <td>2021-12-11</td>\n      <td>05:40</td>\n      <td>2021-12-11</td>\n      <td>14:03</td>\n      <td>8.38</td>\n      <td>65.643</td>\n      <td>No</td>\n      <td>1,7</td>\n    </tr>\n    <tr>\n      <th>25</th>\n      <td>148</td>\n      <td>HCG03</td>\n      <td>2021-12-25</td>\n      <td>13:24</td>\n      <td>2021-12-25</td>\n      <td>15:26</td>\n      <td>1.08</td>\n      <td>n/a</td>\n      <td>No</td>\n      <td>1,7</td>\n    </tr>\n  </tbody>\n</table>\n<p>149 rows × 10 columns</p>\n</div>"
     },
     "metadata": {},
     "execution_count": 52
    }
   ],
   "source": [
    "result"
   ]
  },
  {
   "cell_type": "code",
   "execution_count": 53,
   "metadata": {},
   "outputs": [],
   "source": [
    "result.to_csv('../data/2021-bypass-overflow.csv', index=False)"
   ]
  }
 ]
}